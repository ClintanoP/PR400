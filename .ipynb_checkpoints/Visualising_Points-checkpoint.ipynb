{
 "cells": [
  {
   "cell_type": "code",
   "execution_count": 13,
   "id": "91a60e7a",
   "metadata": {},
   "outputs": [
    {
     "data": {
      "application/vnd.plotly.v1+json": {
       "config": {
        "plotlyServerURL": "https://plot.ly"
       },
       "data": [
        {
         "mode": "markers",
         "name": "Points",
         "type": "scatter3d",
         "x": [
          1.6832117407605616,
          1.6550523644468482,
          1.6726536389086584,
          1.6937698426124643,
          1.6832117407605616,
          1.8451314830958925,
          1.936646127583982,
          1.9929648802114086,
          2.0387255309869325,
          1.8873705475664628,
          2.014087740978173,
          2.0774430091525486,
          2.13024683253798,
          1.9084867512702683,
          2.031689015439983,
          2.102087456224267,
          2.144326520694837,
          1.9084867512702683,
          2.0000080528213164,
          2.0492836328388355,
          2.102087456224267
         ],
         "y": [
          1.6735523424080325,
          1.5749945253100355,
          1.4623570200551819,
          1.3673207892621388,
          1.2863575895629942,
          1.465878606360136,
          1.3919585792708984,
          1.3391614129484255,
          1.3039588640248045,
          1.5257189452925162,
          1.451798918203279,
          1.4236395418895658,
          1.4025166811228016,
          1.5855592842248967,
          1.5362770471444192,
          1.5257189452925162,
          1.504596084525752,
          1.6489145523992728,
          1.670037413166037,
          1.68059551501794,
          1.7017117187217456
         ],
         "z": [
          1.6819602129243965,
          1.7515797773425559,
          1.7887062174611326,
          1.7515797773425559,
          1.691240158688301,
          1.6866001858063486,
          1.7098067072790686,
          1.6773202400424443,
          1.672680267160492,
          1.6401871428609092,
          1.6077006756242846,
          1.5752142083876601,
          1.5659276055607974,
          1.5705742355057077,
          1.5288011654422207,
          1.5009546710875483,
          1.4963146982055961,
          1.5148745897334053,
          1.4591816010240612,
          1.4220551609054846,
          1.3988486394327646
         ]
        },
        {
         "line": {
          "color": "blue"
         },
         "mode": "lines",
         "name": "Thumb",
         "type": "scatter3d",
         "x": [
          1.6550523644468482,
          1.6726536389086584,
          1.6937698426124643,
          1.6832117407605616
         ],
         "y": [
          1.5749945253100355,
          1.4623570200551819,
          1.3673207892621388,
          1.2863575895629942
         ],
         "z": [
          1.7515797773425559,
          1.7887062174611326,
          1.7515797773425559,
          1.691240158688301
         ]
        },
        {
         "line": {
          "color": "green"
         },
         "mode": "lines",
         "name": "Index",
         "type": "scatter3d",
         "x": [
          1.8451314830958925,
          1.936646127583982,
          1.9929648802114086,
          2.0387255309869325
         ],
         "y": [
          1.465878606360136,
          1.3919585792708984,
          1.3391614129484255,
          1.3039588640248045
         ],
         "z": [
          1.6866001858063486,
          1.7098067072790686,
          1.6773202400424443,
          1.672680267160492
         ]
        },
        {
         "line": {
          "color": "red"
         },
         "mode": "lines",
         "name": "Middle",
         "type": "scatter3d",
         "x": [
          1.8873705475664628,
          2.014087740978173,
          2.0774430091525486,
          2.13024683253798
         ],
         "y": [
          1.5257189452925162,
          1.451798918203279,
          1.4236395418895658,
          1.4025166811228016
         ],
         "z": [
          1.6401871428609092,
          1.6077006756242846,
          1.5752142083876601,
          1.5659276055607974
         ]
        },
        {
         "line": {
          "color": "orange"
         },
         "mode": "lines",
         "name": "Ring",
         "type": "scatter3d",
         "x": [
          1.9084867512702683,
          2.031689015439983,
          2.102087456224267,
          2.144326520694837
         ],
         "y": [
          1.5855592842248967,
          1.5362770471444192,
          1.5257189452925162,
          1.504596084525752
         ],
         "z": [
          1.5705742355057077,
          1.5288011654422207,
          1.5009546710875483,
          1.4963146982055961
         ]
        },
        {
         "line": {
          "color": "yellow"
         },
         "mode": "lines",
         "name": "Pinky",
         "type": "scatter3d",
         "x": [
          1.9084867512702683,
          2.0000080528213164,
          2.0492836328388355,
          2.102087456224267
         ],
         "y": [
          1.6489145523992728,
          1.670037413166037,
          1.68059551501794,
          1.7017117187217456
         ],
         "z": [
          1.5148745897334053,
          1.4591816010240612,
          1.4220551609054846,
          1.3988486394327646
         ]
        },
        {
         "line": {
          "color": "pink"
         },
         "mode": "lines",
         "name": "Wrist to 1",
         "type": "scatter3d",
         "x": [
          1.6832117407605616,
          1.6550523644468482
         ],
         "y": [
          1.6735523424080325,
          1.5749945253100355
         ],
         "z": [
          1.6819602129243965,
          1.7515797773425559
         ]
        },
        {
         "line": {
          "color": "pink"
         },
         "mode": "lines",
         "name": "Wrist to 5",
         "type": "scatter3d",
         "x": [
          1.6832117407605616,
          1.8451314830958925
         ],
         "y": [
          1.6735523424080325,
          1.465878606360136
         ],
         "z": [
          1.6819602129243965,
          1.6866001858063486
         ]
        },
        {
         "line": {
          "color": "pink"
         },
         "mode": "lines",
         "name": "Wrist to 9",
         "type": "scatter3d",
         "x": [
          1.6832117407605616,
          1.8873705475664628
         ],
         "y": [
          1.6735523424080325,
          1.5257189452925162
         ],
         "z": [
          1.6819602129243965,
          1.6401871428609092
         ]
        },
        {
         "line": {
          "color": "pink"
         },
         "mode": "lines",
         "name": "Wrist to 13",
         "type": "scatter3d",
         "x": [
          1.6832117407605616,
          1.9084867512702683
         ],
         "y": [
          1.6735523424080325,
          1.5855592842248967
         ],
         "z": [
          1.6819602129243965,
          1.5705742355057077
         ]
        },
        {
         "line": {
          "color": "pink"
         },
         "mode": "lines",
         "name": "Wrist to 17",
         "type": "scatter3d",
         "x": [
          1.6832117407605616,
          1.9084867512702683
         ],
         "y": [
          1.6735523424080325,
          1.6489145523992728
         ],
         "z": [
          1.6819602129243965,
          1.5148745897334053
         ]
        }
       ],
       "layout": {
        "scene": {
         "xaxis": {
          "title": {
           "text": "X Axis"
          }
         },
         "yaxis": {
          "title": {
           "text": "Y Axis"
          }
         },
         "zaxis": {
          "title": {
           "text": "Z Axis"
          }
         }
        },
        "template": {
         "data": {
          "bar": [
           {
            "error_x": {
             "color": "#2a3f5f"
            },
            "error_y": {
             "color": "#2a3f5f"
            },
            "marker": {
             "line": {
              "color": "#E5ECF6",
              "width": 0.5
             },
             "pattern": {
              "fillmode": "overlay",
              "size": 10,
              "solidity": 0.2
             }
            },
            "type": "bar"
           }
          ],
          "barpolar": [
           {
            "marker": {
             "line": {
              "color": "#E5ECF6",
              "width": 0.5
             },
             "pattern": {
              "fillmode": "overlay",
              "size": 10,
              "solidity": 0.2
             }
            },
            "type": "barpolar"
           }
          ],
          "carpet": [
           {
            "aaxis": {
             "endlinecolor": "#2a3f5f",
             "gridcolor": "white",
             "linecolor": "white",
             "minorgridcolor": "white",
             "startlinecolor": "#2a3f5f"
            },
            "baxis": {
             "endlinecolor": "#2a3f5f",
             "gridcolor": "white",
             "linecolor": "white",
             "minorgridcolor": "white",
             "startlinecolor": "#2a3f5f"
            },
            "type": "carpet"
           }
          ],
          "choropleth": [
           {
            "colorbar": {
             "outlinewidth": 0,
             "ticks": ""
            },
            "type": "choropleth"
           }
          ],
          "contour": [
           {
            "colorbar": {
             "outlinewidth": 0,
             "ticks": ""
            },
            "colorscale": [
             [
              0,
              "#0d0887"
             ],
             [
              0.1111111111111111,
              "#46039f"
             ],
             [
              0.2222222222222222,
              "#7201a8"
             ],
             [
              0.3333333333333333,
              "#9c179e"
             ],
             [
              0.4444444444444444,
              "#bd3786"
             ],
             [
              0.5555555555555556,
              "#d8576b"
             ],
             [
              0.6666666666666666,
              "#ed7953"
             ],
             [
              0.7777777777777778,
              "#fb9f3a"
             ],
             [
              0.8888888888888888,
              "#fdca26"
             ],
             [
              1,
              "#f0f921"
             ]
            ],
            "type": "contour"
           }
          ],
          "contourcarpet": [
           {
            "colorbar": {
             "outlinewidth": 0,
             "ticks": ""
            },
            "type": "contourcarpet"
           }
          ],
          "heatmap": [
           {
            "colorbar": {
             "outlinewidth": 0,
             "ticks": ""
            },
            "colorscale": [
             [
              0,
              "#0d0887"
             ],
             [
              0.1111111111111111,
              "#46039f"
             ],
             [
              0.2222222222222222,
              "#7201a8"
             ],
             [
              0.3333333333333333,
              "#9c179e"
             ],
             [
              0.4444444444444444,
              "#bd3786"
             ],
             [
              0.5555555555555556,
              "#d8576b"
             ],
             [
              0.6666666666666666,
              "#ed7953"
             ],
             [
              0.7777777777777778,
              "#fb9f3a"
             ],
             [
              0.8888888888888888,
              "#fdca26"
             ],
             [
              1,
              "#f0f921"
             ]
            ],
            "type": "heatmap"
           }
          ],
          "heatmapgl": [
           {
            "colorbar": {
             "outlinewidth": 0,
             "ticks": ""
            },
            "colorscale": [
             [
              0,
              "#0d0887"
             ],
             [
              0.1111111111111111,
              "#46039f"
             ],
             [
              0.2222222222222222,
              "#7201a8"
             ],
             [
              0.3333333333333333,
              "#9c179e"
             ],
             [
              0.4444444444444444,
              "#bd3786"
             ],
             [
              0.5555555555555556,
              "#d8576b"
             ],
             [
              0.6666666666666666,
              "#ed7953"
             ],
             [
              0.7777777777777778,
              "#fb9f3a"
             ],
             [
              0.8888888888888888,
              "#fdca26"
             ],
             [
              1,
              "#f0f921"
             ]
            ],
            "type": "heatmapgl"
           }
          ],
          "histogram": [
           {
            "marker": {
             "pattern": {
              "fillmode": "overlay",
              "size": 10,
              "solidity": 0.2
             }
            },
            "type": "histogram"
           }
          ],
          "histogram2d": [
           {
            "colorbar": {
             "outlinewidth": 0,
             "ticks": ""
            },
            "colorscale": [
             [
              0,
              "#0d0887"
             ],
             [
              0.1111111111111111,
              "#46039f"
             ],
             [
              0.2222222222222222,
              "#7201a8"
             ],
             [
              0.3333333333333333,
              "#9c179e"
             ],
             [
              0.4444444444444444,
              "#bd3786"
             ],
             [
              0.5555555555555556,
              "#d8576b"
             ],
             [
              0.6666666666666666,
              "#ed7953"
             ],
             [
              0.7777777777777778,
              "#fb9f3a"
             ],
             [
              0.8888888888888888,
              "#fdca26"
             ],
             [
              1,
              "#f0f921"
             ]
            ],
            "type": "histogram2d"
           }
          ],
          "histogram2dcontour": [
           {
            "colorbar": {
             "outlinewidth": 0,
             "ticks": ""
            },
            "colorscale": [
             [
              0,
              "#0d0887"
             ],
             [
              0.1111111111111111,
              "#46039f"
             ],
             [
              0.2222222222222222,
              "#7201a8"
             ],
             [
              0.3333333333333333,
              "#9c179e"
             ],
             [
              0.4444444444444444,
              "#bd3786"
             ],
             [
              0.5555555555555556,
              "#d8576b"
             ],
             [
              0.6666666666666666,
              "#ed7953"
             ],
             [
              0.7777777777777778,
              "#fb9f3a"
             ],
             [
              0.8888888888888888,
              "#fdca26"
             ],
             [
              1,
              "#f0f921"
             ]
            ],
            "type": "histogram2dcontour"
           }
          ],
          "mesh3d": [
           {
            "colorbar": {
             "outlinewidth": 0,
             "ticks": ""
            },
            "type": "mesh3d"
           }
          ],
          "parcoords": [
           {
            "line": {
             "colorbar": {
              "outlinewidth": 0,
              "ticks": ""
             }
            },
            "type": "parcoords"
           }
          ],
          "pie": [
           {
            "automargin": true,
            "type": "pie"
           }
          ],
          "scatter": [
           {
            "fillpattern": {
             "fillmode": "overlay",
             "size": 10,
             "solidity": 0.2
            },
            "type": "scatter"
           }
          ],
          "scatter3d": [
           {
            "line": {
             "colorbar": {
              "outlinewidth": 0,
              "ticks": ""
             }
            },
            "marker": {
             "colorbar": {
              "outlinewidth": 0,
              "ticks": ""
             }
            },
            "type": "scatter3d"
           }
          ],
          "scattercarpet": [
           {
            "marker": {
             "colorbar": {
              "outlinewidth": 0,
              "ticks": ""
             }
            },
            "type": "scattercarpet"
           }
          ],
          "scattergeo": [
           {
            "marker": {
             "colorbar": {
              "outlinewidth": 0,
              "ticks": ""
             }
            },
            "type": "scattergeo"
           }
          ],
          "scattergl": [
           {
            "marker": {
             "colorbar": {
              "outlinewidth": 0,
              "ticks": ""
             }
            },
            "type": "scattergl"
           }
          ],
          "scattermapbox": [
           {
            "marker": {
             "colorbar": {
              "outlinewidth": 0,
              "ticks": ""
             }
            },
            "type": "scattermapbox"
           }
          ],
          "scatterpolar": [
           {
            "marker": {
             "colorbar": {
              "outlinewidth": 0,
              "ticks": ""
             }
            },
            "type": "scatterpolar"
           }
          ],
          "scatterpolargl": [
           {
            "marker": {
             "colorbar": {
              "outlinewidth": 0,
              "ticks": ""
             }
            },
            "type": "scatterpolargl"
           }
          ],
          "scatterternary": [
           {
            "marker": {
             "colorbar": {
              "outlinewidth": 0,
              "ticks": ""
             }
            },
            "type": "scatterternary"
           }
          ],
          "surface": [
           {
            "colorbar": {
             "outlinewidth": 0,
             "ticks": ""
            },
            "colorscale": [
             [
              0,
              "#0d0887"
             ],
             [
              0.1111111111111111,
              "#46039f"
             ],
             [
              0.2222222222222222,
              "#7201a8"
             ],
             [
              0.3333333333333333,
              "#9c179e"
             ],
             [
              0.4444444444444444,
              "#bd3786"
             ],
             [
              0.5555555555555556,
              "#d8576b"
             ],
             [
              0.6666666666666666,
              "#ed7953"
             ],
             [
              0.7777777777777778,
              "#fb9f3a"
             ],
             [
              0.8888888888888888,
              "#fdca26"
             ],
             [
              1,
              "#f0f921"
             ]
            ],
            "type": "surface"
           }
          ],
          "table": [
           {
            "cells": {
             "fill": {
              "color": "#EBF0F8"
             },
             "line": {
              "color": "white"
             }
            },
            "header": {
             "fill": {
              "color": "#C8D4E3"
             },
             "line": {
              "color": "white"
             }
            },
            "type": "table"
           }
          ]
         },
         "layout": {
          "annotationdefaults": {
           "arrowcolor": "#2a3f5f",
           "arrowhead": 0,
           "arrowwidth": 1
          },
          "autotypenumbers": "strict",
          "coloraxis": {
           "colorbar": {
            "outlinewidth": 0,
            "ticks": ""
           }
          },
          "colorscale": {
           "diverging": [
            [
             0,
             "#8e0152"
            ],
            [
             0.1,
             "#c51b7d"
            ],
            [
             0.2,
             "#de77ae"
            ],
            [
             0.3,
             "#f1b6da"
            ],
            [
             0.4,
             "#fde0ef"
            ],
            [
             0.5,
             "#f7f7f7"
            ],
            [
             0.6,
             "#e6f5d0"
            ],
            [
             0.7,
             "#b8e186"
            ],
            [
             0.8,
             "#7fbc41"
            ],
            [
             0.9,
             "#4d9221"
            ],
            [
             1,
             "#276419"
            ]
           ],
           "sequential": [
            [
             0,
             "#0d0887"
            ],
            [
             0.1111111111111111,
             "#46039f"
            ],
            [
             0.2222222222222222,
             "#7201a8"
            ],
            [
             0.3333333333333333,
             "#9c179e"
            ],
            [
             0.4444444444444444,
             "#bd3786"
            ],
            [
             0.5555555555555556,
             "#d8576b"
            ],
            [
             0.6666666666666666,
             "#ed7953"
            ],
            [
             0.7777777777777778,
             "#fb9f3a"
            ],
            [
             0.8888888888888888,
             "#fdca26"
            ],
            [
             1,
             "#f0f921"
            ]
           ],
           "sequentialminus": [
            [
             0,
             "#0d0887"
            ],
            [
             0.1111111111111111,
             "#46039f"
            ],
            [
             0.2222222222222222,
             "#7201a8"
            ],
            [
             0.3333333333333333,
             "#9c179e"
            ],
            [
             0.4444444444444444,
             "#bd3786"
            ],
            [
             0.5555555555555556,
             "#d8576b"
            ],
            [
             0.6666666666666666,
             "#ed7953"
            ],
            [
             0.7777777777777778,
             "#fb9f3a"
            ],
            [
             0.8888888888888888,
             "#fdca26"
            ],
            [
             1,
             "#f0f921"
            ]
           ]
          },
          "colorway": [
           "#636efa",
           "#EF553B",
           "#00cc96",
           "#ab63fa",
           "#FFA15A",
           "#19d3f3",
           "#FF6692",
           "#B6E880",
           "#FF97FF",
           "#FECB52"
          ],
          "font": {
           "color": "#2a3f5f"
          },
          "geo": {
           "bgcolor": "white",
           "lakecolor": "white",
           "landcolor": "#E5ECF6",
           "showlakes": true,
           "showland": true,
           "subunitcolor": "white"
          },
          "hoverlabel": {
           "align": "left"
          },
          "hovermode": "closest",
          "mapbox": {
           "style": "light"
          },
          "paper_bgcolor": "white",
          "plot_bgcolor": "#E5ECF6",
          "polar": {
           "angularaxis": {
            "gridcolor": "white",
            "linecolor": "white",
            "ticks": ""
           },
           "bgcolor": "#E5ECF6",
           "radialaxis": {
            "gridcolor": "white",
            "linecolor": "white",
            "ticks": ""
           }
          },
          "scene": {
           "xaxis": {
            "backgroundcolor": "#E5ECF6",
            "gridcolor": "white",
            "gridwidth": 2,
            "linecolor": "white",
            "showbackground": true,
            "ticks": "",
            "zerolinecolor": "white"
           },
           "yaxis": {
            "backgroundcolor": "#E5ECF6",
            "gridcolor": "white",
            "gridwidth": 2,
            "linecolor": "white",
            "showbackground": true,
            "ticks": "",
            "zerolinecolor": "white"
           },
           "zaxis": {
            "backgroundcolor": "#E5ECF6",
            "gridcolor": "white",
            "gridwidth": 2,
            "linecolor": "white",
            "showbackground": true,
            "ticks": "",
            "zerolinecolor": "white"
           }
          },
          "shapedefaults": {
           "line": {
            "color": "#2a3f5f"
           }
          },
          "ternary": {
           "aaxis": {
            "gridcolor": "white",
            "linecolor": "white",
            "ticks": ""
           },
           "baxis": {
            "gridcolor": "white",
            "linecolor": "white",
            "ticks": ""
           },
           "bgcolor": "#E5ECF6",
           "caxis": {
            "gridcolor": "white",
            "linecolor": "white",
            "ticks": ""
           }
          },
          "title": {
           "x": 0.05
          },
          "xaxis": {
           "automargin": true,
           "gridcolor": "white",
           "linecolor": "white",
           "ticks": "",
           "title": {
            "standoff": 15
           },
           "zerolinecolor": "white",
           "zerolinewidth": 2
          },
          "yaxis": {
           "automargin": true,
           "gridcolor": "white",
           "linecolor": "white",
           "ticks": "",
           "title": {
            "standoff": 15
           },
           "zerolinecolor": "white",
           "zerolinewidth": 2
          }
         }
        },
        "title": {
         "text": "3D Plot of Hand Skeleton"
        }
       }
      },
      "text/html": [
       "<div>                            <div id=\"bfca90d2-15e0-4905-9bd6-759dde4e609b\" class=\"plotly-graph-div\" style=\"height:525px; width:100%;\"></div>            <script type=\"text/javascript\">                require([\"plotly\"], function(Plotly) {                    window.PLOTLYENV=window.PLOTLYENV || {};                                    if (document.getElementById(\"bfca90d2-15e0-4905-9bd6-759dde4e609b\")) {                    Plotly.newPlot(                        \"bfca90d2-15e0-4905-9bd6-759dde4e609b\",                        [{\"mode\":\"markers\",\"name\":\"Points\",\"x\":[1.6832117407605616,1.6550523644468482,1.6726536389086584,1.6937698426124643,1.6832117407605616,1.8451314830958925,1.936646127583982,1.9929648802114086,2.0387255309869325,1.8873705475664628,2.014087740978173,2.0774430091525486,2.13024683253798,1.9084867512702683,2.031689015439983,2.102087456224267,2.144326520694837,1.9084867512702683,2.0000080528213164,2.0492836328388355,2.102087456224267],\"y\":[1.6735523424080325,1.5749945253100355,1.4623570200551819,1.3673207892621388,1.2863575895629942,1.465878606360136,1.3919585792708984,1.3391614129484255,1.3039588640248045,1.5257189452925162,1.451798918203279,1.4236395418895658,1.4025166811228016,1.5855592842248967,1.5362770471444192,1.5257189452925162,1.504596084525752,1.6489145523992728,1.670037413166037,1.68059551501794,1.7017117187217456],\"z\":[1.6819602129243965,1.7515797773425559,1.7887062174611326,1.7515797773425559,1.691240158688301,1.6866001858063486,1.7098067072790686,1.6773202400424443,1.672680267160492,1.6401871428609092,1.6077006756242846,1.5752142083876601,1.5659276055607974,1.5705742355057077,1.5288011654422207,1.5009546710875483,1.4963146982055961,1.5148745897334053,1.4591816010240612,1.4220551609054846,1.3988486394327646],\"type\":\"scatter3d\"},{\"line\":{\"color\":\"blue\"},\"mode\":\"lines\",\"name\":\"Thumb\",\"x\":[1.6550523644468482,1.6726536389086584,1.6937698426124643,1.6832117407605616],\"y\":[1.5749945253100355,1.4623570200551819,1.3673207892621388,1.2863575895629942],\"z\":[1.7515797773425559,1.7887062174611326,1.7515797773425559,1.691240158688301],\"type\":\"scatter3d\"},{\"line\":{\"color\":\"green\"},\"mode\":\"lines\",\"name\":\"Index\",\"x\":[1.8451314830958925,1.936646127583982,1.9929648802114086,2.0387255309869325],\"y\":[1.465878606360136,1.3919585792708984,1.3391614129484255,1.3039588640248045],\"z\":[1.6866001858063486,1.7098067072790686,1.6773202400424443,1.672680267160492],\"type\":\"scatter3d\"},{\"line\":{\"color\":\"red\"},\"mode\":\"lines\",\"name\":\"Middle\",\"x\":[1.8873705475664628,2.014087740978173,2.0774430091525486,2.13024683253798],\"y\":[1.5257189452925162,1.451798918203279,1.4236395418895658,1.4025166811228016],\"z\":[1.6401871428609092,1.6077006756242846,1.5752142083876601,1.5659276055607974],\"type\":\"scatter3d\"},{\"line\":{\"color\":\"orange\"},\"mode\":\"lines\",\"name\":\"Ring\",\"x\":[1.9084867512702683,2.031689015439983,2.102087456224267,2.144326520694837],\"y\":[1.5855592842248967,1.5362770471444192,1.5257189452925162,1.504596084525752],\"z\":[1.5705742355057077,1.5288011654422207,1.5009546710875483,1.4963146982055961],\"type\":\"scatter3d\"},{\"line\":{\"color\":\"yellow\"},\"mode\":\"lines\",\"name\":\"Pinky\",\"x\":[1.9084867512702683,2.0000080528213164,2.0492836328388355,2.102087456224267],\"y\":[1.6489145523992728,1.670037413166037,1.68059551501794,1.7017117187217456],\"z\":[1.5148745897334053,1.4591816010240612,1.4220551609054846,1.3988486394327646],\"type\":\"scatter3d\"},{\"line\":{\"color\":\"pink\"},\"mode\":\"lines\",\"name\":\"Wrist to 1\",\"x\":[1.6832117407605616,1.6550523644468482],\"y\":[1.6735523424080325,1.5749945253100355],\"z\":[1.6819602129243965,1.7515797773425559],\"type\":\"scatter3d\"},{\"line\":{\"color\":\"pink\"},\"mode\":\"lines\",\"name\":\"Wrist to 5\",\"x\":[1.6832117407605616,1.8451314830958925],\"y\":[1.6735523424080325,1.465878606360136],\"z\":[1.6819602129243965,1.6866001858063486],\"type\":\"scatter3d\"},{\"line\":{\"color\":\"pink\"},\"mode\":\"lines\",\"name\":\"Wrist to 9\",\"x\":[1.6832117407605616,1.8873705475664628],\"y\":[1.6735523424080325,1.5257189452925162],\"z\":[1.6819602129243965,1.6401871428609092],\"type\":\"scatter3d\"},{\"line\":{\"color\":\"pink\"},\"mode\":\"lines\",\"name\":\"Wrist to 13\",\"x\":[1.6832117407605616,1.9084867512702683],\"y\":[1.6735523424080325,1.5855592842248967],\"z\":[1.6819602129243965,1.5705742355057077],\"type\":\"scatter3d\"},{\"line\":{\"color\":\"pink\"},\"mode\":\"lines\",\"name\":\"Wrist to 17\",\"x\":[1.6832117407605616,1.9084867512702683],\"y\":[1.6735523424080325,1.6489145523992728],\"z\":[1.6819602129243965,1.5148745897334053],\"type\":\"scatter3d\"}],                        {\"template\":{\"data\":{\"histogram2dcontour\":[{\"type\":\"histogram2dcontour\",\"colorbar\":{\"outlinewidth\":0,\"ticks\":\"\"},\"colorscale\":[[0.0,\"#0d0887\"],[0.1111111111111111,\"#46039f\"],[0.2222222222222222,\"#7201a8\"],[0.3333333333333333,\"#9c179e\"],[0.4444444444444444,\"#bd3786\"],[0.5555555555555556,\"#d8576b\"],[0.6666666666666666,\"#ed7953\"],[0.7777777777777778,\"#fb9f3a\"],[0.8888888888888888,\"#fdca26\"],[1.0,\"#f0f921\"]]}],\"choropleth\":[{\"type\":\"choropleth\",\"colorbar\":{\"outlinewidth\":0,\"ticks\":\"\"}}],\"histogram2d\":[{\"type\":\"histogram2d\",\"colorbar\":{\"outlinewidth\":0,\"ticks\":\"\"},\"colorscale\":[[0.0,\"#0d0887\"],[0.1111111111111111,\"#46039f\"],[0.2222222222222222,\"#7201a8\"],[0.3333333333333333,\"#9c179e\"],[0.4444444444444444,\"#bd3786\"],[0.5555555555555556,\"#d8576b\"],[0.6666666666666666,\"#ed7953\"],[0.7777777777777778,\"#fb9f3a\"],[0.8888888888888888,\"#fdca26\"],[1.0,\"#f0f921\"]]}],\"heatmap\":[{\"type\":\"heatmap\",\"colorbar\":{\"outlinewidth\":0,\"ticks\":\"\"},\"colorscale\":[[0.0,\"#0d0887\"],[0.1111111111111111,\"#46039f\"],[0.2222222222222222,\"#7201a8\"],[0.3333333333333333,\"#9c179e\"],[0.4444444444444444,\"#bd3786\"],[0.5555555555555556,\"#d8576b\"],[0.6666666666666666,\"#ed7953\"],[0.7777777777777778,\"#fb9f3a\"],[0.8888888888888888,\"#fdca26\"],[1.0,\"#f0f921\"]]}],\"heatmapgl\":[{\"type\":\"heatmapgl\",\"colorbar\":{\"outlinewidth\":0,\"ticks\":\"\"},\"colorscale\":[[0.0,\"#0d0887\"],[0.1111111111111111,\"#46039f\"],[0.2222222222222222,\"#7201a8\"],[0.3333333333333333,\"#9c179e\"],[0.4444444444444444,\"#bd3786\"],[0.5555555555555556,\"#d8576b\"],[0.6666666666666666,\"#ed7953\"],[0.7777777777777778,\"#fb9f3a\"],[0.8888888888888888,\"#fdca26\"],[1.0,\"#f0f921\"]]}],\"contourcarpet\":[{\"type\":\"contourcarpet\",\"colorbar\":{\"outlinewidth\":0,\"ticks\":\"\"}}],\"contour\":[{\"type\":\"contour\",\"colorbar\":{\"outlinewidth\":0,\"ticks\":\"\"},\"colorscale\":[[0.0,\"#0d0887\"],[0.1111111111111111,\"#46039f\"],[0.2222222222222222,\"#7201a8\"],[0.3333333333333333,\"#9c179e\"],[0.4444444444444444,\"#bd3786\"],[0.5555555555555556,\"#d8576b\"],[0.6666666666666666,\"#ed7953\"],[0.7777777777777778,\"#fb9f3a\"],[0.8888888888888888,\"#fdca26\"],[1.0,\"#f0f921\"]]}],\"surface\":[{\"type\":\"surface\",\"colorbar\":{\"outlinewidth\":0,\"ticks\":\"\"},\"colorscale\":[[0.0,\"#0d0887\"],[0.1111111111111111,\"#46039f\"],[0.2222222222222222,\"#7201a8\"],[0.3333333333333333,\"#9c179e\"],[0.4444444444444444,\"#bd3786\"],[0.5555555555555556,\"#d8576b\"],[0.6666666666666666,\"#ed7953\"],[0.7777777777777778,\"#fb9f3a\"],[0.8888888888888888,\"#fdca26\"],[1.0,\"#f0f921\"]]}],\"mesh3d\":[{\"type\":\"mesh3d\",\"colorbar\":{\"outlinewidth\":0,\"ticks\":\"\"}}],\"scatter\":[{\"fillpattern\":{\"fillmode\":\"overlay\",\"size\":10,\"solidity\":0.2},\"type\":\"scatter\"}],\"parcoords\":[{\"type\":\"parcoords\",\"line\":{\"colorbar\":{\"outlinewidth\":0,\"ticks\":\"\"}}}],\"scatterpolargl\":[{\"type\":\"scatterpolargl\",\"marker\":{\"colorbar\":{\"outlinewidth\":0,\"ticks\":\"\"}}}],\"bar\":[{\"error_x\":{\"color\":\"#2a3f5f\"},\"error_y\":{\"color\":\"#2a3f5f\"},\"marker\":{\"line\":{\"color\":\"#E5ECF6\",\"width\":0.5},\"pattern\":{\"fillmode\":\"overlay\",\"size\":10,\"solidity\":0.2}},\"type\":\"bar\"}],\"scattergeo\":[{\"type\":\"scattergeo\",\"marker\":{\"colorbar\":{\"outlinewidth\":0,\"ticks\":\"\"}}}],\"scatterpolar\":[{\"type\":\"scatterpolar\",\"marker\":{\"colorbar\":{\"outlinewidth\":0,\"ticks\":\"\"}}}],\"histogram\":[{\"marker\":{\"pattern\":{\"fillmode\":\"overlay\",\"size\":10,\"solidity\":0.2}},\"type\":\"histogram\"}],\"scattergl\":[{\"type\":\"scattergl\",\"marker\":{\"colorbar\":{\"outlinewidth\":0,\"ticks\":\"\"}}}],\"scatter3d\":[{\"type\":\"scatter3d\",\"line\":{\"colorbar\":{\"outlinewidth\":0,\"ticks\":\"\"}},\"marker\":{\"colorbar\":{\"outlinewidth\":0,\"ticks\":\"\"}}}],\"scattermapbox\":[{\"type\":\"scattermapbox\",\"marker\":{\"colorbar\":{\"outlinewidth\":0,\"ticks\":\"\"}}}],\"scatterternary\":[{\"type\":\"scatterternary\",\"marker\":{\"colorbar\":{\"outlinewidth\":0,\"ticks\":\"\"}}}],\"scattercarpet\":[{\"type\":\"scattercarpet\",\"marker\":{\"colorbar\":{\"outlinewidth\":0,\"ticks\":\"\"}}}],\"carpet\":[{\"aaxis\":{\"endlinecolor\":\"#2a3f5f\",\"gridcolor\":\"white\",\"linecolor\":\"white\",\"minorgridcolor\":\"white\",\"startlinecolor\":\"#2a3f5f\"},\"baxis\":{\"endlinecolor\":\"#2a3f5f\",\"gridcolor\":\"white\",\"linecolor\":\"white\",\"minorgridcolor\":\"white\",\"startlinecolor\":\"#2a3f5f\"},\"type\":\"carpet\"}],\"table\":[{\"cells\":{\"fill\":{\"color\":\"#EBF0F8\"},\"line\":{\"color\":\"white\"}},\"header\":{\"fill\":{\"color\":\"#C8D4E3\"},\"line\":{\"color\":\"white\"}},\"type\":\"table\"}],\"barpolar\":[{\"marker\":{\"line\":{\"color\":\"#E5ECF6\",\"width\":0.5},\"pattern\":{\"fillmode\":\"overlay\",\"size\":10,\"solidity\":0.2}},\"type\":\"barpolar\"}],\"pie\":[{\"automargin\":true,\"type\":\"pie\"}]},\"layout\":{\"autotypenumbers\":\"strict\",\"colorway\":[\"#636efa\",\"#EF553B\",\"#00cc96\",\"#ab63fa\",\"#FFA15A\",\"#19d3f3\",\"#FF6692\",\"#B6E880\",\"#FF97FF\",\"#FECB52\"],\"font\":{\"color\":\"#2a3f5f\"},\"hovermode\":\"closest\",\"hoverlabel\":{\"align\":\"left\"},\"paper_bgcolor\":\"white\",\"plot_bgcolor\":\"#E5ECF6\",\"polar\":{\"bgcolor\":\"#E5ECF6\",\"angularaxis\":{\"gridcolor\":\"white\",\"linecolor\":\"white\",\"ticks\":\"\"},\"radialaxis\":{\"gridcolor\":\"white\",\"linecolor\":\"white\",\"ticks\":\"\"}},\"ternary\":{\"bgcolor\":\"#E5ECF6\",\"aaxis\":{\"gridcolor\":\"white\",\"linecolor\":\"white\",\"ticks\":\"\"},\"baxis\":{\"gridcolor\":\"white\",\"linecolor\":\"white\",\"ticks\":\"\"},\"caxis\":{\"gridcolor\":\"white\",\"linecolor\":\"white\",\"ticks\":\"\"}},\"coloraxis\":{\"colorbar\":{\"outlinewidth\":0,\"ticks\":\"\"}},\"colorscale\":{\"sequential\":[[0.0,\"#0d0887\"],[0.1111111111111111,\"#46039f\"],[0.2222222222222222,\"#7201a8\"],[0.3333333333333333,\"#9c179e\"],[0.4444444444444444,\"#bd3786\"],[0.5555555555555556,\"#d8576b\"],[0.6666666666666666,\"#ed7953\"],[0.7777777777777778,\"#fb9f3a\"],[0.8888888888888888,\"#fdca26\"],[1.0,\"#f0f921\"]],\"sequentialminus\":[[0.0,\"#0d0887\"],[0.1111111111111111,\"#46039f\"],[0.2222222222222222,\"#7201a8\"],[0.3333333333333333,\"#9c179e\"],[0.4444444444444444,\"#bd3786\"],[0.5555555555555556,\"#d8576b\"],[0.6666666666666666,\"#ed7953\"],[0.7777777777777778,\"#fb9f3a\"],[0.8888888888888888,\"#fdca26\"],[1.0,\"#f0f921\"]],\"diverging\":[[0,\"#8e0152\"],[0.1,\"#c51b7d\"],[0.2,\"#de77ae\"],[0.3,\"#f1b6da\"],[0.4,\"#fde0ef\"],[0.5,\"#f7f7f7\"],[0.6,\"#e6f5d0\"],[0.7,\"#b8e186\"],[0.8,\"#7fbc41\"],[0.9,\"#4d9221\"],[1,\"#276419\"]]},\"xaxis\":{\"gridcolor\":\"white\",\"linecolor\":\"white\",\"ticks\":\"\",\"title\":{\"standoff\":15},\"zerolinecolor\":\"white\",\"automargin\":true,\"zerolinewidth\":2},\"yaxis\":{\"gridcolor\":\"white\",\"linecolor\":\"white\",\"ticks\":\"\",\"title\":{\"standoff\":15},\"zerolinecolor\":\"white\",\"automargin\":true,\"zerolinewidth\":2},\"scene\":{\"xaxis\":{\"backgroundcolor\":\"#E5ECF6\",\"gridcolor\":\"white\",\"linecolor\":\"white\",\"showbackground\":true,\"ticks\":\"\",\"zerolinecolor\":\"white\",\"gridwidth\":2},\"yaxis\":{\"backgroundcolor\":\"#E5ECF6\",\"gridcolor\":\"white\",\"linecolor\":\"white\",\"showbackground\":true,\"ticks\":\"\",\"zerolinecolor\":\"white\",\"gridwidth\":2},\"zaxis\":{\"backgroundcolor\":\"#E5ECF6\",\"gridcolor\":\"white\",\"linecolor\":\"white\",\"showbackground\":true,\"ticks\":\"\",\"zerolinecolor\":\"white\",\"gridwidth\":2}},\"shapedefaults\":{\"line\":{\"color\":\"#2a3f5f\"}},\"annotationdefaults\":{\"arrowcolor\":\"#2a3f5f\",\"arrowhead\":0,\"arrowwidth\":1},\"geo\":{\"bgcolor\":\"white\",\"landcolor\":\"#E5ECF6\",\"subunitcolor\":\"white\",\"showland\":true,\"showlakes\":true,\"lakecolor\":\"white\"},\"title\":{\"x\":0.05},\"mapbox\":{\"style\":\"light\"}}},\"title\":{\"text\":\"3D Plot of Hand Skeleton\"},\"scene\":{\"xaxis\":{\"title\":{\"text\":\"X Axis\"}},\"yaxis\":{\"title\":{\"text\":\"Y Axis\"}},\"zaxis\":{\"title\":{\"text\":\"Z Axis\"}}}},                        {\"responsive\": true}                    ).then(function(){\n",
       "                            \n",
       "var gd = document.getElementById('bfca90d2-15e0-4905-9bd6-759dde4e609b');\n",
       "var x = new MutationObserver(function (mutations, observer) {{\n",
       "        var display = window.getComputedStyle(gd).display;\n",
       "        if (!display || display === 'none') {{\n",
       "            console.log([gd, 'removed!']);\n",
       "            Plotly.purge(gd);\n",
       "            observer.disconnect();\n",
       "        }}\n",
       "}});\n",
       "\n",
       "// Listen for the removal of the full notebook cells\n",
       "var notebookContainer = gd.closest('#notebook-container');\n",
       "if (notebookContainer) {{\n",
       "    x.observe(notebookContainer, {childList: true});\n",
       "}}\n",
       "\n",
       "// Listen for the clearing of the current output cell\n",
       "var outputEl = gd.closest('.output');\n",
       "if (outputEl) {{\n",
       "    x.observe(outputEl, {childList: true});\n",
       "}}\n",
       "\n",
       "                        })                };                });            </script>        </div>"
      ]
     },
     "metadata": {},
     "output_type": "display_data"
    }
   ],
   "source": [
    "import json\n",
    "import plotly.graph_objects as go\n",
    "\n",
    "# Load your data\n",
    "file_path = '/Users/ck/Documents/Year 4/PR400/asl-skeleton3d/normalized/3d/afraid-970031.json'\n",
    "with open(file_path, 'r') as file:\n",
    "    data_new = json.load(file)\n",
    "\n",
    "# Extract points\n",
    "x = data_new['frames'][2]['skeleton']['hand_right']['x']\n",
    "y = data_new['frames'][2]['skeleton']['hand_right']['y']\n",
    "z = data_new['frames'][2]['skeleton']['hand_right']['z']\n",
    "\n",
    "# Create Plotly figure\n",
    "fig = go.Figure()\n",
    "\n",
    "# Add scatter plot for points\n",
    "fig.add_trace(go.Scatter3d(x=x, y=y, z=z, mode='markers', name='Points'))\n",
    "\n",
    "# Add lines (converted from your ax.plot commands)\n",
    "fig.add_trace(go.Scatter3d(x=[x[1], x[2], x[3], x[4]], y=[y[1], y[2], y[3], y[4]], z=[z[1], z[2], z[3], z[4]], mode='lines', name='Thumb', line=dict(color='blue')))\n",
    "fig.add_trace(go.Scatter3d(x=[x[5], x[6], x[7], x[8]], y=[y[5], y[6], y[7], y[8]], z=[z[5], z[6], z[7], z[8]], mode='lines', name='Index', line=dict(color='green')))\n",
    "fig.add_trace(go.Scatter3d(x=[x[9], x[10], x[11], x[12]], y=[y[9], y[10], y[11], y[12]], z=[z[9], z[10], z[11], z[12]], mode='lines', name='Middle', line=dict(color='red')))\n",
    "fig.add_trace(go.Scatter3d(x=[x[13], x[14], x[15], x[16]], y=[y[13], y[14], y[15], y[16]], z=[z[13], z[14], z[15], z[16]], mode='lines', name='Ring', line=dict(color='orange')))\n",
    "fig.add_trace(go.Scatter3d(x=[x[17], x[18], x[19], x[20]], y=[y[17], y[18], y[19], y[20]], z=[z[17], z[18], z[19], z[20]], mode='lines', name='Pinky', line=dict(color='yellow')))\n",
    "\n",
    "# Adding lines connecting to the base point (x[0], y[0], z[0])\n",
    "colors = ['pink', 'pink', 'pink', 'pink', 'pink']\n",
    "for i, color in zip([1, 5, 9, 13, 17], colors):\n",
    "    fig.add_trace(go.Scatter3d(x=[x[0], x[i]], y=[y[0], y[i]], z=[z[0], z[i]], mode='lines', name=f'Wrist to {i}', line=dict(color=color)))\n",
    "\n",
    "# Customize layout\n",
    "fig.update_layout(\n",
    "    title=\"3D Plot of Hand Skeleton\",\n",
    "    scene=dict(\n",
    "        xaxis_title='X Axis',\n",
    "        yaxis_title='Y Axis',\n",
    "        zaxis_title='Z Axis'\n",
    "    )\n",
    ")\n",
    "\n",
    "# Show plot\n",
    "fig.show()\n"
   ]
  },
  {
   "cell_type": "code",
   "execution_count": 23,
   "id": "52e3a110",
   "metadata": {
    "scrolled": true
   },
   "outputs": [
    {
     "data": {
      "application/vnd.plotly.v1+json": {
       "config": {
        "plotlyServerURL": "https://plot.ly"
       },
       "data": [
        {
         "mode": "markers",
         "name": "Frame 1 Points",
         "scene": "scene",
         "type": "scatter3d",
         "x": [
          2.567564867276637,
          2.4537477113418245,
          2.339930555407012,
          2.2879032137468567,
          2.2391254203365727,
          2.365947683203312,
          2.3204194380428977,
          2.291152761996727,
          2.2423749685864425,
          2.414725476613597,
          2.3984708214317996,
          2.375703241885369,
          2.3334314589072713,
          2.417975024863467,
          2.395214359249483,
          2.3204194380428977,
          2.3074143311109707,
          2.3594416727711254,
          2.310663879360841,
          2.268392096382743,
          2.2391254203365727
         ],
         "y": [
          2.2185702991730323,
          2.2153138369907155,
          2.345392562039772,
          2.400669451949797,
          2.348642110289642,
          2.2998643168793578,
          2.3974199036999266,
          2.381158334585683,
          2.371402775903626,
          2.306370327311545,
          2.4169310210640407,
          2.4234370314962272,
          2.3974199036999266,
          2.3193754342434714,
          2.4201805693139105,
          2.4201805693139105,
          2.3909138932677396,
          2.3226249824933416,
          2.403925914132113,
          2.3974199036999266,
          2.351891658539512
         ],
         "z": [
          0,
          0,
          0,
          0,
          0,
          0,
          0,
          0,
          0,
          0,
          0,
          0,
          0,
          0,
          0,
          0,
          0,
          0,
          0,
          0,
          0
         ]
        },
        {
         "line": {
          "color": "pink"
         },
         "mode": "lines",
         "scene": "scene",
         "type": "scatter3d",
         "x": [
          2.567564867276637,
          2.4537477113418245
         ],
         "y": [
          2.2185702991730323,
          2.2153138369907155
         ],
         "z": [
          0,
          0
         ]
        },
        {
         "line": {
          "color": "blue"
         },
         "mode": "lines",
         "name": "Thumb",
         "scene": "scene",
         "type": "scatter3d",
         "x": [
          2.4537477113418245,
          2.339930555407012,
          2.2879032137468567,
          2.2391254203365727
         ],
         "y": [
          2.2153138369907155,
          2.345392562039772,
          2.400669451949797,
          2.348642110289642
         ],
         "z": [
          0,
          0,
          0,
          0
         ]
        },
        {
         "line": {
          "color": "green"
         },
         "mode": "lines",
         "name": "Index",
         "scene": "scene",
         "type": "scatter3d",
         "x": [
          2.365947683203312,
          2.3204194380428977,
          2.291152761996727,
          2.2423749685864425
         ],
         "y": [
          2.2998643168793578,
          2.3974199036999266,
          2.381158334585683,
          2.371402775903626
         ],
         "z": [
          0,
          0,
          0,
          0
         ]
        },
        {
         "line": {
          "color": "red"
         },
         "mode": "lines",
         "name": "Middle",
         "scene": "scene",
         "type": "scatter3d",
         "x": [
          2.414725476613597,
          2.3984708214317996,
          2.375703241885369,
          2.3334314589072713
         ],
         "y": [
          2.306370327311545,
          2.4169310210640407,
          2.4234370314962272,
          2.3974199036999266
         ],
         "z": [
          0,
          0,
          0,
          0
         ]
        },
        {
         "line": {
          "color": "orange"
         },
         "mode": "lines",
         "name": "Ring",
         "scene": "scene",
         "type": "scatter3d",
         "x": [
          2.417975024863467,
          2.395214359249483,
          2.3204194380428977,
          2.3074143311109707
         ],
         "y": [
          2.3193754342434714,
          2.4201805693139105,
          2.4201805693139105,
          2.3909138932677396
         ],
         "z": [
          0,
          0,
          0,
          0
         ]
        },
        {
         "line": {
          "color": "yellow"
         },
         "mode": "lines",
         "name": "Pinky",
         "scene": "scene",
         "type": "scatter3d",
         "x": [
          2.3594416727711254,
          2.310663879360841,
          2.268392096382743,
          2.2391254203365727
         ],
         "y": [
          2.3226249824933416,
          2.403925914132113,
          2.3974199036999266,
          2.351891658539512
         ],
         "z": [
          0,
          0,
          0,
          0
         ]
        },
        {
         "line": {
          "color": "pink"
         },
         "mode": "lines",
         "name": "Wrist to 1",
         "scene": "scene",
         "type": "scatter3d",
         "x": [
          2.567564867276637,
          2.4537477113418245
         ],
         "y": [
          2.2185702991730323,
          2.2153138369907155
         ],
         "z": [
          0,
          0
         ]
        },
        {
         "line": {
          "color": "pink"
         },
         "mode": "lines",
         "name": "Wrist to 5",
         "scene": "scene",
         "type": "scatter3d",
         "x": [
          2.567564867276637,
          2.365947683203312
         ],
         "y": [
          2.2185702991730323,
          2.2998643168793578
         ],
         "z": [
          0,
          0
         ]
        },
        {
         "line": {
          "color": "pink"
         },
         "mode": "lines",
         "name": "Wrist to 9",
         "scene": "scene",
         "type": "scatter3d",
         "x": [
          2.567564867276637,
          2.414725476613597
         ],
         "y": [
          2.2185702991730323,
          2.306370327311545
         ],
         "z": [
          0,
          0
         ]
        },
        {
         "line": {
          "color": "pink"
         },
         "mode": "lines",
         "name": "Wrist to 13",
         "scene": "scene",
         "type": "scatter3d",
         "x": [
          2.567564867276637,
          2.417975024863467
         ],
         "y": [
          2.2185702991730323,
          2.3193754342434714
         ],
         "z": [
          0,
          0
         ]
        },
        {
         "line": {
          "color": "pink"
         },
         "mode": "lines",
         "name": "Wrist to 17",
         "scene": "scene",
         "type": "scatter3d",
         "x": [
          2.567564867276637,
          2.3594416727711254
         ],
         "y": [
          2.2185702991730323,
          2.3226249824933416
         ],
         "z": [
          0,
          0
         ]
        },
        {
         "mode": "markers",
         "name": "Frame 2 Points",
         "scene": "scene2",
         "type": "scatter3d",
         "x": [
          2.6033413941510823,
          2.6602900532652,
          2.6904346546031217,
          2.6837390748828716,
          2.6904346546031217,
          2.6100442201697307,
          2.576544582673286,
          2.533001575596465,
          2.49950193810002,
          2.53634936545659,
          2.49280635837977,
          2.4492633513029496,
          2.4157637138065042,
          2.479407952640871,
          2.4291621195454027,
          2.392314692188832,
          2.3655178807110353,
          2.422459293526754,
          2.3722207067296837,
          2.348771685112012,
          2.3253226634943402
         ],
         "y": [
          1.7375319225984576,
          1.6571414881650668,
          1.5667004378529026,
          1.5064112351770589,
          1.4729115976806135,
          1.6169462709483715,
          1.5800988435918013,
          1.5298530104963324,
          1.4963606192982855,
          1.653793698304942,
          1.5901494594705747,
          1.5231574307760825,
          1.4695638078204885,
          1.6772427199226136,
          1.6068956550695979,
          1.5365558365149807,
          1.4930128294381606,
          1.687293335801387,
          1.63034467668727,
          1.5800988435918013,
          1.5466064523937542
         ],
         "z": [
          0,
          0,
          0,
          0,
          0,
          0,
          0,
          0,
          0,
          0,
          0,
          0,
          0,
          0,
          0,
          0,
          0,
          0,
          0,
          0,
          0
         ]
        },
        {
         "line": {
          "color": "pink"
         },
         "mode": "lines",
         "scene": "scene2",
         "type": "scatter3d",
         "x": [
          2.6033413941510823,
          2.6602900532652
         ],
         "y": [
          1.7375319225984576,
          1.6571414881650668
         ],
         "z": [
          0,
          0
         ]
        },
        {
         "line": {
          "color": "blue"
         },
         "mode": "lines",
         "name": "Thumb",
         "scene": "scene2",
         "type": "scatter3d",
         "x": [
          2.6602900532652,
          2.6904346546031217,
          2.6837390748828716,
          2.6904346546031217
         ],
         "y": [
          1.6571414881650668,
          1.5667004378529026,
          1.5064112351770589,
          1.4729115976806135
         ],
         "z": [
          0,
          0,
          0,
          0
         ]
        },
        {
         "line": {
          "color": "green"
         },
         "mode": "lines",
         "name": "Index",
         "scene": "scene2",
         "type": "scatter3d",
         "x": [
          2.6100442201697307,
          2.576544582673286,
          2.533001575596465,
          2.49950193810002
         ],
         "y": [
          1.6169462709483715,
          1.5800988435918013,
          1.5298530104963324,
          1.4963606192982855
         ],
         "z": [
          0,
          0,
          0,
          0
         ]
        },
        {
         "line": {
          "color": "red"
         },
         "mode": "lines",
         "name": "Middle",
         "scene": "scene2",
         "type": "scatter3d",
         "x": [
          2.53634936545659,
          2.49280635837977,
          2.4492633513029496,
          2.4157637138065042
         ],
         "y": [
          1.653793698304942,
          1.5901494594705747,
          1.5231574307760825,
          1.4695638078204885
         ],
         "z": [
          0,
          0,
          0,
          0
         ]
        },
        {
         "line": {
          "color": "orange"
         },
         "mode": "lines",
         "name": "Ring",
         "scene": "scene2",
         "type": "scatter3d",
         "x": [
          2.479407952640871,
          2.4291621195454027,
          2.392314692188832,
          2.3655178807110353
         ],
         "y": [
          1.6772427199226136,
          1.6068956550695979,
          1.5365558365149807,
          1.4930128294381606
         ],
         "z": [
          0,
          0,
          0,
          0
         ]
        },
        {
         "line": {
          "color": "yellow"
         },
         "mode": "lines",
         "name": "Pinky",
         "scene": "scene2",
         "type": "scatter3d",
         "x": [
          2.422459293526754,
          2.3722207067296837,
          2.348771685112012,
          2.3253226634943402
         ],
         "y": [
          1.687293335801387,
          1.63034467668727,
          1.5800988435918013,
          1.5466064523937542
         ],
         "z": [
          0,
          0,
          0,
          0
         ]
        },
        {
         "line": {
          "color": "pink"
         },
         "mode": "lines",
         "name": "Wrist to 1",
         "scene": "scene2",
         "type": "scatter3d",
         "x": [
          2.6033413941510823,
          2.6602900532652
         ],
         "y": [
          1.7375319225984576,
          1.6571414881650668
         ],
         "z": [
          0,
          0
         ]
        },
        {
         "line": {
          "color": "pink"
         },
         "mode": "lines",
         "name": "Wrist to 5",
         "scene": "scene2",
         "type": "scatter3d",
         "x": [
          2.6033413941510823,
          2.6100442201697307
         ],
         "y": [
          1.7375319225984576,
          1.6169462709483715
         ],
         "z": [
          0,
          0
         ]
        },
        {
         "line": {
          "color": "pink"
         },
         "mode": "lines",
         "name": "Wrist to 9",
         "scene": "scene2",
         "type": "scatter3d",
         "x": [
          2.6033413941510823,
          2.53634936545659
         ],
         "y": [
          1.7375319225984576,
          1.653793698304942
         ],
         "z": [
          0,
          0
         ]
        },
        {
         "line": {
          "color": "pink"
         },
         "mode": "lines",
         "name": "Wrist to 13",
         "scene": "scene2",
         "type": "scatter3d",
         "x": [
          2.6033413941510823,
          2.479407952640871
         ],
         "y": [
          1.7375319225984576,
          1.6772427199226136
         ],
         "z": [
          0,
          0
         ]
        },
        {
         "line": {
          "color": "pink"
         },
         "mode": "lines",
         "name": "Wrist to 17",
         "scene": "scene2",
         "type": "scatter3d",
         "x": [
          2.6033413941510823,
          2.422459293526754
         ],
         "y": [
          1.7375319225984576,
          1.687293335801387
         ],
         "z": [
          0,
          0
         ]
        },
        {
         "mode": "markers",
         "name": "Frame 3 Points",
         "scene": "scene3",
         "type": "scatter3d",
         "x": [
          2.5726219153534524,
          2.6226129766592687,
          2.649281124304238,
          2.6359434457037527,
          2.632612630831632,
          2.5426301623923635,
          2.4859702617863046,
          2.435979200480489,
          2.3993186082191573,
          2.479308632042063,
          2.3993186082191573,
          2.3526583617854624,
          2.329328238568615,
          2.4293103611802467,
          2.3559891766575833,
          2.3059981153517675,
          2.2760063623906777,
          2.382657324302552,
          2.3193285843962514,
          2.28266799213492,
          2.256007054045951
         ],
         "y": [
          1.7234732000866066,
          1.6601516697363063,
          1.586830485213643,
          1.5335013994797058,
          1.5068404613907374,
          1.6234910774749747,
          1.590161300085764,
          1.54683186852419,
          1.5101712762628583,
          1.6634824846084275,
          1.5968229298300058,
          1.5168401155631006,
          1.4535113756568,
          1.6768129536529117,
          1.6101533988744903,
          1.540170238779948,
          1.4801795233017687,
          1.6934742375695169,
          1.6368215465194589,
          1.590161300085764,
          1.550162683396311
         ],
         "z": [
          0,
          0,
          0,
          0,
          0,
          0,
          0,
          0,
          0,
          0,
          0,
          0,
          0,
          0,
          0,
          0,
          0,
          0,
          0,
          0,
          0
         ]
        },
        {
         "line": {
          "color": "pink"
         },
         "mode": "lines",
         "scene": "scene3",
         "type": "scatter3d",
         "x": [
          2.5726219153534524,
          2.6226129766592687
         ],
         "y": [
          1.7234732000866066,
          1.6601516697363063
         ],
         "z": [
          0,
          0
         ]
        },
        {
         "line": {
          "color": "blue"
         },
         "mode": "lines",
         "name": "Thumb",
         "scene": "scene3",
         "type": "scatter3d",
         "x": [
          2.6226129766592687,
          2.649281124304238,
          2.6359434457037527,
          2.632612630831632
         ],
         "y": [
          1.6601516697363063,
          1.586830485213643,
          1.5335013994797058,
          1.5068404613907374
         ],
         "z": [
          0,
          0,
          0,
          0
         ]
        },
        {
         "line": {
          "color": "green"
         },
         "mode": "lines",
         "name": "Index",
         "scene": "scene3",
         "type": "scatter3d",
         "x": [
          2.5426301623923635,
          2.4859702617863046,
          2.435979200480489,
          2.3993186082191573
         ],
         "y": [
          1.6234910774749747,
          1.590161300085764,
          1.54683186852419,
          1.5101712762628583
         ],
         "z": [
          0,
          0,
          0,
          0
         ]
        },
        {
         "line": {
          "color": "red"
         },
         "mode": "lines",
         "name": "Middle",
         "scene": "scene3",
         "type": "scatter3d",
         "x": [
          2.479308632042063,
          2.3993186082191573,
          2.3526583617854624,
          2.329328238568615
         ],
         "y": [
          1.6634824846084275,
          1.5968229298300058,
          1.5168401155631006,
          1.4535113756568
         ],
         "z": [
          0,
          0,
          0,
          0
         ]
        },
        {
         "line": {
          "color": "orange"
         },
         "mode": "lines",
         "name": "Ring",
         "scene": "scene3",
         "type": "scatter3d",
         "x": [
          2.4293103611802467,
          2.3559891766575833,
          2.3059981153517675,
          2.2760063623906777
         ],
         "y": [
          1.6768129536529117,
          1.6101533988744903,
          1.540170238779948,
          1.4801795233017687
         ],
         "z": [
          0,
          0,
          0,
          0
         ]
        },
        {
         "line": {
          "color": "yellow"
         },
         "mode": "lines",
         "name": "Pinky",
         "scene": "scene3",
         "type": "scatter3d",
         "x": [
          2.382657324302552,
          2.3193285843962514,
          2.28266799213492,
          2.256007054045951
         ],
         "y": [
          1.6934742375695169,
          1.6368215465194589,
          1.590161300085764,
          1.550162683396311
         ],
         "z": [
          0,
          0,
          0,
          0
         ]
        },
        {
         "line": {
          "color": "pink"
         },
         "mode": "lines",
         "name": "Wrist to 1",
         "scene": "scene3",
         "type": "scatter3d",
         "x": [
          2.5726219153534524,
          2.6226129766592687
         ],
         "y": [
          1.7234732000866066,
          1.6601516697363063
         ],
         "z": [
          0,
          0
         ]
        },
        {
         "line": {
          "color": "pink"
         },
         "mode": "lines",
         "name": "Wrist to 5",
         "scene": "scene3",
         "type": "scatter3d",
         "x": [
          2.5726219153534524,
          2.5426301623923635
         ],
         "y": [
          1.7234732000866066,
          1.6234910774749747
         ],
         "z": [
          0,
          0
         ]
        },
        {
         "line": {
          "color": "pink"
         },
         "mode": "lines",
         "name": "Wrist to 9",
         "scene": "scene3",
         "type": "scatter3d",
         "x": [
          2.5726219153534524,
          2.479308632042063
         ],
         "y": [
          1.7234732000866066,
          1.6634824846084275
         ],
         "z": [
          0,
          0
         ]
        },
        {
         "line": {
          "color": "pink"
         },
         "mode": "lines",
         "name": "Wrist to 13",
         "scene": "scene3",
         "type": "scatter3d",
         "x": [
          2.5726219153534524,
          2.4293103611802467
         ],
         "y": [
          1.7234732000866066,
          1.6768129536529117
         ],
         "z": [
          0,
          0
         ]
        },
        {
         "line": {
          "color": "pink"
         },
         "mode": "lines",
         "name": "Wrist to 17",
         "scene": "scene3",
         "type": "scatter3d",
         "x": [
          2.5726219153534524,
          2.382657324302552
         ],
         "y": [
          1.7234732000866066,
          1.6934742375695169
         ],
         "z": [
          0,
          0
         ]
        },
        {
         "mode": "markers",
         "name": "Frame 4 Points",
         "scene": "scene4",
         "type": "scatter3d",
         "x": [
          2.5618974782206765,
          2.6054322698539654,
          2.632225115124412,
          2.635570638852032,
          2.702552752028147,
          2.4915698413169416,
          2.421235040550834,
          2.3710020375999337,
          2.3274672459666443,
          2.4346314631860575,
          2.344209192329487,
          2.290630665650967,
          2.2504413977452975,
          2.39444935914276,
          2.3107252996038015,
          2.2638378203805205,
          2.2336994513824546,
          2.3609583025547023,
          2.2872779780609753,
          2.257139609062909,
          2.2303467637924634
         ],
         "y": [
          1.735717886333117,
          1.6754339844746131,
          1.6118045588884895,
          1.544822445712374,
          1.4912439190338536,
          1.6519938267941587,
          1.605106347570878,
          1.5716152909828203,
          1.544822445712374,
          1.6821321957922246,
          1.605106347570878,
          1.544822445712374,
          1.4945894427614734,
          1.7022268297450593,
          1.6252009815237125,
          1.5548733446199774,
          1.497942130351465,
          1.7189687761079022,
          1.6553393505217786,
          1.6084518712984976,
          1.5716152909828203
         ],
         "z": [
          0,
          0,
          0,
          0,
          0,
          0,
          0,
          0,
          0,
          0,
          0,
          0,
          0,
          0,
          0,
          0,
          0,
          0,
          0,
          0,
          0
         ]
        },
        {
         "line": {
          "color": "pink"
         },
         "mode": "lines",
         "scene": "scene4",
         "type": "scatter3d",
         "x": [
          2.5618974782206765,
          2.6054322698539654
         ],
         "y": [
          1.735717886333117,
          1.6754339844746131
         ],
         "z": [
          0,
          0
         ]
        },
        {
         "line": {
          "color": "blue"
         },
         "mode": "lines",
         "name": "Thumb",
         "scene": "scene4",
         "type": "scatter3d",
         "x": [
          2.6054322698539654,
          2.632225115124412,
          2.635570638852032,
          2.702552752028147
         ],
         "y": [
          1.6754339844746131,
          1.6118045588884895,
          1.544822445712374,
          1.4912439190338536
         ],
         "z": [
          0,
          0,
          0,
          0
         ]
        },
        {
         "line": {
          "color": "green"
         },
         "mode": "lines",
         "name": "Index",
         "scene": "scene4",
         "type": "scatter3d",
         "x": [
          2.4915698413169416,
          2.421235040550834,
          2.3710020375999337,
          2.3274672459666443
         ],
         "y": [
          1.6519938267941587,
          1.605106347570878,
          1.5716152909828203,
          1.544822445712374
         ],
         "z": [
          0,
          0,
          0,
          0
         ]
        },
        {
         "line": {
          "color": "red"
         },
         "mode": "lines",
         "name": "Middle",
         "scene": "scene4",
         "type": "scatter3d",
         "x": [
          2.4346314631860575,
          2.344209192329487,
          2.290630665650967,
          2.2504413977452975
         ],
         "y": [
          1.6821321957922246,
          1.605106347570878,
          1.544822445712374,
          1.4945894427614734
         ],
         "z": [
          0,
          0,
          0,
          0
         ]
        },
        {
         "line": {
          "color": "orange"
         },
         "mode": "lines",
         "name": "Ring",
         "scene": "scene4",
         "type": "scatter3d",
         "x": [
          2.39444935914276,
          2.3107252996038015,
          2.2638378203805205,
          2.2336994513824546
         ],
         "y": [
          1.7022268297450593,
          1.6252009815237125,
          1.5548733446199774,
          1.497942130351465
         ],
         "z": [
          0,
          0,
          0,
          0
         ]
        },
        {
         "line": {
          "color": "yellow"
         },
         "mode": "lines",
         "name": "Pinky",
         "scene": "scene4",
         "type": "scatter3d",
         "x": [
          2.3609583025547023,
          2.2872779780609753,
          2.257139609062909,
          2.2303467637924634
         ],
         "y": [
          1.7189687761079022,
          1.6553393505217786,
          1.6084518712984976,
          1.5716152909828203
         ],
         "z": [
          0,
          0,
          0,
          0
         ]
        },
        {
         "line": {
          "color": "pink"
         },
         "mode": "lines",
         "name": "Wrist to 1",
         "scene": "scene4",
         "type": "scatter3d",
         "x": [
          2.5618974782206765,
          2.6054322698539654
         ],
         "y": [
          1.735717886333117,
          1.6754339844746131
         ],
         "z": [
          0,
          0
         ]
        },
        {
         "line": {
          "color": "pink"
         },
         "mode": "lines",
         "name": "Wrist to 5",
         "scene": "scene4",
         "type": "scatter3d",
         "x": [
          2.5618974782206765,
          2.4915698413169416
         ],
         "y": [
          1.735717886333117,
          1.6519938267941587
         ],
         "z": [
          0,
          0
         ]
        },
        {
         "line": {
          "color": "pink"
         },
         "mode": "lines",
         "name": "Wrist to 9",
         "scene": "scene4",
         "type": "scatter3d",
         "x": [
          2.5618974782206765,
          2.4346314631860575
         ],
         "y": [
          1.735717886333117,
          1.6821321957922246
         ],
         "z": [
          0,
          0
         ]
        },
        {
         "line": {
          "color": "pink"
         },
         "mode": "lines",
         "name": "Wrist to 13",
         "scene": "scene4",
         "type": "scatter3d",
         "x": [
          2.5618974782206765,
          2.39444935914276
         ],
         "y": [
          1.735717886333117,
          1.7022268297450593
         ],
         "z": [
          0,
          0
         ]
        },
        {
         "line": {
          "color": "pink"
         },
         "mode": "lines",
         "name": "Wrist to 17",
         "scene": "scene4",
         "type": "scatter3d",
         "x": [
          2.5618974782206765,
          2.3609583025547023
         ],
         "y": [
          1.735717886333117,
          1.7189687761079022
         ],
         "z": [
          0,
          0
         ]
        }
       ],
       "layout": {
        "height": 600,
        "scene": {
         "domain": {
          "x": [
           0,
           0.2125
          ],
          "y": [
           0,
           1
          ]
         },
         "xaxis": {
          "title": {
           "text": "X Axis"
          }
         },
         "yaxis": {
          "title": {
           "text": "Y Axis"
          }
         },
         "zaxis": {
          "title": {
           "text": "Z Axis"
          }
         }
        },
        "scene2": {
         "domain": {
          "x": [
           0.2625,
           0.475
          ],
          "y": [
           0,
           1
          ]
         },
         "xaxis": {
          "title": {
           "text": "X Axis"
          }
         },
         "yaxis": {
          "title": {
           "text": "Y Axis"
          }
         },
         "zaxis": {
          "title": {
           "text": "Z Axis"
          }
         }
        },
        "scene3": {
         "domain": {
          "x": [
           0.525,
           0.7375
          ],
          "y": [
           0,
           1
          ]
         },
         "xaxis": {
          "title": {
           "text": "X Axis"
          }
         },
         "yaxis": {
          "title": {
           "text": "Y Axis"
          }
         },
         "zaxis": {
          "title": {
           "text": "Z Axis"
          }
         }
        },
        "scene4": {
         "domain": {
          "x": [
           0.7875,
           1
          ],
          "y": [
           0,
           1
          ]
         },
         "xaxis": {
          "title": {
           "text": "X Axis"
          }
         },
         "yaxis": {
          "title": {
           "text": "Y Axis"
          }
         },
         "zaxis": {
          "title": {
           "text": "Z Axis"
          }
         }
        },
        "template": {
         "data": {
          "bar": [
           {
            "error_x": {
             "color": "#2a3f5f"
            },
            "error_y": {
             "color": "#2a3f5f"
            },
            "marker": {
             "line": {
              "color": "#E5ECF6",
              "width": 0.5
             },
             "pattern": {
              "fillmode": "overlay",
              "size": 10,
              "solidity": 0.2
             }
            },
            "type": "bar"
           }
          ],
          "barpolar": [
           {
            "marker": {
             "line": {
              "color": "#E5ECF6",
              "width": 0.5
             },
             "pattern": {
              "fillmode": "overlay",
              "size": 10,
              "solidity": 0.2
             }
            },
            "type": "barpolar"
           }
          ],
          "carpet": [
           {
            "aaxis": {
             "endlinecolor": "#2a3f5f",
             "gridcolor": "white",
             "linecolor": "white",
             "minorgridcolor": "white",
             "startlinecolor": "#2a3f5f"
            },
            "baxis": {
             "endlinecolor": "#2a3f5f",
             "gridcolor": "white",
             "linecolor": "white",
             "minorgridcolor": "white",
             "startlinecolor": "#2a3f5f"
            },
            "type": "carpet"
           }
          ],
          "choropleth": [
           {
            "colorbar": {
             "outlinewidth": 0,
             "ticks": ""
            },
            "type": "choropleth"
           }
          ],
          "contour": [
           {
            "colorbar": {
             "outlinewidth": 0,
             "ticks": ""
            },
            "colorscale": [
             [
              0,
              "#0d0887"
             ],
             [
              0.1111111111111111,
              "#46039f"
             ],
             [
              0.2222222222222222,
              "#7201a8"
             ],
             [
              0.3333333333333333,
              "#9c179e"
             ],
             [
              0.4444444444444444,
              "#bd3786"
             ],
             [
              0.5555555555555556,
              "#d8576b"
             ],
             [
              0.6666666666666666,
              "#ed7953"
             ],
             [
              0.7777777777777778,
              "#fb9f3a"
             ],
             [
              0.8888888888888888,
              "#fdca26"
             ],
             [
              1,
              "#f0f921"
             ]
            ],
            "type": "contour"
           }
          ],
          "contourcarpet": [
           {
            "colorbar": {
             "outlinewidth": 0,
             "ticks": ""
            },
            "type": "contourcarpet"
           }
          ],
          "heatmap": [
           {
            "colorbar": {
             "outlinewidth": 0,
             "ticks": ""
            },
            "colorscale": [
             [
              0,
              "#0d0887"
             ],
             [
              0.1111111111111111,
              "#46039f"
             ],
             [
              0.2222222222222222,
              "#7201a8"
             ],
             [
              0.3333333333333333,
              "#9c179e"
             ],
             [
              0.4444444444444444,
              "#bd3786"
             ],
             [
              0.5555555555555556,
              "#d8576b"
             ],
             [
              0.6666666666666666,
              "#ed7953"
             ],
             [
              0.7777777777777778,
              "#fb9f3a"
             ],
             [
              0.8888888888888888,
              "#fdca26"
             ],
             [
              1,
              "#f0f921"
             ]
            ],
            "type": "heatmap"
           }
          ],
          "heatmapgl": [
           {
            "colorbar": {
             "outlinewidth": 0,
             "ticks": ""
            },
            "colorscale": [
             [
              0,
              "#0d0887"
             ],
             [
              0.1111111111111111,
              "#46039f"
             ],
             [
              0.2222222222222222,
              "#7201a8"
             ],
             [
              0.3333333333333333,
              "#9c179e"
             ],
             [
              0.4444444444444444,
              "#bd3786"
             ],
             [
              0.5555555555555556,
              "#d8576b"
             ],
             [
              0.6666666666666666,
              "#ed7953"
             ],
             [
              0.7777777777777778,
              "#fb9f3a"
             ],
             [
              0.8888888888888888,
              "#fdca26"
             ],
             [
              1,
              "#f0f921"
             ]
            ],
            "type": "heatmapgl"
           }
          ],
          "histogram": [
           {
            "marker": {
             "pattern": {
              "fillmode": "overlay",
              "size": 10,
              "solidity": 0.2
             }
            },
            "type": "histogram"
           }
          ],
          "histogram2d": [
           {
            "colorbar": {
             "outlinewidth": 0,
             "ticks": ""
            },
            "colorscale": [
             [
              0,
              "#0d0887"
             ],
             [
              0.1111111111111111,
              "#46039f"
             ],
             [
              0.2222222222222222,
              "#7201a8"
             ],
             [
              0.3333333333333333,
              "#9c179e"
             ],
             [
              0.4444444444444444,
              "#bd3786"
             ],
             [
              0.5555555555555556,
              "#d8576b"
             ],
             [
              0.6666666666666666,
              "#ed7953"
             ],
             [
              0.7777777777777778,
              "#fb9f3a"
             ],
             [
              0.8888888888888888,
              "#fdca26"
             ],
             [
              1,
              "#f0f921"
             ]
            ],
            "type": "histogram2d"
           }
          ],
          "histogram2dcontour": [
           {
            "colorbar": {
             "outlinewidth": 0,
             "ticks": ""
            },
            "colorscale": [
             [
              0,
              "#0d0887"
             ],
             [
              0.1111111111111111,
              "#46039f"
             ],
             [
              0.2222222222222222,
              "#7201a8"
             ],
             [
              0.3333333333333333,
              "#9c179e"
             ],
             [
              0.4444444444444444,
              "#bd3786"
             ],
             [
              0.5555555555555556,
              "#d8576b"
             ],
             [
              0.6666666666666666,
              "#ed7953"
             ],
             [
              0.7777777777777778,
              "#fb9f3a"
             ],
             [
              0.8888888888888888,
              "#fdca26"
             ],
             [
              1,
              "#f0f921"
             ]
            ],
            "type": "histogram2dcontour"
           }
          ],
          "mesh3d": [
           {
            "colorbar": {
             "outlinewidth": 0,
             "ticks": ""
            },
            "type": "mesh3d"
           }
          ],
          "parcoords": [
           {
            "line": {
             "colorbar": {
              "outlinewidth": 0,
              "ticks": ""
             }
            },
            "type": "parcoords"
           }
          ],
          "pie": [
           {
            "automargin": true,
            "type": "pie"
           }
          ],
          "scatter": [
           {
            "fillpattern": {
             "fillmode": "overlay",
             "size": 10,
             "solidity": 0.2
            },
            "type": "scatter"
           }
          ],
          "scatter3d": [
           {
            "line": {
             "colorbar": {
              "outlinewidth": 0,
              "ticks": ""
             }
            },
            "marker": {
             "colorbar": {
              "outlinewidth": 0,
              "ticks": ""
             }
            },
            "type": "scatter3d"
           }
          ],
          "scattercarpet": [
           {
            "marker": {
             "colorbar": {
              "outlinewidth": 0,
              "ticks": ""
             }
            },
            "type": "scattercarpet"
           }
          ],
          "scattergeo": [
           {
            "marker": {
             "colorbar": {
              "outlinewidth": 0,
              "ticks": ""
             }
            },
            "type": "scattergeo"
           }
          ],
          "scattergl": [
           {
            "marker": {
             "colorbar": {
              "outlinewidth": 0,
              "ticks": ""
             }
            },
            "type": "scattergl"
           }
          ],
          "scattermapbox": [
           {
            "marker": {
             "colorbar": {
              "outlinewidth": 0,
              "ticks": ""
             }
            },
            "type": "scattermapbox"
           }
          ],
          "scatterpolar": [
           {
            "marker": {
             "colorbar": {
              "outlinewidth": 0,
              "ticks": ""
             }
            },
            "type": "scatterpolar"
           }
          ],
          "scatterpolargl": [
           {
            "marker": {
             "colorbar": {
              "outlinewidth": 0,
              "ticks": ""
             }
            },
            "type": "scatterpolargl"
           }
          ],
          "scatterternary": [
           {
            "marker": {
             "colorbar": {
              "outlinewidth": 0,
              "ticks": ""
             }
            },
            "type": "scatterternary"
           }
          ],
          "surface": [
           {
            "colorbar": {
             "outlinewidth": 0,
             "ticks": ""
            },
            "colorscale": [
             [
              0,
              "#0d0887"
             ],
             [
              0.1111111111111111,
              "#46039f"
             ],
             [
              0.2222222222222222,
              "#7201a8"
             ],
             [
              0.3333333333333333,
              "#9c179e"
             ],
             [
              0.4444444444444444,
              "#bd3786"
             ],
             [
              0.5555555555555556,
              "#d8576b"
             ],
             [
              0.6666666666666666,
              "#ed7953"
             ],
             [
              0.7777777777777778,
              "#fb9f3a"
             ],
             [
              0.8888888888888888,
              "#fdca26"
             ],
             [
              1,
              "#f0f921"
             ]
            ],
            "type": "surface"
           }
          ],
          "table": [
           {
            "cells": {
             "fill": {
              "color": "#EBF0F8"
             },
             "line": {
              "color": "white"
             }
            },
            "header": {
             "fill": {
              "color": "#C8D4E3"
             },
             "line": {
              "color": "white"
             }
            },
            "type": "table"
           }
          ]
         },
         "layout": {
          "annotationdefaults": {
           "arrowcolor": "#2a3f5f",
           "arrowhead": 0,
           "arrowwidth": 1
          },
          "autotypenumbers": "strict",
          "coloraxis": {
           "colorbar": {
            "outlinewidth": 0,
            "ticks": ""
           }
          },
          "colorscale": {
           "diverging": [
            [
             0,
             "#8e0152"
            ],
            [
             0.1,
             "#c51b7d"
            ],
            [
             0.2,
             "#de77ae"
            ],
            [
             0.3,
             "#f1b6da"
            ],
            [
             0.4,
             "#fde0ef"
            ],
            [
             0.5,
             "#f7f7f7"
            ],
            [
             0.6,
             "#e6f5d0"
            ],
            [
             0.7,
             "#b8e186"
            ],
            [
             0.8,
             "#7fbc41"
            ],
            [
             0.9,
             "#4d9221"
            ],
            [
             1,
             "#276419"
            ]
           ],
           "sequential": [
            [
             0,
             "#0d0887"
            ],
            [
             0.1111111111111111,
             "#46039f"
            ],
            [
             0.2222222222222222,
             "#7201a8"
            ],
            [
             0.3333333333333333,
             "#9c179e"
            ],
            [
             0.4444444444444444,
             "#bd3786"
            ],
            [
             0.5555555555555556,
             "#d8576b"
            ],
            [
             0.6666666666666666,
             "#ed7953"
            ],
            [
             0.7777777777777778,
             "#fb9f3a"
            ],
            [
             0.8888888888888888,
             "#fdca26"
            ],
            [
             1,
             "#f0f921"
            ]
           ],
           "sequentialminus": [
            [
             0,
             "#0d0887"
            ],
            [
             0.1111111111111111,
             "#46039f"
            ],
            [
             0.2222222222222222,
             "#7201a8"
            ],
            [
             0.3333333333333333,
             "#9c179e"
            ],
            [
             0.4444444444444444,
             "#bd3786"
            ],
            [
             0.5555555555555556,
             "#d8576b"
            ],
            [
             0.6666666666666666,
             "#ed7953"
            ],
            [
             0.7777777777777778,
             "#fb9f3a"
            ],
            [
             0.8888888888888888,
             "#fdca26"
            ],
            [
             1,
             "#f0f921"
            ]
           ]
          },
          "colorway": [
           "#636efa",
           "#EF553B",
           "#00cc96",
           "#ab63fa",
           "#FFA15A",
           "#19d3f3",
           "#FF6692",
           "#B6E880",
           "#FF97FF",
           "#FECB52"
          ],
          "font": {
           "color": "#2a3f5f"
          },
          "geo": {
           "bgcolor": "white",
           "lakecolor": "white",
           "landcolor": "#E5ECF6",
           "showlakes": true,
           "showland": true,
           "subunitcolor": "white"
          },
          "hoverlabel": {
           "align": "left"
          },
          "hovermode": "closest",
          "mapbox": {
           "style": "light"
          },
          "paper_bgcolor": "white",
          "plot_bgcolor": "#E5ECF6",
          "polar": {
           "angularaxis": {
            "gridcolor": "white",
            "linecolor": "white",
            "ticks": ""
           },
           "bgcolor": "#E5ECF6",
           "radialaxis": {
            "gridcolor": "white",
            "linecolor": "white",
            "ticks": ""
           }
          },
          "scene": {
           "xaxis": {
            "backgroundcolor": "#E5ECF6",
            "gridcolor": "white",
            "gridwidth": 2,
            "linecolor": "white",
            "showbackground": true,
            "ticks": "",
            "zerolinecolor": "white"
           },
           "yaxis": {
            "backgroundcolor": "#E5ECF6",
            "gridcolor": "white",
            "gridwidth": 2,
            "linecolor": "white",
            "showbackground": true,
            "ticks": "",
            "zerolinecolor": "white"
           },
           "zaxis": {
            "backgroundcolor": "#E5ECF6",
            "gridcolor": "white",
            "gridwidth": 2,
            "linecolor": "white",
            "showbackground": true,
            "ticks": "",
            "zerolinecolor": "white"
           }
          },
          "shapedefaults": {
           "line": {
            "color": "#2a3f5f"
           }
          },
          "ternary": {
           "aaxis": {
            "gridcolor": "white",
            "linecolor": "white",
            "ticks": ""
           },
           "baxis": {
            "gridcolor": "white",
            "linecolor": "white",
            "ticks": ""
           },
           "bgcolor": "#E5ECF6",
           "caxis": {
            "gridcolor": "white",
            "linecolor": "white",
            "ticks": ""
           }
          },
          "title": {
           "x": 0.05
          },
          "xaxis": {
           "automargin": true,
           "gridcolor": "white",
           "linecolor": "white",
           "ticks": "",
           "title": {
            "standoff": 15
           },
           "zerolinecolor": "white",
           "zerolinewidth": 2
          },
          "yaxis": {
           "automargin": true,
           "gridcolor": "white",
           "linecolor": "white",
           "ticks": "",
           "title": {
            "standoff": 15
           },
           "zerolinecolor": "white",
           "zerolinewidth": 2
          }
         }
        },
        "title": {
         "text": "3D Plots of Hand Skeleton Across Frames"
        },
        "width": 2400
       }
      },
      "text/html": [
       "<div>                            <div id=\"41cbc6a0-a5e6-4941-98ca-b88b5ebc064c\" class=\"plotly-graph-div\" style=\"height:600px; width:2400px;\"></div>            <script type=\"text/javascript\">                require([\"plotly\"], function(Plotly) {                    window.PLOTLYENV=window.PLOTLYENV || {};                                    if (document.getElementById(\"41cbc6a0-a5e6-4941-98ca-b88b5ebc064c\")) {                    Plotly.newPlot(                        \"41cbc6a0-a5e6-4941-98ca-b88b5ebc064c\",                        [{\"mode\":\"markers\",\"name\":\"Frame 1 Points\",\"x\":[2.567564867276637,2.4537477113418245,2.339930555407012,2.2879032137468567,2.2391254203365727,2.365947683203312,2.3204194380428977,2.291152761996727,2.2423749685864425,2.414725476613597,2.3984708214317996,2.375703241885369,2.3334314589072713,2.417975024863467,2.395214359249483,2.3204194380428977,2.3074143311109707,2.3594416727711254,2.310663879360841,2.268392096382743,2.2391254203365727],\"y\":[2.2185702991730323,2.2153138369907155,2.345392562039772,2.400669451949797,2.348642110289642,2.2998643168793578,2.3974199036999266,2.381158334585683,2.371402775903626,2.306370327311545,2.4169310210640407,2.4234370314962272,2.3974199036999266,2.3193754342434714,2.4201805693139105,2.4201805693139105,2.3909138932677396,2.3226249824933416,2.403925914132113,2.3974199036999266,2.351891658539512],\"z\":[0.0,0.0,0.0,0.0,0.0,0.0,0.0,0.0,0.0,0.0,0.0,0.0,0.0,0.0,0.0,0.0,0.0,0.0,0.0,0.0,0.0],\"type\":\"scatter3d\",\"scene\":\"scene\"},{\"line\":{\"color\":\"pink\"},\"mode\":\"lines\",\"x\":[2.567564867276637,2.4537477113418245],\"y\":[2.2185702991730323,2.2153138369907155],\"z\":[0.0,0.0],\"type\":\"scatter3d\",\"scene\":\"scene\"},{\"line\":{\"color\":\"blue\"},\"mode\":\"lines\",\"name\":\"Thumb\",\"x\":[2.4537477113418245,2.339930555407012,2.2879032137468567,2.2391254203365727],\"y\":[2.2153138369907155,2.345392562039772,2.400669451949797,2.348642110289642],\"z\":[0.0,0.0,0.0,0.0],\"type\":\"scatter3d\",\"scene\":\"scene\"},{\"line\":{\"color\":\"green\"},\"mode\":\"lines\",\"name\":\"Index\",\"x\":[2.365947683203312,2.3204194380428977,2.291152761996727,2.2423749685864425],\"y\":[2.2998643168793578,2.3974199036999266,2.381158334585683,2.371402775903626],\"z\":[0.0,0.0,0.0,0.0],\"type\":\"scatter3d\",\"scene\":\"scene\"},{\"line\":{\"color\":\"red\"},\"mode\":\"lines\",\"name\":\"Middle\",\"x\":[2.414725476613597,2.3984708214317996,2.375703241885369,2.3334314589072713],\"y\":[2.306370327311545,2.4169310210640407,2.4234370314962272,2.3974199036999266],\"z\":[0.0,0.0,0.0,0.0],\"type\":\"scatter3d\",\"scene\":\"scene\"},{\"line\":{\"color\":\"orange\"},\"mode\":\"lines\",\"name\":\"Ring\",\"x\":[2.417975024863467,2.395214359249483,2.3204194380428977,2.3074143311109707],\"y\":[2.3193754342434714,2.4201805693139105,2.4201805693139105,2.3909138932677396],\"z\":[0.0,0.0,0.0,0.0],\"type\":\"scatter3d\",\"scene\":\"scene\"},{\"line\":{\"color\":\"yellow\"},\"mode\":\"lines\",\"name\":\"Pinky\",\"x\":[2.3594416727711254,2.310663879360841,2.268392096382743,2.2391254203365727],\"y\":[2.3226249824933416,2.403925914132113,2.3974199036999266,2.351891658539512],\"z\":[0.0,0.0,0.0,0.0],\"type\":\"scatter3d\",\"scene\":\"scene\"},{\"line\":{\"color\":\"pink\"},\"mode\":\"lines\",\"name\":\"Wrist to 1\",\"x\":[2.567564867276637,2.4537477113418245],\"y\":[2.2185702991730323,2.2153138369907155],\"z\":[0.0,0.0],\"type\":\"scatter3d\",\"scene\":\"scene\"},{\"line\":{\"color\":\"pink\"},\"mode\":\"lines\",\"name\":\"Wrist to 5\",\"x\":[2.567564867276637,2.365947683203312],\"y\":[2.2185702991730323,2.2998643168793578],\"z\":[0.0,0.0],\"type\":\"scatter3d\",\"scene\":\"scene\"},{\"line\":{\"color\":\"pink\"},\"mode\":\"lines\",\"name\":\"Wrist to 9\",\"x\":[2.567564867276637,2.414725476613597],\"y\":[2.2185702991730323,2.306370327311545],\"z\":[0.0,0.0],\"type\":\"scatter3d\",\"scene\":\"scene\"},{\"line\":{\"color\":\"pink\"},\"mode\":\"lines\",\"name\":\"Wrist to 13\",\"x\":[2.567564867276637,2.417975024863467],\"y\":[2.2185702991730323,2.3193754342434714],\"z\":[0.0,0.0],\"type\":\"scatter3d\",\"scene\":\"scene\"},{\"line\":{\"color\":\"pink\"},\"mode\":\"lines\",\"name\":\"Wrist to 17\",\"x\":[2.567564867276637,2.3594416727711254],\"y\":[2.2185702991730323,2.3226249824933416],\"z\":[0.0,0.0],\"type\":\"scatter3d\",\"scene\":\"scene\"},{\"mode\":\"markers\",\"name\":\"Frame 2 Points\",\"x\":[2.6033413941510823,2.6602900532652,2.6904346546031217,2.6837390748828716,2.6904346546031217,2.6100442201697307,2.576544582673286,2.533001575596465,2.49950193810002,2.53634936545659,2.49280635837977,2.4492633513029496,2.4157637138065042,2.479407952640871,2.4291621195454027,2.392314692188832,2.3655178807110353,2.422459293526754,2.3722207067296837,2.348771685112012,2.3253226634943402],\"y\":[1.7375319225984576,1.6571414881650668,1.5667004378529026,1.5064112351770589,1.4729115976806135,1.6169462709483715,1.5800988435918013,1.5298530104963324,1.4963606192982855,1.653793698304942,1.5901494594705747,1.5231574307760825,1.4695638078204885,1.6772427199226136,1.6068956550695979,1.5365558365149807,1.4930128294381606,1.687293335801387,1.63034467668727,1.5800988435918013,1.5466064523937542],\"z\":[0.0,0.0,0.0,0.0,0.0,0.0,0.0,0.0,0.0,0.0,0.0,0.0,0.0,0.0,0.0,0.0,0.0,0.0,0.0,0.0,0.0],\"type\":\"scatter3d\",\"scene\":\"scene2\"},{\"line\":{\"color\":\"pink\"},\"mode\":\"lines\",\"x\":[2.6033413941510823,2.6602900532652],\"y\":[1.7375319225984576,1.6571414881650668],\"z\":[0.0,0.0],\"type\":\"scatter3d\",\"scene\":\"scene2\"},{\"line\":{\"color\":\"blue\"},\"mode\":\"lines\",\"name\":\"Thumb\",\"x\":[2.6602900532652,2.6904346546031217,2.6837390748828716,2.6904346546031217],\"y\":[1.6571414881650668,1.5667004378529026,1.5064112351770589,1.4729115976806135],\"z\":[0.0,0.0,0.0,0.0],\"type\":\"scatter3d\",\"scene\":\"scene2\"},{\"line\":{\"color\":\"green\"},\"mode\":\"lines\",\"name\":\"Index\",\"x\":[2.6100442201697307,2.576544582673286,2.533001575596465,2.49950193810002],\"y\":[1.6169462709483715,1.5800988435918013,1.5298530104963324,1.4963606192982855],\"z\":[0.0,0.0,0.0,0.0],\"type\":\"scatter3d\",\"scene\":\"scene2\"},{\"line\":{\"color\":\"red\"},\"mode\":\"lines\",\"name\":\"Middle\",\"x\":[2.53634936545659,2.49280635837977,2.4492633513029496,2.4157637138065042],\"y\":[1.653793698304942,1.5901494594705747,1.5231574307760825,1.4695638078204885],\"z\":[0.0,0.0,0.0,0.0],\"type\":\"scatter3d\",\"scene\":\"scene2\"},{\"line\":{\"color\":\"orange\"},\"mode\":\"lines\",\"name\":\"Ring\",\"x\":[2.479407952640871,2.4291621195454027,2.392314692188832,2.3655178807110353],\"y\":[1.6772427199226136,1.6068956550695979,1.5365558365149807,1.4930128294381606],\"z\":[0.0,0.0,0.0,0.0],\"type\":\"scatter3d\",\"scene\":\"scene2\"},{\"line\":{\"color\":\"yellow\"},\"mode\":\"lines\",\"name\":\"Pinky\",\"x\":[2.422459293526754,2.3722207067296837,2.348771685112012,2.3253226634943402],\"y\":[1.687293335801387,1.63034467668727,1.5800988435918013,1.5466064523937542],\"z\":[0.0,0.0,0.0,0.0],\"type\":\"scatter3d\",\"scene\":\"scene2\"},{\"line\":{\"color\":\"pink\"},\"mode\":\"lines\",\"name\":\"Wrist to 1\",\"x\":[2.6033413941510823,2.6602900532652],\"y\":[1.7375319225984576,1.6571414881650668],\"z\":[0.0,0.0],\"type\":\"scatter3d\",\"scene\":\"scene2\"},{\"line\":{\"color\":\"pink\"},\"mode\":\"lines\",\"name\":\"Wrist to 5\",\"x\":[2.6033413941510823,2.6100442201697307],\"y\":[1.7375319225984576,1.6169462709483715],\"z\":[0.0,0.0],\"type\":\"scatter3d\",\"scene\":\"scene2\"},{\"line\":{\"color\":\"pink\"},\"mode\":\"lines\",\"name\":\"Wrist to 9\",\"x\":[2.6033413941510823,2.53634936545659],\"y\":[1.7375319225984576,1.653793698304942],\"z\":[0.0,0.0],\"type\":\"scatter3d\",\"scene\":\"scene2\"},{\"line\":{\"color\":\"pink\"},\"mode\":\"lines\",\"name\":\"Wrist to 13\",\"x\":[2.6033413941510823,2.479407952640871],\"y\":[1.7375319225984576,1.6772427199226136],\"z\":[0.0,0.0],\"type\":\"scatter3d\",\"scene\":\"scene2\"},{\"line\":{\"color\":\"pink\"},\"mode\":\"lines\",\"name\":\"Wrist to 17\",\"x\":[2.6033413941510823,2.422459293526754],\"y\":[1.7375319225984576,1.687293335801387],\"z\":[0.0,0.0],\"type\":\"scatter3d\",\"scene\":\"scene2\"},{\"mode\":\"markers\",\"name\":\"Frame 3 Points\",\"x\":[2.5726219153534524,2.6226129766592687,2.649281124304238,2.6359434457037527,2.632612630831632,2.5426301623923635,2.4859702617863046,2.435979200480489,2.3993186082191573,2.479308632042063,2.3993186082191573,2.3526583617854624,2.329328238568615,2.4293103611802467,2.3559891766575833,2.3059981153517675,2.2760063623906777,2.382657324302552,2.3193285843962514,2.28266799213492,2.256007054045951],\"y\":[1.7234732000866066,1.6601516697363063,1.586830485213643,1.5335013994797058,1.5068404613907374,1.6234910774749747,1.590161300085764,1.54683186852419,1.5101712762628583,1.6634824846084275,1.5968229298300058,1.5168401155631006,1.4535113756568,1.6768129536529117,1.6101533988744903,1.540170238779948,1.4801795233017687,1.6934742375695169,1.6368215465194589,1.590161300085764,1.550162683396311],\"z\":[0.0,0.0,0.0,0.0,0.0,0.0,0.0,0.0,0.0,0.0,0.0,0.0,0.0,0.0,0.0,0.0,0.0,0.0,0.0,0.0,0.0],\"type\":\"scatter3d\",\"scene\":\"scene3\"},{\"line\":{\"color\":\"pink\"},\"mode\":\"lines\",\"x\":[2.5726219153534524,2.6226129766592687],\"y\":[1.7234732000866066,1.6601516697363063],\"z\":[0.0,0.0],\"type\":\"scatter3d\",\"scene\":\"scene3\"},{\"line\":{\"color\":\"blue\"},\"mode\":\"lines\",\"name\":\"Thumb\",\"x\":[2.6226129766592687,2.649281124304238,2.6359434457037527,2.632612630831632],\"y\":[1.6601516697363063,1.586830485213643,1.5335013994797058,1.5068404613907374],\"z\":[0.0,0.0,0.0,0.0],\"type\":\"scatter3d\",\"scene\":\"scene3\"},{\"line\":{\"color\":\"green\"},\"mode\":\"lines\",\"name\":\"Index\",\"x\":[2.5426301623923635,2.4859702617863046,2.435979200480489,2.3993186082191573],\"y\":[1.6234910774749747,1.590161300085764,1.54683186852419,1.5101712762628583],\"z\":[0.0,0.0,0.0,0.0],\"type\":\"scatter3d\",\"scene\":\"scene3\"},{\"line\":{\"color\":\"red\"},\"mode\":\"lines\",\"name\":\"Middle\",\"x\":[2.479308632042063,2.3993186082191573,2.3526583617854624,2.329328238568615],\"y\":[1.6634824846084275,1.5968229298300058,1.5168401155631006,1.4535113756568],\"z\":[0.0,0.0,0.0,0.0],\"type\":\"scatter3d\",\"scene\":\"scene3\"},{\"line\":{\"color\":\"orange\"},\"mode\":\"lines\",\"name\":\"Ring\",\"x\":[2.4293103611802467,2.3559891766575833,2.3059981153517675,2.2760063623906777],\"y\":[1.6768129536529117,1.6101533988744903,1.540170238779948,1.4801795233017687],\"z\":[0.0,0.0,0.0,0.0],\"type\":\"scatter3d\",\"scene\":\"scene3\"},{\"line\":{\"color\":\"yellow\"},\"mode\":\"lines\",\"name\":\"Pinky\",\"x\":[2.382657324302552,2.3193285843962514,2.28266799213492,2.256007054045951],\"y\":[1.6934742375695169,1.6368215465194589,1.590161300085764,1.550162683396311],\"z\":[0.0,0.0,0.0,0.0],\"type\":\"scatter3d\",\"scene\":\"scene3\"},{\"line\":{\"color\":\"pink\"},\"mode\":\"lines\",\"name\":\"Wrist to 1\",\"x\":[2.5726219153534524,2.6226129766592687],\"y\":[1.7234732000866066,1.6601516697363063],\"z\":[0.0,0.0],\"type\":\"scatter3d\",\"scene\":\"scene3\"},{\"line\":{\"color\":\"pink\"},\"mode\":\"lines\",\"name\":\"Wrist to 5\",\"x\":[2.5726219153534524,2.5426301623923635],\"y\":[1.7234732000866066,1.6234910774749747],\"z\":[0.0,0.0],\"type\":\"scatter3d\",\"scene\":\"scene3\"},{\"line\":{\"color\":\"pink\"},\"mode\":\"lines\",\"name\":\"Wrist to 9\",\"x\":[2.5726219153534524,2.479308632042063],\"y\":[1.7234732000866066,1.6634824846084275],\"z\":[0.0,0.0],\"type\":\"scatter3d\",\"scene\":\"scene3\"},{\"line\":{\"color\":\"pink\"},\"mode\":\"lines\",\"name\":\"Wrist to 13\",\"x\":[2.5726219153534524,2.4293103611802467],\"y\":[1.7234732000866066,1.6768129536529117],\"z\":[0.0,0.0],\"type\":\"scatter3d\",\"scene\":\"scene3\"},{\"line\":{\"color\":\"pink\"},\"mode\":\"lines\",\"name\":\"Wrist to 17\",\"x\":[2.5726219153534524,2.382657324302552],\"y\":[1.7234732000866066,1.6934742375695169],\"z\":[0.0,0.0],\"type\":\"scatter3d\",\"scene\":\"scene3\"},{\"mode\":\"markers\",\"name\":\"Frame 4 Points\",\"x\":[2.5618974782206765,2.6054322698539654,2.632225115124412,2.635570638852032,2.702552752028147,2.4915698413169416,2.421235040550834,2.3710020375999337,2.3274672459666443,2.4346314631860575,2.344209192329487,2.290630665650967,2.2504413977452975,2.39444935914276,2.3107252996038015,2.2638378203805205,2.2336994513824546,2.3609583025547023,2.2872779780609753,2.257139609062909,2.2303467637924634],\"y\":[1.735717886333117,1.6754339844746131,1.6118045588884895,1.544822445712374,1.4912439190338536,1.6519938267941587,1.605106347570878,1.5716152909828203,1.544822445712374,1.6821321957922246,1.605106347570878,1.544822445712374,1.4945894427614734,1.7022268297450593,1.6252009815237125,1.5548733446199774,1.497942130351465,1.7189687761079022,1.6553393505217786,1.6084518712984976,1.5716152909828203],\"z\":[0.0,0.0,0.0,0.0,0.0,0.0,0.0,0.0,0.0,0.0,0.0,0.0,0.0,0.0,0.0,0.0,0.0,0.0,0.0,0.0,0.0],\"type\":\"scatter3d\",\"scene\":\"scene4\"},{\"line\":{\"color\":\"pink\"},\"mode\":\"lines\",\"x\":[2.5618974782206765,2.6054322698539654],\"y\":[1.735717886333117,1.6754339844746131],\"z\":[0.0,0.0],\"type\":\"scatter3d\",\"scene\":\"scene4\"},{\"line\":{\"color\":\"blue\"},\"mode\":\"lines\",\"name\":\"Thumb\",\"x\":[2.6054322698539654,2.632225115124412,2.635570638852032,2.702552752028147],\"y\":[1.6754339844746131,1.6118045588884895,1.544822445712374,1.4912439190338536],\"z\":[0.0,0.0,0.0,0.0],\"type\":\"scatter3d\",\"scene\":\"scene4\"},{\"line\":{\"color\":\"green\"},\"mode\":\"lines\",\"name\":\"Index\",\"x\":[2.4915698413169416,2.421235040550834,2.3710020375999337,2.3274672459666443],\"y\":[1.6519938267941587,1.605106347570878,1.5716152909828203,1.544822445712374],\"z\":[0.0,0.0,0.0,0.0],\"type\":\"scatter3d\",\"scene\":\"scene4\"},{\"line\":{\"color\":\"red\"},\"mode\":\"lines\",\"name\":\"Middle\",\"x\":[2.4346314631860575,2.344209192329487,2.290630665650967,2.2504413977452975],\"y\":[1.6821321957922246,1.605106347570878,1.544822445712374,1.4945894427614734],\"z\":[0.0,0.0,0.0,0.0],\"type\":\"scatter3d\",\"scene\":\"scene4\"},{\"line\":{\"color\":\"orange\"},\"mode\":\"lines\",\"name\":\"Ring\",\"x\":[2.39444935914276,2.3107252996038015,2.2638378203805205,2.2336994513824546],\"y\":[1.7022268297450593,1.6252009815237125,1.5548733446199774,1.497942130351465],\"z\":[0.0,0.0,0.0,0.0],\"type\":\"scatter3d\",\"scene\":\"scene4\"},{\"line\":{\"color\":\"yellow\"},\"mode\":\"lines\",\"name\":\"Pinky\",\"x\":[2.3609583025547023,2.2872779780609753,2.257139609062909,2.2303467637924634],\"y\":[1.7189687761079022,1.6553393505217786,1.6084518712984976,1.5716152909828203],\"z\":[0.0,0.0,0.0,0.0],\"type\":\"scatter3d\",\"scene\":\"scene4\"},{\"line\":{\"color\":\"pink\"},\"mode\":\"lines\",\"name\":\"Wrist to 1\",\"x\":[2.5618974782206765,2.6054322698539654],\"y\":[1.735717886333117,1.6754339844746131],\"z\":[0.0,0.0],\"type\":\"scatter3d\",\"scene\":\"scene4\"},{\"line\":{\"color\":\"pink\"},\"mode\":\"lines\",\"name\":\"Wrist to 5\",\"x\":[2.5618974782206765,2.4915698413169416],\"y\":[1.735717886333117,1.6519938267941587],\"z\":[0.0,0.0],\"type\":\"scatter3d\",\"scene\":\"scene4\"},{\"line\":{\"color\":\"pink\"},\"mode\":\"lines\",\"name\":\"Wrist to 9\",\"x\":[2.5618974782206765,2.4346314631860575],\"y\":[1.735717886333117,1.6821321957922246],\"z\":[0.0,0.0],\"type\":\"scatter3d\",\"scene\":\"scene4\"},{\"line\":{\"color\":\"pink\"},\"mode\":\"lines\",\"name\":\"Wrist to 13\",\"x\":[2.5618974782206765,2.39444935914276],\"y\":[1.735717886333117,1.7022268297450593],\"z\":[0.0,0.0],\"type\":\"scatter3d\",\"scene\":\"scene4\"},{\"line\":{\"color\":\"pink\"},\"mode\":\"lines\",\"name\":\"Wrist to 17\",\"x\":[2.5618974782206765,2.3609583025547023],\"y\":[1.735717886333117,1.7189687761079022],\"z\":[0.0,0.0],\"type\":\"scatter3d\",\"scene\":\"scene4\"}],                        {\"template\":{\"data\":{\"histogram2dcontour\":[{\"type\":\"histogram2dcontour\",\"colorbar\":{\"outlinewidth\":0,\"ticks\":\"\"},\"colorscale\":[[0.0,\"#0d0887\"],[0.1111111111111111,\"#46039f\"],[0.2222222222222222,\"#7201a8\"],[0.3333333333333333,\"#9c179e\"],[0.4444444444444444,\"#bd3786\"],[0.5555555555555556,\"#d8576b\"],[0.6666666666666666,\"#ed7953\"],[0.7777777777777778,\"#fb9f3a\"],[0.8888888888888888,\"#fdca26\"],[1.0,\"#f0f921\"]]}],\"choropleth\":[{\"type\":\"choropleth\",\"colorbar\":{\"outlinewidth\":0,\"ticks\":\"\"}}],\"histogram2d\":[{\"type\":\"histogram2d\",\"colorbar\":{\"outlinewidth\":0,\"ticks\":\"\"},\"colorscale\":[[0.0,\"#0d0887\"],[0.1111111111111111,\"#46039f\"],[0.2222222222222222,\"#7201a8\"],[0.3333333333333333,\"#9c179e\"],[0.4444444444444444,\"#bd3786\"],[0.5555555555555556,\"#d8576b\"],[0.6666666666666666,\"#ed7953\"],[0.7777777777777778,\"#fb9f3a\"],[0.8888888888888888,\"#fdca26\"],[1.0,\"#f0f921\"]]}],\"heatmap\":[{\"type\":\"heatmap\",\"colorbar\":{\"outlinewidth\":0,\"ticks\":\"\"},\"colorscale\":[[0.0,\"#0d0887\"],[0.1111111111111111,\"#46039f\"],[0.2222222222222222,\"#7201a8\"],[0.3333333333333333,\"#9c179e\"],[0.4444444444444444,\"#bd3786\"],[0.5555555555555556,\"#d8576b\"],[0.6666666666666666,\"#ed7953\"],[0.7777777777777778,\"#fb9f3a\"],[0.8888888888888888,\"#fdca26\"],[1.0,\"#f0f921\"]]}],\"heatmapgl\":[{\"type\":\"heatmapgl\",\"colorbar\":{\"outlinewidth\":0,\"ticks\":\"\"},\"colorscale\":[[0.0,\"#0d0887\"],[0.1111111111111111,\"#46039f\"],[0.2222222222222222,\"#7201a8\"],[0.3333333333333333,\"#9c179e\"],[0.4444444444444444,\"#bd3786\"],[0.5555555555555556,\"#d8576b\"],[0.6666666666666666,\"#ed7953\"],[0.7777777777777778,\"#fb9f3a\"],[0.8888888888888888,\"#fdca26\"],[1.0,\"#f0f921\"]]}],\"contourcarpet\":[{\"type\":\"contourcarpet\",\"colorbar\":{\"outlinewidth\":0,\"ticks\":\"\"}}],\"contour\":[{\"type\":\"contour\",\"colorbar\":{\"outlinewidth\":0,\"ticks\":\"\"},\"colorscale\":[[0.0,\"#0d0887\"],[0.1111111111111111,\"#46039f\"],[0.2222222222222222,\"#7201a8\"],[0.3333333333333333,\"#9c179e\"],[0.4444444444444444,\"#bd3786\"],[0.5555555555555556,\"#d8576b\"],[0.6666666666666666,\"#ed7953\"],[0.7777777777777778,\"#fb9f3a\"],[0.8888888888888888,\"#fdca26\"],[1.0,\"#f0f921\"]]}],\"surface\":[{\"type\":\"surface\",\"colorbar\":{\"outlinewidth\":0,\"ticks\":\"\"},\"colorscale\":[[0.0,\"#0d0887\"],[0.1111111111111111,\"#46039f\"],[0.2222222222222222,\"#7201a8\"],[0.3333333333333333,\"#9c179e\"],[0.4444444444444444,\"#bd3786\"],[0.5555555555555556,\"#d8576b\"],[0.6666666666666666,\"#ed7953\"],[0.7777777777777778,\"#fb9f3a\"],[0.8888888888888888,\"#fdca26\"],[1.0,\"#f0f921\"]]}],\"mesh3d\":[{\"type\":\"mesh3d\",\"colorbar\":{\"outlinewidth\":0,\"ticks\":\"\"}}],\"scatter\":[{\"fillpattern\":{\"fillmode\":\"overlay\",\"size\":10,\"solidity\":0.2},\"type\":\"scatter\"}],\"parcoords\":[{\"type\":\"parcoords\",\"line\":{\"colorbar\":{\"outlinewidth\":0,\"ticks\":\"\"}}}],\"scatterpolargl\":[{\"type\":\"scatterpolargl\",\"marker\":{\"colorbar\":{\"outlinewidth\":0,\"ticks\":\"\"}}}],\"bar\":[{\"error_x\":{\"color\":\"#2a3f5f\"},\"error_y\":{\"color\":\"#2a3f5f\"},\"marker\":{\"line\":{\"color\":\"#E5ECF6\",\"width\":0.5},\"pattern\":{\"fillmode\":\"overlay\",\"size\":10,\"solidity\":0.2}},\"type\":\"bar\"}],\"scattergeo\":[{\"type\":\"scattergeo\",\"marker\":{\"colorbar\":{\"outlinewidth\":0,\"ticks\":\"\"}}}],\"scatterpolar\":[{\"type\":\"scatterpolar\",\"marker\":{\"colorbar\":{\"outlinewidth\":0,\"ticks\":\"\"}}}],\"histogram\":[{\"marker\":{\"pattern\":{\"fillmode\":\"overlay\",\"size\":10,\"solidity\":0.2}},\"type\":\"histogram\"}],\"scattergl\":[{\"type\":\"scattergl\",\"marker\":{\"colorbar\":{\"outlinewidth\":0,\"ticks\":\"\"}}}],\"scatter3d\":[{\"type\":\"scatter3d\",\"line\":{\"colorbar\":{\"outlinewidth\":0,\"ticks\":\"\"}},\"marker\":{\"colorbar\":{\"outlinewidth\":0,\"ticks\":\"\"}}}],\"scattermapbox\":[{\"type\":\"scattermapbox\",\"marker\":{\"colorbar\":{\"outlinewidth\":0,\"ticks\":\"\"}}}],\"scatterternary\":[{\"type\":\"scatterternary\",\"marker\":{\"colorbar\":{\"outlinewidth\":0,\"ticks\":\"\"}}}],\"scattercarpet\":[{\"type\":\"scattercarpet\",\"marker\":{\"colorbar\":{\"outlinewidth\":0,\"ticks\":\"\"}}}],\"carpet\":[{\"aaxis\":{\"endlinecolor\":\"#2a3f5f\",\"gridcolor\":\"white\",\"linecolor\":\"white\",\"minorgridcolor\":\"white\",\"startlinecolor\":\"#2a3f5f\"},\"baxis\":{\"endlinecolor\":\"#2a3f5f\",\"gridcolor\":\"white\",\"linecolor\":\"white\",\"minorgridcolor\":\"white\",\"startlinecolor\":\"#2a3f5f\"},\"type\":\"carpet\"}],\"table\":[{\"cells\":{\"fill\":{\"color\":\"#EBF0F8\"},\"line\":{\"color\":\"white\"}},\"header\":{\"fill\":{\"color\":\"#C8D4E3\"},\"line\":{\"color\":\"white\"}},\"type\":\"table\"}],\"barpolar\":[{\"marker\":{\"line\":{\"color\":\"#E5ECF6\",\"width\":0.5},\"pattern\":{\"fillmode\":\"overlay\",\"size\":10,\"solidity\":0.2}},\"type\":\"barpolar\"}],\"pie\":[{\"automargin\":true,\"type\":\"pie\"}]},\"layout\":{\"autotypenumbers\":\"strict\",\"colorway\":[\"#636efa\",\"#EF553B\",\"#00cc96\",\"#ab63fa\",\"#FFA15A\",\"#19d3f3\",\"#FF6692\",\"#B6E880\",\"#FF97FF\",\"#FECB52\"],\"font\":{\"color\":\"#2a3f5f\"},\"hovermode\":\"closest\",\"hoverlabel\":{\"align\":\"left\"},\"paper_bgcolor\":\"white\",\"plot_bgcolor\":\"#E5ECF6\",\"polar\":{\"bgcolor\":\"#E5ECF6\",\"angularaxis\":{\"gridcolor\":\"white\",\"linecolor\":\"white\",\"ticks\":\"\"},\"radialaxis\":{\"gridcolor\":\"white\",\"linecolor\":\"white\",\"ticks\":\"\"}},\"ternary\":{\"bgcolor\":\"#E5ECF6\",\"aaxis\":{\"gridcolor\":\"white\",\"linecolor\":\"white\",\"ticks\":\"\"},\"baxis\":{\"gridcolor\":\"white\",\"linecolor\":\"white\",\"ticks\":\"\"},\"caxis\":{\"gridcolor\":\"white\",\"linecolor\":\"white\",\"ticks\":\"\"}},\"coloraxis\":{\"colorbar\":{\"outlinewidth\":0,\"ticks\":\"\"}},\"colorscale\":{\"sequential\":[[0.0,\"#0d0887\"],[0.1111111111111111,\"#46039f\"],[0.2222222222222222,\"#7201a8\"],[0.3333333333333333,\"#9c179e\"],[0.4444444444444444,\"#bd3786\"],[0.5555555555555556,\"#d8576b\"],[0.6666666666666666,\"#ed7953\"],[0.7777777777777778,\"#fb9f3a\"],[0.8888888888888888,\"#fdca26\"],[1.0,\"#f0f921\"]],\"sequentialminus\":[[0.0,\"#0d0887\"],[0.1111111111111111,\"#46039f\"],[0.2222222222222222,\"#7201a8\"],[0.3333333333333333,\"#9c179e\"],[0.4444444444444444,\"#bd3786\"],[0.5555555555555556,\"#d8576b\"],[0.6666666666666666,\"#ed7953\"],[0.7777777777777778,\"#fb9f3a\"],[0.8888888888888888,\"#fdca26\"],[1.0,\"#f0f921\"]],\"diverging\":[[0,\"#8e0152\"],[0.1,\"#c51b7d\"],[0.2,\"#de77ae\"],[0.3,\"#f1b6da\"],[0.4,\"#fde0ef\"],[0.5,\"#f7f7f7\"],[0.6,\"#e6f5d0\"],[0.7,\"#b8e186\"],[0.8,\"#7fbc41\"],[0.9,\"#4d9221\"],[1,\"#276419\"]]},\"xaxis\":{\"gridcolor\":\"white\",\"linecolor\":\"white\",\"ticks\":\"\",\"title\":{\"standoff\":15},\"zerolinecolor\":\"white\",\"automargin\":true,\"zerolinewidth\":2},\"yaxis\":{\"gridcolor\":\"white\",\"linecolor\":\"white\",\"ticks\":\"\",\"title\":{\"standoff\":15},\"zerolinecolor\":\"white\",\"automargin\":true,\"zerolinewidth\":2},\"scene\":{\"xaxis\":{\"backgroundcolor\":\"#E5ECF6\",\"gridcolor\":\"white\",\"linecolor\":\"white\",\"showbackground\":true,\"ticks\":\"\",\"zerolinecolor\":\"white\",\"gridwidth\":2},\"yaxis\":{\"backgroundcolor\":\"#E5ECF6\",\"gridcolor\":\"white\",\"linecolor\":\"white\",\"showbackground\":true,\"ticks\":\"\",\"zerolinecolor\":\"white\",\"gridwidth\":2},\"zaxis\":{\"backgroundcolor\":\"#E5ECF6\",\"gridcolor\":\"white\",\"linecolor\":\"white\",\"showbackground\":true,\"ticks\":\"\",\"zerolinecolor\":\"white\",\"gridwidth\":2}},\"shapedefaults\":{\"line\":{\"color\":\"#2a3f5f\"}},\"annotationdefaults\":{\"arrowcolor\":\"#2a3f5f\",\"arrowhead\":0,\"arrowwidth\":1},\"geo\":{\"bgcolor\":\"white\",\"landcolor\":\"#E5ECF6\",\"subunitcolor\":\"white\",\"showland\":true,\"showlakes\":true,\"lakecolor\":\"white\"},\"title\":{\"x\":0.05},\"mapbox\":{\"style\":\"light\"}}},\"scene\":{\"domain\":{\"x\":[0.0,0.2125],\"y\":[0.0,1.0]},\"xaxis\":{\"title\":{\"text\":\"X Axis\"}},\"yaxis\":{\"title\":{\"text\":\"Y Axis\"}},\"zaxis\":{\"title\":{\"text\":\"Z Axis\"}}},\"scene2\":{\"domain\":{\"x\":[0.2625,0.475],\"y\":[0.0,1.0]},\"xaxis\":{\"title\":{\"text\":\"X Axis\"}},\"yaxis\":{\"title\":{\"text\":\"Y Axis\"}},\"zaxis\":{\"title\":{\"text\":\"Z Axis\"}}},\"scene3\":{\"domain\":{\"x\":[0.525,0.7375],\"y\":[0.0,1.0]},\"xaxis\":{\"title\":{\"text\":\"X Axis\"}},\"yaxis\":{\"title\":{\"text\":\"Y Axis\"}},\"zaxis\":{\"title\":{\"text\":\"Z Axis\"}}},\"scene4\":{\"domain\":{\"x\":[0.7875,1.0],\"y\":[0.0,1.0]},\"xaxis\":{\"title\":{\"text\":\"X Axis\"}},\"yaxis\":{\"title\":{\"text\":\"Y Axis\"}},\"zaxis\":{\"title\":{\"text\":\"Z Axis\"}}},\"title\":{\"text\":\"3D Plots of Hand Skeleton Across Frames\"},\"height\":600,\"width\":2400},                        {\"responsive\": true}                    ).then(function(){\n",
       "                            \n",
       "var gd = document.getElementById('41cbc6a0-a5e6-4941-98ca-b88b5ebc064c');\n",
       "var x = new MutationObserver(function (mutations, observer) {{\n",
       "        var display = window.getComputedStyle(gd).display;\n",
       "        if (!display || display === 'none') {{\n",
       "            console.log([gd, 'removed!']);\n",
       "            Plotly.purge(gd);\n",
       "            observer.disconnect();\n",
       "        }}\n",
       "}});\n",
       "\n",
       "// Listen for the removal of the full notebook cells\n",
       "var notebookContainer = gd.closest('#notebook-container');\n",
       "if (notebookContainer) {{\n",
       "    x.observe(notebookContainer, {childList: true});\n",
       "}}\n",
       "\n",
       "// Listen for the clearing of the current output cell\n",
       "var outputEl = gd.closest('.output');\n",
       "if (outputEl) {{\n",
       "    x.observe(outputEl, {childList: true});\n",
       "}}\n",
       "\n",
       "                        })                };                });            </script>        </div>"
      ]
     },
     "metadata": {},
     "output_type": "display_data"
    }
   ],
   "source": [
    "import json\n",
    "import plotly.graph_objects as go\n",
    "from plotly.subplots import make_subplots\n",
    "\n",
    "# Load your data\n",
    "file_path = '/Users/ck/Documents/Year 4/PR400/asl-skeleton3d/normalized/3d/applause-183541.json'\n",
    "with open(file_path, 'r') as file:\n",
    "    data_new = json.load(file)\n",
    "\n",
    "# Number of frames to plot\n",
    "num_frames = len(data_new['frames'])\n",
    "\n",
    "# Create subplots\n",
    "fig = make_subplots(rows=1, cols=num_frames, \n",
    "                    specs=[[{'type': 'scatter3d'} for _ in range(num_frames)]])\n",
    "\n",
    "# Loop through each frame and create a plot\n",
    "for i in range(num_frames):\n",
    "    x = data_new['frames'][i]['skeleton']['hand_left']['x']\n",
    "    y = data_new['frames'][i]['skeleton']['hand_left']['y']\n",
    "    z = data_new['frames'][i]['skeleton']['hand_left']['z']\n",
    "\n",
    "    # Add scatter plot for points\n",
    "    fig.add_trace(go.Scatter3d(x=x, y=y, z=z, mode='markers', name=f'Frame {i+1} Points'), row=1, col=i+1)\n",
    "\n",
    "    # Add lines (repeat for each set of lines you need)\n",
    "    # Example of adding one line for each frame\n",
    "    fig.add_trace(go.Scatter3d(x=[x[0], x[1]], y=[y[0], y[1]], z=[z[0], z[1]], mode='lines', line=dict(color='pink')), row=1, col=i+1)\n",
    "    fig.add_trace(go.Scatter3d(x=[x[1], x[2], x[3], x[4]], y=[y[1], y[2], y[3], y[4]], z=[z[1], z[2], z[3], z[4]], mode='lines', name='Thumb', line=dict(color='blue')), row=1, col=i+1)\n",
    "    fig.add_trace(go.Scatter3d(x=[x[5], x[6], x[7], x[8]], y=[y[5], y[6], y[7], y[8]], z=[z[5], z[6], z[7], z[8]], mode='lines', name='Index', line=dict(color='green')), row=1, col=i+1)\n",
    "    fig.add_trace(go.Scatter3d(x=[x[9], x[10], x[11], x[12]], y=[y[9], y[10], y[11], y[12]], z=[z[9], z[10], z[11], z[12]], mode='lines', name='Middle', line=dict(color='red')), row=1, col=i+1)\n",
    "    fig.add_trace(go.Scatter3d(x=[x[13], x[14], x[15], x[16]], y=[y[13], y[14], y[15], y[16]], z=[z[13], z[14], z[15], z[16]], mode='lines', name='Ring', line=dict(color='orange')), row=1, col=i+1)\n",
    "    fig.add_trace(go.Scatter3d(x=[x[17], x[18], x[19], x[20]], y=[y[17], y[18], y[19], y[20]], z=[z[17], z[18], z[19], z[20]], mode='lines', name='Pinky', line=dict(color='yellow')), row=1, col=i+1)\n",
    "\n",
    "    colors = ['pink', 'pink', 'pink', 'pink', 'pink']\n",
    "    for l, color in zip([1, 5, 9, 13, 17], colors):\n",
    "        fig.add_trace(go.Scatter3d(x=[x[0], x[l]], y=[y[0], y[l]], z=[z[0], z[l]], mode='lines', name=f'Wrist to {l}', line=dict(color=color)), row=1, col=i+1)\n",
    "\n",
    "    \n",
    "    \n",
    "# Customize layout for each subplot\n",
    "for i in range(num_frames):\n",
    "    fig.update_layout(**{\n",
    "        f'scene{i+1}_xaxis_title': 'X Axis',\n",
    "        f'scene{i+1}_yaxis_title': 'Y Axis',\n",
    "        f'scene{i+1}_zaxis_title': 'Z Axis'\n",
    "    })\n",
    "\n",
    "# Update overall layout\n",
    "fig.update_layout(\n",
    "    title=\"3D Plots of Hand Skeleton Across Frames\",\n",
    "    height=600,\n",
    "    width=600 * num_frames\n",
    ")\n",
    "\n",
    "# Show plot\n",
    "fig.show()\n"
   ]
  },
  {
   "cell_type": "code",
   "execution_count": 26,
   "id": "4c6307b6",
   "metadata": {
    "scrolled": true
   },
   "outputs": [
    {
     "data": {
      "application/vnd.plotly.v1+json": {
       "config": {
        "plotlyServerURL": "https://plot.ly"
       },
       "data": [
        {
         "mode": "markers",
         "name": "Frame 1 Left Hand",
         "scene": "scene",
         "type": "scatter3d",
         "x": [
          2.5985743491076727,
          2.541288908537371,
          2.451279135687991,
          2.3803558507465716,
          2.3530801620043347,
          2.3339871798847693,
          2.243970912823784,
          2.1621438465970755,
          2.0884929927814317,
          2.3094390600167567,
          2.2030573797104296,
          2.1321405889806155,
          2.063944872913419,
          2.3067114911425333,
          2.213967655207324,
          2.1403232956032863,
          2.077582717284537,
          2.3094390600167567,
          2.2276054995784427,
          2.1757816909681935,
          2.134868157854839
         ],
         "y": [
          1.6569136663399893,
          1.6760066484595546,
          1.6869169239564492,
          1.6787342173337785,
          1.6869169239564492,
          1.6323655464719766,
          1.6678239418368839,
          1.6978271994533438,
          1.7223753193213565,
          1.6541860974657656,
          1.6923720617048963,
          1.7141926126986855,
          1.7223753193213565,
          1.6705515107111075,
          1.6950996305791202,
          1.7114650438244619,
          1.72510288819558,
          1.689644492830673,
          1.6787342173337785,
          1.6950996305791202,
          1.6978271994533438
         ],
         "z": [
          0,
          0,
          0,
          0,
          0,
          0,
          0,
          0,
          0,
          0,
          0,
          0,
          0,
          0,
          0,
          0,
          0,
          0,
          0,
          0,
          0
         ]
        },
        {
         "mode": "markers",
         "name": "Frame 1 Right Hand",
         "scene": "scene",
         "type": "scatter3d",
         "x": [
          1.6037130848694177,
          1.7037044609561351,
          1.8861983012765122,
          1.928702916233164,
          1.9237023732970873,
          1.906200473020819,
          1.9762015799142871,
          2.0036980718511033,
          2.0211999721273717,
          1.8587018093396959,
          1.9187018303610104,
          1.8961993871486655,
          1.8712031666798876,
          1.8087028741905344,
          1.8662026237438107,
          1.8537012664036194,
          1.8212042315307262,
          1.7612042105094117,
          1.8162036885946498,
          1.8112031456585727,
          1.7937012453823045
         ],
         "y": [
          1.107178653951821,
          1.099677839547706,
          1.099677839547706,
          1.1721792179092123,
          1.209676795718182,
          1.044678361462468,
          1.1721792179092123,
          1.2371732876549983,
          1.297173308676313,
          1.0496789043985446,
          1.2046762527821053,
          1.2246719303148068,
          1.2196778815903353,
          1.0696810761428512,
          1.2121770671862204,
          1.2446741020591132,
          1.2371732876549983,
          1.1046783824837827,
          1.2071765242501435,
          1.24967464499519,
          1.257175459399305
         ],
         "z": [
          1.9375350440163643,
          1.9375350440163643,
          1.9601998425188416,
          2.0217065206325846,
          2.0702702350169755,
          2.1155933378103255,
          2.144732865283281,
          2.1155933378103255,
          2.0702702350169755,
          2.1382581363128024,
          2.1738658985446313,
          2.1317834073423243,
          2.0637955060464974,
          2.1738658985446313,
          2.2030054260175875,
          2.144732865283281,
          2.092935033519453,
          2.1900559680766305,
          2.206239543397024,
          2.1609164406036747,
          2.1123592204308883
         ]
        },
        {
         "line": {
          "color": "blue"
         },
         "mode": "lines",
         "scene": "scene",
         "type": "scatter3d",
         "x": [
          2.5985743491076727,
          2.541288908537371
         ],
         "y": [
          1.6569136663399893,
          1.6760066484595546
         ],
         "z": [
          0,
          0
         ]
        },
        {
         "line": {
          "color": "red"
         },
         "mode": "lines",
         "scene": "scene",
         "type": "scatter3d",
         "x": [
          1.6037130848694177,
          1.7037044609561351
         ],
         "y": [
          1.107178653951821,
          1.099677839547706
         ],
         "z": [
          1.9375350440163643,
          1.9375350440163643
         ]
        },
        {
         "line": {
          "color": "blue"
         },
         "mode": "lines",
         "name": "Thumb",
         "scene": "scene",
         "type": "scatter3d",
         "x": [
          1.7037044609561351,
          1.8861983012765122,
          1.928702916233164,
          1.9237023732970873
         ],
         "y": [
          1.099677839547706,
          1.099677839547706,
          1.1721792179092123,
          1.209676795718182
         ],
         "z": [
          1.9375350440163643,
          1.9601998425188416,
          2.0217065206325846,
          2.0702702350169755
         ]
        },
        {
         "line": {
          "color": "red"
         },
         "mode": "lines",
         "name": "Thumb",
         "scene": "scene",
         "type": "scatter3d",
         "x": [
          2.541288908537371,
          2.451279135687991,
          2.3803558507465716,
          2.3530801620043347
         ],
         "y": [
          1.6760066484595546,
          1.6869169239564492,
          1.6787342173337785,
          1.6869169239564492
         ],
         "z": [
          0,
          0,
          0,
          0
         ]
        },
        {
         "line": {
          "color": "blue"
         },
         "mode": "lines",
         "name": "Thumb",
         "scene": "scene",
         "type": "scatter3d",
         "x": [
          1.906200473020819,
          1.9762015799142871,
          2.0036980718511033,
          2.0211999721273717
         ],
         "y": [
          1.044678361462468,
          1.1721792179092123,
          1.2371732876549983,
          1.297173308676313
         ],
         "z": [
          2.1155933378103255,
          2.144732865283281,
          2.1155933378103255,
          2.0702702350169755
         ]
        },
        {
         "line": {
          "color": "red"
         },
         "mode": "lines",
         "name": "Thumb",
         "scene": "scene",
         "type": "scatter3d",
         "x": [
          2.3339871798847693,
          2.243970912823784,
          2.1621438465970755,
          2.0884929927814317
         ],
         "y": [
          1.6323655464719766,
          1.6678239418368839,
          1.6978271994533438,
          1.7223753193213565
         ],
         "z": [
          0,
          0,
          0,
          0
         ]
        },
        {
         "line": {
          "color": "blue"
         },
         "mode": "lines",
         "name": "Thumb",
         "scene": "scene",
         "type": "scatter3d",
         "x": [
          1.8587018093396959,
          1.9187018303610104,
          1.8961993871486655,
          1.8712031666798876
         ],
         "y": [
          1.0496789043985446,
          1.2046762527821053,
          1.2246719303148068,
          1.2196778815903353
         ],
         "z": [
          2.1382581363128024,
          2.1738658985446313,
          2.1317834073423243,
          2.0637955060464974
         ]
        },
        {
         "line": {
          "color": "red"
         },
         "mode": "lines",
         "name": "Thumb",
         "scene": "scene",
         "type": "scatter3d",
         "x": [
          2.3094390600167567,
          2.2030573797104296,
          2.1321405889806155,
          2.063944872913419
         ],
         "y": [
          1.6541860974657656,
          1.6923720617048963,
          1.7141926126986855,
          1.7223753193213565
         ],
         "z": [
          0,
          0,
          0,
          0
         ]
        },
        {
         "line": {
          "color": "blue"
         },
         "mode": "lines",
         "name": "Thumb",
         "scene": "scene",
         "type": "scatter3d",
         "x": [
          1.8087028741905344,
          1.8662026237438107,
          1.8537012664036194,
          1.8212042315307262
         ],
         "y": [
          1.0696810761428512,
          1.2121770671862204,
          1.2446741020591132,
          1.2371732876549983
         ],
         "z": [
          2.1738658985446313,
          2.2030054260175875,
          2.144732865283281,
          2.092935033519453
         ]
        },
        {
         "line": {
          "color": "red"
         },
         "mode": "lines",
         "name": "Thumb",
         "scene": "scene",
         "type": "scatter3d",
         "x": [
          2.3067114911425333,
          2.213967655207324,
          2.1403232956032863,
          2.077582717284537
         ],
         "y": [
          1.6705515107111075,
          1.6950996305791202,
          1.7114650438244619,
          1.72510288819558
         ],
         "z": [
          0,
          0,
          0,
          0
         ]
        },
        {
         "line": {
          "color": "blue"
         },
         "mode": "lines",
         "name": "Thumb",
         "scene": "scene",
         "type": "scatter3d",
         "x": [
          1.7612042105094117,
          1.8162036885946498,
          1.8112031456585727,
          1.7937012453823045
         ],
         "y": [
          1.1046783824837827,
          1.2071765242501435,
          1.24967464499519,
          1.257175459399305
         ],
         "z": [
          2.1900559680766305,
          2.206239543397024,
          2.1609164406036747,
          2.1123592204308883
         ]
        },
        {
         "line": {
          "color": "red"
         },
         "mode": "lines",
         "name": "Thumb",
         "scene": "scene",
         "type": "scatter3d",
         "x": [
          2.3094390600167567,
          2.2276054995784427,
          2.1757816909681935,
          2.134868157854839
         ],
         "y": [
          1.689644492830673,
          1.6787342173337785,
          1.6950996305791202,
          1.6978271994533438
         ],
         "z": [
          0,
          0,
          0,
          0
         ]
        },
        {
         "line": {
          "color": "pink"
         },
         "mode": "lines",
         "name": "Wrist to 1",
         "scene": "scene",
         "type": "scatter3d",
         "x": [
          1.6037130848694177,
          1.7037044609561351
         ],
         "y": [
          1.107178653951821,
          1.099677839547706
         ],
         "z": [
          1.9375350440163643,
          1.9375350440163643
         ]
        },
        {
         "line": {
          "color": "pink"
         },
         "mode": "lines",
         "name": "Wrist to 1",
         "scene": "scene",
         "type": "scatter3d",
         "x": [
          2.5985743491076727,
          2.541288908537371
         ],
         "y": [
          1.6569136663399893,
          1.6760066484595546
         ],
         "z": [
          0,
          0
         ]
        },
        {
         "line": {
          "color": "pink"
         },
         "mode": "lines",
         "name": "Wrist to 5",
         "scene": "scene",
         "type": "scatter3d",
         "x": [
          1.6037130848694177,
          1.906200473020819
         ],
         "y": [
          1.107178653951821,
          1.044678361462468
         ],
         "z": [
          1.9375350440163643,
          2.1155933378103255
         ]
        },
        {
         "line": {
          "color": "pink"
         },
         "mode": "lines",
         "name": "Wrist to 5",
         "scene": "scene",
         "type": "scatter3d",
         "x": [
          2.5985743491076727,
          2.3339871798847693
         ],
         "y": [
          1.6569136663399893,
          1.6323655464719766
         ],
         "z": [
          0,
          0
         ]
        },
        {
         "line": {
          "color": "pink"
         },
         "mode": "lines",
         "name": "Wrist to 9",
         "scene": "scene",
         "type": "scatter3d",
         "x": [
          1.6037130848694177,
          1.8587018093396959
         ],
         "y": [
          1.107178653951821,
          1.0496789043985446
         ],
         "z": [
          1.9375350440163643,
          2.1382581363128024
         ]
        },
        {
         "line": {
          "color": "pink"
         },
         "mode": "lines",
         "name": "Wrist to 9",
         "scene": "scene",
         "type": "scatter3d",
         "x": [
          2.5985743491076727,
          2.3094390600167567
         ],
         "y": [
          1.6569136663399893,
          1.6541860974657656
         ],
         "z": [
          0,
          0
         ]
        },
        {
         "line": {
          "color": "pink"
         },
         "mode": "lines",
         "name": "Wrist to 13",
         "scene": "scene",
         "type": "scatter3d",
         "x": [
          1.6037130848694177,
          1.8087028741905344
         ],
         "y": [
          1.107178653951821,
          1.0696810761428512
         ],
         "z": [
          1.9375350440163643,
          2.1738658985446313
         ]
        },
        {
         "line": {
          "color": "pink"
         },
         "mode": "lines",
         "name": "Wrist to 13",
         "scene": "scene",
         "type": "scatter3d",
         "x": [
          2.5985743491076727,
          2.3067114911425333
         ],
         "y": [
          1.6569136663399893,
          1.6705515107111075
         ],
         "z": [
          0,
          0
         ]
        },
        {
         "line": {
          "color": "pink"
         },
         "mode": "lines",
         "name": "Wrist to 17",
         "scene": "scene",
         "type": "scatter3d",
         "x": [
          1.6037130848694177,
          1.7612042105094117
         ],
         "y": [
          1.107178653951821,
          1.1046783824837827
         ],
         "z": [
          1.9375350440163643,
          2.1900559680766305
         ]
        },
        {
         "line": {
          "color": "pink"
         },
         "mode": "lines",
         "name": "Wrist to 17",
         "scene": "scene",
         "type": "scatter3d",
         "x": [
          2.5985743491076727,
          2.3094390600167567
         ],
         "y": [
          1.6569136663399893,
          1.689644492830673
         ],
         "z": [
          0,
          0
         ]
        },
        {
         "mode": "markers",
         "name": "Frame 2 Left Hand",
         "scene": "scene2",
         "type": "scatter3d",
         "x": [
          2.633707476260312,
          2.5569100564850786,
          2.4536289558568063,
          2.3821322132761176,
          2.2947400074850237,
          2.3847792676867763,
          2.305334793500885,
          2.265609272221326,
          2.2285373737256524,
          2.3794785904922318,
          2.297387061895682,
          2.2523674317948057,
          2.220589642120449,
          2.387426322097435,
          2.3185766339274045,
          2.276204058237187,
          2.2735570038265287,
          2.4271518433769943,
          2.3477008008178757,
          2.3079818479115435,
          2.281498167058504
         ],
         "y": [
          1.4679723009738765,
          1.5103448766640943,
          1.5103448766640943,
          1.4732664097951933,
          1.470619355384535,
          1.4044167216251633,
          1.4123578848571388,
          1.417658562051683,
          1.4335474568888615,
          1.4123578848571388,
          1.4203056164623418,
          1.430900402478203,
          1.4467892973153813,
          1.4282467796943172,
          1.430900402478203,
          1.4388415657101785,
          1.4467892973153813,
          1.4335474568888615,
          1.4494363517260398,
          1.4467892973153813,
          1.4547304605473566
         ],
         "z": [
          1.7070545180794785,
          1.8043518306975528,
          1.7719172037004522,
          1.7195278588383878,
          2.053844919368648,
          1.8841904072770905,
          1.9266023932066731,
          1.9864796835480194,
          2.0463569738893663,
          1.861733139212472,
          1.9116330706213365,
          1.9765023246155375,
          2.006440969786211,
          1.8492597984535628,
          1.8991597298624272,
          1.9415717157920096,
          1.9665183973098281,
          1.8193211532828897,
          1.861733139212472,
          1.9016557116888546,
          1.9116330706213365
         ]
        },
        {
         "mode": "markers",
         "name": "Frame 2 Right Hand",
         "scene": "scene2",
         "type": "scatter3d",
         "x": [
          1.7902363966317834,
          1.8724198824535172,
          1.9655594148186217,
          1.9874715079053629,
          1.9874715079053629,
          2.023085227544545,
          2.025824239180387,
          2.014868192637017,
          2.0066511577294888,
          1.9874715079053629,
          1.9600813915469366,
          1.9162506370002268,
          1.8970709871761013,
          1.924467671907755,
          1.9025490104477865,
          1.8724198824535172,
          1.8587182559010769,
          1.8614572675369194,
          1.8532402326293917,
          1.8285891279068076,
          1.8176265129902098
         ],
         "y": [
          1.756593188960834,
          1.7867288853283303,
          1.8634343478783788,
          1.9757469616943821,
          2.008621669697721,
          1.953834868607641,
          2.0825815522387,
          2.1483309682453777,
          2.1949007344279297,
          1.981224984966067,
          2.0825815522387,
          2.0606694591519585,
          2.025055739512777,
          1.9949200431452805,
          2.0825815522387,
          2.0606694591519585,
          2.025055739512777,
          1.9976590547811228,
          2.0825815522387,
          2.063408470787801,
          2.033272774420305
         ],
         "z": [
          1.9590895671895934,
          2.005527965907597,
          1.9838523342570433,
          1.986952606420395,
          1.9590895671895934,
          2.0519663646256,
          2.0179093494413216,
          1.9405142077023918,
          1.909550896308238,
          2.104592170923852,
          2.024103325394798,
          1.9343202317489157,
          1.8909755368210366,
          2.0643477481593253,
          2.036484708928523,
          1.9343202317489157,
          1.8816878570774356,
          2.101498467133728,
          2.036484708928523,
          1.9559892950262412,
          1.8816878570774356
         ]
        },
        {
         "line": {
          "color": "blue"
         },
         "mode": "lines",
         "scene": "scene2",
         "type": "scatter3d",
         "x": [
          2.633707476260312,
          2.5569100564850786
         ],
         "y": [
          1.4679723009738765,
          1.5103448766640943
         ],
         "z": [
          1.7070545180794785,
          1.8043518306975528
         ]
        },
        {
         "line": {
          "color": "red"
         },
         "mode": "lines",
         "scene": "scene2",
         "type": "scatter3d",
         "x": [
          1.7902363966317834,
          1.8724198824535172
         ],
         "y": [
          1.756593188960834,
          1.7867288853283303
         ],
         "z": [
          1.9590895671895934,
          2.005527965907597
         ]
        },
        {
         "line": {
          "color": "blue"
         },
         "mode": "lines",
         "name": "Thumb",
         "scene": "scene2",
         "type": "scatter3d",
         "x": [
          1.8724198824535172,
          1.9655594148186217,
          1.9874715079053629,
          1.9874715079053629
         ],
         "y": [
          1.7867288853283303,
          1.8634343478783788,
          1.9757469616943821,
          2.008621669697721
         ],
         "z": [
          2.005527965907597,
          1.9838523342570433,
          1.986952606420395,
          1.9590895671895934
         ]
        },
        {
         "line": {
          "color": "red"
         },
         "mode": "lines",
         "name": "Thumb",
         "scene": "scene2",
         "type": "scatter3d",
         "x": [
          2.5569100564850786,
          2.4536289558568063,
          2.3821322132761176,
          2.2947400074850237
         ],
         "y": [
          1.5103448766640943,
          1.5103448766640943,
          1.4732664097951933,
          1.470619355384535
         ],
         "z": [
          1.8043518306975528,
          1.7719172037004522,
          1.7195278588383878,
          2.053844919368648
         ]
        },
        {
         "line": {
          "color": "blue"
         },
         "mode": "lines",
         "name": "Thumb",
         "scene": "scene2",
         "type": "scatter3d",
         "x": [
          2.023085227544545,
          2.025824239180387,
          2.014868192637017,
          2.0066511577294888
         ],
         "y": [
          1.953834868607641,
          2.0825815522387,
          2.1483309682453777,
          2.1949007344279297
         ],
         "z": [
          2.0519663646256,
          2.0179093494413216,
          1.9405142077023918,
          1.909550896308238
         ]
        },
        {
         "line": {
          "color": "red"
         },
         "mode": "lines",
         "name": "Thumb",
         "scene": "scene2",
         "type": "scatter3d",
         "x": [
          2.3847792676867763,
          2.305334793500885,
          2.265609272221326,
          2.2285373737256524
         ],
         "y": [
          1.4044167216251633,
          1.4123578848571388,
          1.417658562051683,
          1.4335474568888615
         ],
         "z": [
          1.8841904072770905,
          1.9266023932066731,
          1.9864796835480194,
          2.0463569738893663
         ]
        },
        {
         "line": {
          "color": "blue"
         },
         "mode": "lines",
         "name": "Thumb",
         "scene": "scene2",
         "type": "scatter3d",
         "x": [
          1.9874715079053629,
          1.9600813915469366,
          1.9162506370002268,
          1.8970709871761013
         ],
         "y": [
          1.981224984966067,
          2.0825815522387,
          2.0606694591519585,
          2.025055739512777
         ],
         "z": [
          2.104592170923852,
          2.024103325394798,
          1.9343202317489157,
          1.8909755368210366
         ]
        },
        {
         "line": {
          "color": "red"
         },
         "mode": "lines",
         "name": "Thumb",
         "scene": "scene2",
         "type": "scatter3d",
         "x": [
          2.3794785904922318,
          2.297387061895682,
          2.2523674317948057,
          2.220589642120449
         ],
         "y": [
          1.4123578848571388,
          1.4203056164623418,
          1.430900402478203,
          1.4467892973153813
         ],
         "z": [
          1.861733139212472,
          1.9116330706213365,
          1.9765023246155375,
          2.006440969786211
         ]
        },
        {
         "line": {
          "color": "blue"
         },
         "mode": "lines",
         "name": "Thumb",
         "scene": "scene2",
         "type": "scatter3d",
         "x": [
          1.924467671907755,
          1.9025490104477865,
          1.8724198824535172,
          1.8587182559010769
         ],
         "y": [
          1.9949200431452805,
          2.0825815522387,
          2.0606694591519585,
          2.025055739512777
         ],
         "z": [
          2.0643477481593253,
          2.036484708928523,
          1.9343202317489157,
          1.8816878570774356
         ]
        },
        {
         "line": {
          "color": "red"
         },
         "mode": "lines",
         "name": "Thumb",
         "scene": "scene2",
         "type": "scatter3d",
         "x": [
          2.387426322097435,
          2.3185766339274045,
          2.276204058237187,
          2.2735570038265287
         ],
         "y": [
          1.4282467796943172,
          1.430900402478203,
          1.4388415657101785,
          1.4467892973153813
         ],
         "z": [
          1.8492597984535628,
          1.8991597298624272,
          1.9415717157920096,
          1.9665183973098281
         ]
        },
        {
         "line": {
          "color": "blue"
         },
         "mode": "lines",
         "name": "Thumb",
         "scene": "scene2",
         "type": "scatter3d",
         "x": [
          1.8614572675369194,
          1.8532402326293917,
          1.8285891279068076,
          1.8176265129902098
         ],
         "y": [
          1.9976590547811228,
          2.0825815522387,
          2.063408470787801,
          2.033272774420305
         ],
         "z": [
          2.101498467133728,
          2.036484708928523,
          1.9559892950262412,
          1.8816878570774356
         ]
        },
        {
         "line": {
          "color": "red"
         },
         "mode": "lines",
         "name": "Thumb",
         "scene": "scene2",
         "type": "scatter3d",
         "x": [
          2.4271518433769943,
          2.3477008008178757,
          2.3079818479115435,
          2.281498167058504
         ],
         "y": [
          1.4335474568888615,
          1.4494363517260398,
          1.4467892973153813,
          1.4547304605473566
         ],
         "z": [
          1.8193211532828897,
          1.861733139212472,
          1.9016557116888546,
          1.9116330706213365
         ]
        },
        {
         "line": {
          "color": "pink"
         },
         "mode": "lines",
         "name": "Wrist to 1",
         "scene": "scene2",
         "type": "scatter3d",
         "x": [
          1.7902363966317834,
          1.8724198824535172
         ],
         "y": [
          1.756593188960834,
          1.7867288853283303
         ],
         "z": [
          1.9590895671895934,
          2.005527965907597
         ]
        },
        {
         "line": {
          "color": "pink"
         },
         "mode": "lines",
         "name": "Wrist to 1",
         "scene": "scene2",
         "type": "scatter3d",
         "x": [
          2.633707476260312,
          2.5569100564850786
         ],
         "y": [
          1.4679723009738765,
          1.5103448766640943
         ],
         "z": [
          1.7070545180794785,
          1.8043518306975528
         ]
        },
        {
         "line": {
          "color": "pink"
         },
         "mode": "lines",
         "name": "Wrist to 5",
         "scene": "scene2",
         "type": "scatter3d",
         "x": [
          1.7902363966317834,
          2.023085227544545
         ],
         "y": [
          1.756593188960834,
          1.953834868607641
         ],
         "z": [
          1.9590895671895934,
          2.0519663646256
         ]
        },
        {
         "line": {
          "color": "pink"
         },
         "mode": "lines",
         "name": "Wrist to 5",
         "scene": "scene2",
         "type": "scatter3d",
         "x": [
          2.633707476260312,
          2.3847792676867763
         ],
         "y": [
          1.4679723009738765,
          1.4044167216251633
         ],
         "z": [
          1.7070545180794785,
          1.8841904072770905
         ]
        },
        {
         "line": {
          "color": "pink"
         },
         "mode": "lines",
         "name": "Wrist to 9",
         "scene": "scene2",
         "type": "scatter3d",
         "x": [
          1.7902363966317834,
          1.9874715079053629
         ],
         "y": [
          1.756593188960834,
          1.981224984966067
         ],
         "z": [
          1.9590895671895934,
          2.104592170923852
         ]
        },
        {
         "line": {
          "color": "pink"
         },
         "mode": "lines",
         "name": "Wrist to 9",
         "scene": "scene2",
         "type": "scatter3d",
         "x": [
          2.633707476260312,
          2.3794785904922318
         ],
         "y": [
          1.4679723009738765,
          1.4123578848571388
         ],
         "z": [
          1.7070545180794785,
          1.861733139212472
         ]
        },
        {
         "line": {
          "color": "pink"
         },
         "mode": "lines",
         "name": "Wrist to 13",
         "scene": "scene2",
         "type": "scatter3d",
         "x": [
          1.7902363966317834,
          1.924467671907755
         ],
         "y": [
          1.756593188960834,
          1.9949200431452805
         ],
         "z": [
          1.9590895671895934,
          2.0643477481593253
         ]
        },
        {
         "line": {
          "color": "pink"
         },
         "mode": "lines",
         "name": "Wrist to 13",
         "scene": "scene2",
         "type": "scatter3d",
         "x": [
          2.633707476260312,
          2.387426322097435
         ],
         "y": [
          1.4679723009738765,
          1.4282467796943172
         ],
         "z": [
          1.7070545180794785,
          1.8492597984535628
         ]
        },
        {
         "line": {
          "color": "pink"
         },
         "mode": "lines",
         "name": "Wrist to 17",
         "scene": "scene2",
         "type": "scatter3d",
         "x": [
          1.7902363966317834,
          1.8614572675369194
         ],
         "y": [
          1.756593188960834,
          1.9976590547811228
         ],
         "z": [
          1.9590895671895934,
          2.101498467133728
         ]
        },
        {
         "line": {
          "color": "pink"
         },
         "mode": "lines",
         "name": "Wrist to 17",
         "scene": "scene2",
         "type": "scatter3d",
         "x": [
          2.633707476260312,
          2.4271518433769943
         ],
         "y": [
          1.4679723009738765,
          1.4335474568888615
         ],
         "z": [
          1.7070545180794785,
          1.8193211532828897
         ]
        },
        {
         "mode": "markers",
         "name": "Frame 3 Left Hand",
         "scene": "scene3",
         "type": "scatter3d",
         "x": [
          2.6083512900719223,
          2.5475271189242044,
          2.5044489898423383,
          2.5601963960404595,
          2.5703369915066605,
          2.4867094149929825,
          2.5297875440748485,
          2.600745843472271,
          2.6463591214206876,
          2.4968435432426874,
          2.5399281395410496,
          2.534857841807949,
          2.600745843472271,
          2.461364393543976,
          2.5221885646916937,
          2.5196534158251436,
          2.6032809923388216,
          2.4993786921092376,
          2.5120479692254927,
          2.3194542619656273,
          2.3169191130990767
         ],
         "y": [
          1.3964272547474572,
          1.3761525310315512,
          1.178488526038585,
          1.1886226542882896,
          1.1886226542882896,
          1.1734182283054844,
          1.1734182283054844,
          1.1835588237716854,
          1.1886226542882896,
          1.1607489511892293,
          1.1531435045895784,
          1.1556786534561287,
          1.1379390786067731,
          1.178488526038585,
          1.148079674072974,
          1.1556786534561287,
          1.3077293805006789,
          1.1936929520213901,
          1.158213802322679,
          1.350813976799041,
          1.3584129561821956
         ],
         "z": [
          1.7841045476182653,
          1.8149596375221206,
          1.7700771550377865,
          1.6943395826495968,
          1.60177431293803,
          1.8345941068048928,
          1.8009322449416423,
          1.837400878764288,
          1.8850901332080168,
          1.8935039818697055,
          1.86264889196585,
          1.9131384511524776,
          1.924359071773561,
          1.9187519950712675,
          1.929972615692351,
          1.946800313015728,
          1.927165843732956,
          1.969241554257895,
          2.0057101880805406,
          2.002903416121146,
          1.9496070849751228
         ]
        },
        {
         "mode": "markers",
         "name": "Frame 3 Right Hand",
         "scene": "scene3",
         "type": "scatter3d",
         "x": [
          1.7707497455534018,
          1.8563562903149482,
          1.9474923051808322,
          1.97234581817612,
          1.9502538066247532,
          1.9971993311714076,
          2.00548383550317,
          1.9944378297274867,
          1.988914826839645,
          1.9612998124004364,
          1.9309232965173075,
          1.897778811973761,
          1.878448301866315,
          1.9005403134176817,
          1.878448301866315,
          1.8535947888710271,
          1.8508332874271065,
          1.842548783095344,
          1.82874127587574,
          1.8094107657682938,
          1.8066492643243732
         ],
         "y": [
          1.8459764078383838,
          1.8901604309411173,
          1.9840579472509223,
          2.0779554635607274,
          2.15251600254659,
          2.050340449121519,
          2.1746080140979567,
          2.22984451019287,
          2.282313037627366,
          2.0779554635607274,
          2.180131016985799,
          2.1608005068783527,
          2.122139486663461,
          2.0890014693364107,
          2.180131016985799,
          2.155277503990511,
          2.116616483775619,
          2.0917629707803314,
          2.1773695155418777,
          2.155277503990511,
          2.1138549823316986
         ],
         "z": [
          1.8587814965010614,
          1.8156969002026992,
          1.861859891553301,
          1.861859891553301,
          1.861859891553301,
          1.83723919835188,
          1.8587814965010614,
          1.83723919835188,
          1.7879978119490387,
          1.9111012779561423,
          1.9111012779561423,
          1.8187688280384424,
          1.769527441635601,
          1.9388003662098028,
          1.9264932532173407,
          1.8156969002026992,
          1.7633706515311218,
          1.991120147664884,
          1.9326435761053236,
          1.8557031014488217,
          1.7726058366878408
         ]
        },
        {
         "line": {
          "color": "blue"
         },
         "mode": "lines",
         "scene": "scene3",
         "type": "scatter3d",
         "x": [
          2.6083512900719223,
          2.5475271189242044
         ],
         "y": [
          1.3964272547474572,
          1.3761525310315512
         ],
         "z": [
          1.7841045476182653,
          1.8149596375221206
         ]
        },
        {
         "line": {
          "color": "red"
         },
         "mode": "lines",
         "scene": "scene3",
         "type": "scatter3d",
         "x": [
          1.7707497455534018,
          1.8563562903149482
         ],
         "y": [
          1.8459764078383838,
          1.8901604309411173
         ],
         "z": [
          1.8587814965010614,
          1.8156969002026992
         ]
        },
        {
         "line": {
          "color": "blue"
         },
         "mode": "lines",
         "name": "Thumb",
         "scene": "scene3",
         "type": "scatter3d",
         "x": [
          1.8563562903149482,
          1.9474923051808322,
          1.97234581817612,
          1.9502538066247532
         ],
         "y": [
          1.8901604309411173,
          1.9840579472509223,
          2.0779554635607274,
          2.15251600254659
         ],
         "z": [
          1.8156969002026992,
          1.861859891553301,
          1.861859891553301,
          1.861859891553301
         ]
        },
        {
         "line": {
          "color": "red"
         },
         "mode": "lines",
         "name": "Thumb",
         "scene": "scene3",
         "type": "scatter3d",
         "x": [
          2.5475271189242044,
          2.5044489898423383,
          2.5601963960404595,
          2.5703369915066605
         ],
         "y": [
          1.3761525310315512,
          1.178488526038585,
          1.1886226542882896,
          1.1886226542882896
         ],
         "z": [
          1.8149596375221206,
          1.7700771550377865,
          1.6943395826495968,
          1.60177431293803
         ]
        },
        {
         "line": {
          "color": "blue"
         },
         "mode": "lines",
         "name": "Thumb",
         "scene": "scene3",
         "type": "scatter3d",
         "x": [
          1.9971993311714076,
          2.00548383550317,
          1.9944378297274867,
          1.988914826839645
         ],
         "y": [
          2.050340449121519,
          2.1746080140979567,
          2.22984451019287,
          2.282313037627366
         ],
         "z": [
          1.83723919835188,
          1.8587814965010614,
          1.83723919835188,
          1.7879978119490387
         ]
        },
        {
         "line": {
          "color": "red"
         },
         "mode": "lines",
         "name": "Thumb",
         "scene": "scene3",
         "type": "scatter3d",
         "x": [
          2.4867094149929825,
          2.5297875440748485,
          2.600745843472271,
          2.6463591214206876
         ],
         "y": [
          1.1734182283054844,
          1.1734182283054844,
          1.1835588237716854,
          1.1886226542882896
         ],
         "z": [
          1.8345941068048928,
          1.8009322449416423,
          1.837400878764288,
          1.8850901332080168
         ]
        },
        {
         "line": {
          "color": "blue"
         },
         "mode": "lines",
         "name": "Thumb",
         "scene": "scene3",
         "type": "scatter3d",
         "x": [
          1.9612998124004364,
          1.9309232965173075,
          1.897778811973761,
          1.878448301866315
         ],
         "y": [
          2.0779554635607274,
          2.180131016985799,
          2.1608005068783527,
          2.122139486663461
         ],
         "z": [
          1.9111012779561423,
          1.9111012779561423,
          1.8187688280384424,
          1.769527441635601
         ]
        },
        {
         "line": {
          "color": "red"
         },
         "mode": "lines",
         "name": "Thumb",
         "scene": "scene3",
         "type": "scatter3d",
         "x": [
          2.4968435432426874,
          2.5399281395410496,
          2.534857841807949,
          2.600745843472271
         ],
         "y": [
          1.1607489511892293,
          1.1531435045895784,
          1.1556786534561287,
          1.1379390786067731
         ],
         "z": [
          1.8935039818697055,
          1.86264889196585,
          1.9131384511524776,
          1.924359071773561
         ]
        },
        {
         "line": {
          "color": "blue"
         },
         "mode": "lines",
         "name": "Thumb",
         "scene": "scene3",
         "type": "scatter3d",
         "x": [
          1.9005403134176817,
          1.878448301866315,
          1.8535947888710271,
          1.8508332874271065
         ],
         "y": [
          2.0890014693364107,
          2.180131016985799,
          2.155277503990511,
          2.116616483775619
         ],
         "z": [
          1.9388003662098028,
          1.9264932532173407,
          1.8156969002026992,
          1.7633706515311218
         ]
        },
        {
         "line": {
          "color": "red"
         },
         "mode": "lines",
         "name": "Thumb",
         "scene": "scene3",
         "type": "scatter3d",
         "x": [
          2.461364393543976,
          2.5221885646916937,
          2.5196534158251436,
          2.6032809923388216
         ],
         "y": [
          1.178488526038585,
          1.148079674072974,
          1.1556786534561287,
          1.3077293805006789
         ],
         "z": [
          1.9187519950712675,
          1.929972615692351,
          1.946800313015728,
          1.927165843732956
         ]
        },
        {
         "line": {
          "color": "blue"
         },
         "mode": "lines",
         "name": "Thumb",
         "scene": "scene3",
         "type": "scatter3d",
         "x": [
          1.842548783095344,
          1.82874127587574,
          1.8094107657682938,
          1.8066492643243732
         ],
         "y": [
          2.0917629707803314,
          2.1773695155418777,
          2.155277503990511,
          2.1138549823316986
         ],
         "z": [
          1.991120147664884,
          1.9326435761053236,
          1.8557031014488217,
          1.7726058366878408
         ]
        },
        {
         "line": {
          "color": "red"
         },
         "mode": "lines",
         "name": "Thumb",
         "scene": "scene3",
         "type": "scatter3d",
         "x": [
          2.4993786921092376,
          2.5120479692254927,
          2.3194542619656273,
          2.3169191130990767
         ],
         "y": [
          1.1936929520213901,
          1.158213802322679,
          1.350813976799041,
          1.3584129561821956
         ],
         "z": [
          1.969241554257895,
          2.0057101880805406,
          2.002903416121146,
          1.9496070849751228
         ]
        },
        {
         "line": {
          "color": "pink"
         },
         "mode": "lines",
         "name": "Wrist to 1",
         "scene": "scene3",
         "type": "scatter3d",
         "x": [
          1.7707497455534018,
          1.8563562903149482
         ],
         "y": [
          1.8459764078383838,
          1.8901604309411173
         ],
         "z": [
          1.8587814965010614,
          1.8156969002026992
         ]
        },
        {
         "line": {
          "color": "pink"
         },
         "mode": "lines",
         "name": "Wrist to 1",
         "scene": "scene3",
         "type": "scatter3d",
         "x": [
          2.6083512900719223,
          2.5475271189242044
         ],
         "y": [
          1.3964272547474572,
          1.3761525310315512
         ],
         "z": [
          1.7841045476182653,
          1.8149596375221206
         ]
        },
        {
         "line": {
          "color": "pink"
         },
         "mode": "lines",
         "name": "Wrist to 5",
         "scene": "scene3",
         "type": "scatter3d",
         "x": [
          1.7707497455534018,
          1.9971993311714076
         ],
         "y": [
          1.8459764078383838,
          2.050340449121519
         ],
         "z": [
          1.8587814965010614,
          1.83723919835188
         ]
        },
        {
         "line": {
          "color": "pink"
         },
         "mode": "lines",
         "name": "Wrist to 5",
         "scene": "scene3",
         "type": "scatter3d",
         "x": [
          2.6083512900719223,
          2.4867094149929825
         ],
         "y": [
          1.3964272547474572,
          1.1734182283054844
         ],
         "z": [
          1.7841045476182653,
          1.8345941068048928
         ]
        },
        {
         "line": {
          "color": "pink"
         },
         "mode": "lines",
         "name": "Wrist to 9",
         "scene": "scene3",
         "type": "scatter3d",
         "x": [
          1.7707497455534018,
          1.9612998124004364
         ],
         "y": [
          1.8459764078383838,
          2.0779554635607274
         ],
         "z": [
          1.8587814965010614,
          1.9111012779561423
         ]
        },
        {
         "line": {
          "color": "pink"
         },
         "mode": "lines",
         "name": "Wrist to 9",
         "scene": "scene3",
         "type": "scatter3d",
         "x": [
          2.6083512900719223,
          2.4968435432426874
         ],
         "y": [
          1.3964272547474572,
          1.1607489511892293
         ],
         "z": [
          1.7841045476182653,
          1.8935039818697055
         ]
        },
        {
         "line": {
          "color": "pink"
         },
         "mode": "lines",
         "name": "Wrist to 13",
         "scene": "scene3",
         "type": "scatter3d",
         "x": [
          1.7707497455534018,
          1.9005403134176817
         ],
         "y": [
          1.8459764078383838,
          2.0890014693364107
         ],
         "z": [
          1.8587814965010614,
          1.9388003662098028
         ]
        },
        {
         "line": {
          "color": "pink"
         },
         "mode": "lines",
         "name": "Wrist to 13",
         "scene": "scene3",
         "type": "scatter3d",
         "x": [
          2.6083512900719223,
          2.461364393543976
         ],
         "y": [
          1.3964272547474572,
          1.178488526038585
         ],
         "z": [
          1.7841045476182653,
          1.9187519950712675
         ]
        },
        {
         "line": {
          "color": "pink"
         },
         "mode": "lines",
         "name": "Wrist to 17",
         "scene": "scene3",
         "type": "scatter3d",
         "x": [
          1.7707497455534018,
          1.842548783095344
         ],
         "y": [
          1.8459764078383838,
          2.0917629707803314
         ],
         "z": [
          1.8587814965010614,
          1.991120147664884
         ]
        },
        {
         "line": {
          "color": "pink"
         },
         "mode": "lines",
         "name": "Wrist to 17",
         "scene": "scene3",
         "type": "scatter3d",
         "x": [
          2.6083512900719223,
          2.4993786921092376
         ],
         "y": [
          1.3964272547474572,
          1.1936929520213901
         ],
         "z": [
          1.7841045476182653,
          1.969241554257895
         ]
        }
       ],
       "layout": {
        "height": 600,
        "scene": {
         "domain": {
          "x": [
           0,
           0.2888888888888889
          ],
          "y": [
           0,
           1
          ]
         },
         "xaxis": {
          "title": {
           "text": "X Axis"
          }
         },
         "yaxis": {
          "title": {
           "text": "Y Axis"
          }
         },
         "zaxis": {
          "title": {
           "text": "Z Axis"
          }
         }
        },
        "scene2": {
         "domain": {
          "x": [
           0.35555555555555557,
           0.6444444444444445
          ],
          "y": [
           0,
           1
          ]
         },
         "xaxis": {
          "title": {
           "text": "X Axis"
          }
         },
         "yaxis": {
          "title": {
           "text": "Y Axis"
          }
         },
         "zaxis": {
          "title": {
           "text": "Z Axis"
          }
         }
        },
        "scene3": {
         "domain": {
          "x": [
           0.7111111111111111,
           1
          ],
          "y": [
           0,
           1
          ]
         },
         "xaxis": {
          "title": {
           "text": "X Axis"
          }
         },
         "yaxis": {
          "title": {
           "text": "Y Axis"
          }
         },
         "zaxis": {
          "title": {
           "text": "Z Axis"
          }
         }
        },
        "template": {
         "data": {
          "bar": [
           {
            "error_x": {
             "color": "#2a3f5f"
            },
            "error_y": {
             "color": "#2a3f5f"
            },
            "marker": {
             "line": {
              "color": "#E5ECF6",
              "width": 0.5
             },
             "pattern": {
              "fillmode": "overlay",
              "size": 10,
              "solidity": 0.2
             }
            },
            "type": "bar"
           }
          ],
          "barpolar": [
           {
            "marker": {
             "line": {
              "color": "#E5ECF6",
              "width": 0.5
             },
             "pattern": {
              "fillmode": "overlay",
              "size": 10,
              "solidity": 0.2
             }
            },
            "type": "barpolar"
           }
          ],
          "carpet": [
           {
            "aaxis": {
             "endlinecolor": "#2a3f5f",
             "gridcolor": "white",
             "linecolor": "white",
             "minorgridcolor": "white",
             "startlinecolor": "#2a3f5f"
            },
            "baxis": {
             "endlinecolor": "#2a3f5f",
             "gridcolor": "white",
             "linecolor": "white",
             "minorgridcolor": "white",
             "startlinecolor": "#2a3f5f"
            },
            "type": "carpet"
           }
          ],
          "choropleth": [
           {
            "colorbar": {
             "outlinewidth": 0,
             "ticks": ""
            },
            "type": "choropleth"
           }
          ],
          "contour": [
           {
            "colorbar": {
             "outlinewidth": 0,
             "ticks": ""
            },
            "colorscale": [
             [
              0,
              "#0d0887"
             ],
             [
              0.1111111111111111,
              "#46039f"
             ],
             [
              0.2222222222222222,
              "#7201a8"
             ],
             [
              0.3333333333333333,
              "#9c179e"
             ],
             [
              0.4444444444444444,
              "#bd3786"
             ],
             [
              0.5555555555555556,
              "#d8576b"
             ],
             [
              0.6666666666666666,
              "#ed7953"
             ],
             [
              0.7777777777777778,
              "#fb9f3a"
             ],
             [
              0.8888888888888888,
              "#fdca26"
             ],
             [
              1,
              "#f0f921"
             ]
            ],
            "type": "contour"
           }
          ],
          "contourcarpet": [
           {
            "colorbar": {
             "outlinewidth": 0,
             "ticks": ""
            },
            "type": "contourcarpet"
           }
          ],
          "heatmap": [
           {
            "colorbar": {
             "outlinewidth": 0,
             "ticks": ""
            },
            "colorscale": [
             [
              0,
              "#0d0887"
             ],
             [
              0.1111111111111111,
              "#46039f"
             ],
             [
              0.2222222222222222,
              "#7201a8"
             ],
             [
              0.3333333333333333,
              "#9c179e"
             ],
             [
              0.4444444444444444,
              "#bd3786"
             ],
             [
              0.5555555555555556,
              "#d8576b"
             ],
             [
              0.6666666666666666,
              "#ed7953"
             ],
             [
              0.7777777777777778,
              "#fb9f3a"
             ],
             [
              0.8888888888888888,
              "#fdca26"
             ],
             [
              1,
              "#f0f921"
             ]
            ],
            "type": "heatmap"
           }
          ],
          "heatmapgl": [
           {
            "colorbar": {
             "outlinewidth": 0,
             "ticks": ""
            },
            "colorscale": [
             [
              0,
              "#0d0887"
             ],
             [
              0.1111111111111111,
              "#46039f"
             ],
             [
              0.2222222222222222,
              "#7201a8"
             ],
             [
              0.3333333333333333,
              "#9c179e"
             ],
             [
              0.4444444444444444,
              "#bd3786"
             ],
             [
              0.5555555555555556,
              "#d8576b"
             ],
             [
              0.6666666666666666,
              "#ed7953"
             ],
             [
              0.7777777777777778,
              "#fb9f3a"
             ],
             [
              0.8888888888888888,
              "#fdca26"
             ],
             [
              1,
              "#f0f921"
             ]
            ],
            "type": "heatmapgl"
           }
          ],
          "histogram": [
           {
            "marker": {
             "pattern": {
              "fillmode": "overlay",
              "size": 10,
              "solidity": 0.2
             }
            },
            "type": "histogram"
           }
          ],
          "histogram2d": [
           {
            "colorbar": {
             "outlinewidth": 0,
             "ticks": ""
            },
            "colorscale": [
             [
              0,
              "#0d0887"
             ],
             [
              0.1111111111111111,
              "#46039f"
             ],
             [
              0.2222222222222222,
              "#7201a8"
             ],
             [
              0.3333333333333333,
              "#9c179e"
             ],
             [
              0.4444444444444444,
              "#bd3786"
             ],
             [
              0.5555555555555556,
              "#d8576b"
             ],
             [
              0.6666666666666666,
              "#ed7953"
             ],
             [
              0.7777777777777778,
              "#fb9f3a"
             ],
             [
              0.8888888888888888,
              "#fdca26"
             ],
             [
              1,
              "#f0f921"
             ]
            ],
            "type": "histogram2d"
           }
          ],
          "histogram2dcontour": [
           {
            "colorbar": {
             "outlinewidth": 0,
             "ticks": ""
            },
            "colorscale": [
             [
              0,
              "#0d0887"
             ],
             [
              0.1111111111111111,
              "#46039f"
             ],
             [
              0.2222222222222222,
              "#7201a8"
             ],
             [
              0.3333333333333333,
              "#9c179e"
             ],
             [
              0.4444444444444444,
              "#bd3786"
             ],
             [
              0.5555555555555556,
              "#d8576b"
             ],
             [
              0.6666666666666666,
              "#ed7953"
             ],
             [
              0.7777777777777778,
              "#fb9f3a"
             ],
             [
              0.8888888888888888,
              "#fdca26"
             ],
             [
              1,
              "#f0f921"
             ]
            ],
            "type": "histogram2dcontour"
           }
          ],
          "mesh3d": [
           {
            "colorbar": {
             "outlinewidth": 0,
             "ticks": ""
            },
            "type": "mesh3d"
           }
          ],
          "parcoords": [
           {
            "line": {
             "colorbar": {
              "outlinewidth": 0,
              "ticks": ""
             }
            },
            "type": "parcoords"
           }
          ],
          "pie": [
           {
            "automargin": true,
            "type": "pie"
           }
          ],
          "scatter": [
           {
            "fillpattern": {
             "fillmode": "overlay",
             "size": 10,
             "solidity": 0.2
            },
            "type": "scatter"
           }
          ],
          "scatter3d": [
           {
            "line": {
             "colorbar": {
              "outlinewidth": 0,
              "ticks": ""
             }
            },
            "marker": {
             "colorbar": {
              "outlinewidth": 0,
              "ticks": ""
             }
            },
            "type": "scatter3d"
           }
          ],
          "scattercarpet": [
           {
            "marker": {
             "colorbar": {
              "outlinewidth": 0,
              "ticks": ""
             }
            },
            "type": "scattercarpet"
           }
          ],
          "scattergeo": [
           {
            "marker": {
             "colorbar": {
              "outlinewidth": 0,
              "ticks": ""
             }
            },
            "type": "scattergeo"
           }
          ],
          "scattergl": [
           {
            "marker": {
             "colorbar": {
              "outlinewidth": 0,
              "ticks": ""
             }
            },
            "type": "scattergl"
           }
          ],
          "scattermapbox": [
           {
            "marker": {
             "colorbar": {
              "outlinewidth": 0,
              "ticks": ""
             }
            },
            "type": "scattermapbox"
           }
          ],
          "scatterpolar": [
           {
            "marker": {
             "colorbar": {
              "outlinewidth": 0,
              "ticks": ""
             }
            },
            "type": "scatterpolar"
           }
          ],
          "scatterpolargl": [
           {
            "marker": {
             "colorbar": {
              "outlinewidth": 0,
              "ticks": ""
             }
            },
            "type": "scatterpolargl"
           }
          ],
          "scatterternary": [
           {
            "marker": {
             "colorbar": {
              "outlinewidth": 0,
              "ticks": ""
             }
            },
            "type": "scatterternary"
           }
          ],
          "surface": [
           {
            "colorbar": {
             "outlinewidth": 0,
             "ticks": ""
            },
            "colorscale": [
             [
              0,
              "#0d0887"
             ],
             [
              0.1111111111111111,
              "#46039f"
             ],
             [
              0.2222222222222222,
              "#7201a8"
             ],
             [
              0.3333333333333333,
              "#9c179e"
             ],
             [
              0.4444444444444444,
              "#bd3786"
             ],
             [
              0.5555555555555556,
              "#d8576b"
             ],
             [
              0.6666666666666666,
              "#ed7953"
             ],
             [
              0.7777777777777778,
              "#fb9f3a"
             ],
             [
              0.8888888888888888,
              "#fdca26"
             ],
             [
              1,
              "#f0f921"
             ]
            ],
            "type": "surface"
           }
          ],
          "table": [
           {
            "cells": {
             "fill": {
              "color": "#EBF0F8"
             },
             "line": {
              "color": "white"
             }
            },
            "header": {
             "fill": {
              "color": "#C8D4E3"
             },
             "line": {
              "color": "white"
             }
            },
            "type": "table"
           }
          ]
         },
         "layout": {
          "annotationdefaults": {
           "arrowcolor": "#2a3f5f",
           "arrowhead": 0,
           "arrowwidth": 1
          },
          "autotypenumbers": "strict",
          "coloraxis": {
           "colorbar": {
            "outlinewidth": 0,
            "ticks": ""
           }
          },
          "colorscale": {
           "diverging": [
            [
             0,
             "#8e0152"
            ],
            [
             0.1,
             "#c51b7d"
            ],
            [
             0.2,
             "#de77ae"
            ],
            [
             0.3,
             "#f1b6da"
            ],
            [
             0.4,
             "#fde0ef"
            ],
            [
             0.5,
             "#f7f7f7"
            ],
            [
             0.6,
             "#e6f5d0"
            ],
            [
             0.7,
             "#b8e186"
            ],
            [
             0.8,
             "#7fbc41"
            ],
            [
             0.9,
             "#4d9221"
            ],
            [
             1,
             "#276419"
            ]
           ],
           "sequential": [
            [
             0,
             "#0d0887"
            ],
            [
             0.1111111111111111,
             "#46039f"
            ],
            [
             0.2222222222222222,
             "#7201a8"
            ],
            [
             0.3333333333333333,
             "#9c179e"
            ],
            [
             0.4444444444444444,
             "#bd3786"
            ],
            [
             0.5555555555555556,
             "#d8576b"
            ],
            [
             0.6666666666666666,
             "#ed7953"
            ],
            [
             0.7777777777777778,
             "#fb9f3a"
            ],
            [
             0.8888888888888888,
             "#fdca26"
            ],
            [
             1,
             "#f0f921"
            ]
           ],
           "sequentialminus": [
            [
             0,
             "#0d0887"
            ],
            [
             0.1111111111111111,
             "#46039f"
            ],
            [
             0.2222222222222222,
             "#7201a8"
            ],
            [
             0.3333333333333333,
             "#9c179e"
            ],
            [
             0.4444444444444444,
             "#bd3786"
            ],
            [
             0.5555555555555556,
             "#d8576b"
            ],
            [
             0.6666666666666666,
             "#ed7953"
            ],
            [
             0.7777777777777778,
             "#fb9f3a"
            ],
            [
             0.8888888888888888,
             "#fdca26"
            ],
            [
             1,
             "#f0f921"
            ]
           ]
          },
          "colorway": [
           "#636efa",
           "#EF553B",
           "#00cc96",
           "#ab63fa",
           "#FFA15A",
           "#19d3f3",
           "#FF6692",
           "#B6E880",
           "#FF97FF",
           "#FECB52"
          ],
          "font": {
           "color": "#2a3f5f"
          },
          "geo": {
           "bgcolor": "white",
           "lakecolor": "white",
           "landcolor": "#E5ECF6",
           "showlakes": true,
           "showland": true,
           "subunitcolor": "white"
          },
          "hoverlabel": {
           "align": "left"
          },
          "hovermode": "closest",
          "mapbox": {
           "style": "light"
          },
          "paper_bgcolor": "white",
          "plot_bgcolor": "#E5ECF6",
          "polar": {
           "angularaxis": {
            "gridcolor": "white",
            "linecolor": "white",
            "ticks": ""
           },
           "bgcolor": "#E5ECF6",
           "radialaxis": {
            "gridcolor": "white",
            "linecolor": "white",
            "ticks": ""
           }
          },
          "scene": {
           "xaxis": {
            "backgroundcolor": "#E5ECF6",
            "gridcolor": "white",
            "gridwidth": 2,
            "linecolor": "white",
            "showbackground": true,
            "ticks": "",
            "zerolinecolor": "white"
           },
           "yaxis": {
            "backgroundcolor": "#E5ECF6",
            "gridcolor": "white",
            "gridwidth": 2,
            "linecolor": "white",
            "showbackground": true,
            "ticks": "",
            "zerolinecolor": "white"
           },
           "zaxis": {
            "backgroundcolor": "#E5ECF6",
            "gridcolor": "white",
            "gridwidth": 2,
            "linecolor": "white",
            "showbackground": true,
            "ticks": "",
            "zerolinecolor": "white"
           }
          },
          "shapedefaults": {
           "line": {
            "color": "#2a3f5f"
           }
          },
          "ternary": {
           "aaxis": {
            "gridcolor": "white",
            "linecolor": "white",
            "ticks": ""
           },
           "baxis": {
            "gridcolor": "white",
            "linecolor": "white",
            "ticks": ""
           },
           "bgcolor": "#E5ECF6",
           "caxis": {
            "gridcolor": "white",
            "linecolor": "white",
            "ticks": ""
           }
          },
          "title": {
           "x": 0.05
          },
          "xaxis": {
           "automargin": true,
           "gridcolor": "white",
           "linecolor": "white",
           "ticks": "",
           "title": {
            "standoff": 15
           },
           "zerolinecolor": "white",
           "zerolinewidth": 2
          },
          "yaxis": {
           "automargin": true,
           "gridcolor": "white",
           "linecolor": "white",
           "ticks": "",
           "title": {
            "standoff": 15
           },
           "zerolinecolor": "white",
           "zerolinewidth": 2
          }
         }
        },
        "title": {
         "text": "3D Plots of Left and Right Hand Skeletons Across Frames"
        },
        "width": 1800
       }
      },
      "text/html": [
       "<div>                            <div id=\"b01daf08-410a-4aa3-beea-ce4f82b11da8\" class=\"plotly-graph-div\" style=\"height:600px; width:1800px;\"></div>            <script type=\"text/javascript\">                require([\"plotly\"], function(Plotly) {                    window.PLOTLYENV=window.PLOTLYENV || {};                                    if (document.getElementById(\"b01daf08-410a-4aa3-beea-ce4f82b11da8\")) {                    Plotly.newPlot(                        \"b01daf08-410a-4aa3-beea-ce4f82b11da8\",                        [{\"mode\":\"markers\",\"name\":\"Frame 1 Left Hand\",\"x\":[2.5985743491076727,2.541288908537371,2.451279135687991,2.3803558507465716,2.3530801620043347,2.3339871798847693,2.243970912823784,2.1621438465970755,2.0884929927814317,2.3094390600167567,2.2030573797104296,2.1321405889806155,2.063944872913419,2.3067114911425333,2.213967655207324,2.1403232956032863,2.077582717284537,2.3094390600167567,2.2276054995784427,2.1757816909681935,2.134868157854839],\"y\":[1.6569136663399893,1.6760066484595546,1.6869169239564492,1.6787342173337785,1.6869169239564492,1.6323655464719766,1.6678239418368839,1.6978271994533438,1.7223753193213565,1.6541860974657656,1.6923720617048963,1.7141926126986855,1.7223753193213565,1.6705515107111075,1.6950996305791202,1.7114650438244619,1.72510288819558,1.689644492830673,1.6787342173337785,1.6950996305791202,1.6978271994533438],\"z\":[0.0,0.0,0.0,0.0,0.0,0.0,0.0,0.0,0.0,0.0,0.0,0.0,0.0,0.0,0.0,0.0,0.0,0.0,0.0,0.0,0.0],\"type\":\"scatter3d\",\"scene\":\"scene\"},{\"mode\":\"markers\",\"name\":\"Frame 1 Right Hand\",\"x\":[1.6037130848694177,1.7037044609561351,1.8861983012765122,1.928702916233164,1.9237023732970873,1.906200473020819,1.9762015799142871,2.0036980718511033,2.0211999721273717,1.8587018093396959,1.9187018303610104,1.8961993871486655,1.8712031666798876,1.8087028741905344,1.8662026237438107,1.8537012664036194,1.8212042315307262,1.7612042105094117,1.8162036885946498,1.8112031456585727,1.7937012453823045],\"y\":[1.107178653951821,1.099677839547706,1.099677839547706,1.1721792179092123,1.209676795718182,1.044678361462468,1.1721792179092123,1.2371732876549983,1.297173308676313,1.0496789043985446,1.2046762527821053,1.2246719303148068,1.2196778815903353,1.0696810761428512,1.2121770671862204,1.2446741020591132,1.2371732876549983,1.1046783824837827,1.2071765242501435,1.24967464499519,1.257175459399305],\"z\":[1.9375350440163643,1.9375350440163643,1.9601998425188416,2.0217065206325846,2.0702702350169755,2.1155933378103255,2.144732865283281,2.1155933378103255,2.0702702350169755,2.1382581363128024,2.1738658985446313,2.1317834073423243,2.0637955060464974,2.1738658985446313,2.2030054260175875,2.144732865283281,2.092935033519453,2.1900559680766305,2.206239543397024,2.1609164406036747,2.1123592204308883],\"type\":\"scatter3d\",\"scene\":\"scene\"},{\"line\":{\"color\":\"blue\"},\"mode\":\"lines\",\"x\":[2.5985743491076727,2.541288908537371],\"y\":[1.6569136663399893,1.6760066484595546],\"z\":[0.0,0.0],\"type\":\"scatter3d\",\"scene\":\"scene\"},{\"line\":{\"color\":\"red\"},\"mode\":\"lines\",\"x\":[1.6037130848694177,1.7037044609561351],\"y\":[1.107178653951821,1.099677839547706],\"z\":[1.9375350440163643,1.9375350440163643],\"type\":\"scatter3d\",\"scene\":\"scene\"},{\"line\":{\"color\":\"blue\"},\"mode\":\"lines\",\"name\":\"Thumb\",\"x\":[1.7037044609561351,1.8861983012765122,1.928702916233164,1.9237023732970873],\"y\":[1.099677839547706,1.099677839547706,1.1721792179092123,1.209676795718182],\"z\":[1.9375350440163643,1.9601998425188416,2.0217065206325846,2.0702702350169755],\"type\":\"scatter3d\",\"scene\":\"scene\"},{\"line\":{\"color\":\"red\"},\"mode\":\"lines\",\"name\":\"Thumb\",\"x\":[2.541288908537371,2.451279135687991,2.3803558507465716,2.3530801620043347],\"y\":[1.6760066484595546,1.6869169239564492,1.6787342173337785,1.6869169239564492],\"z\":[0.0,0.0,0.0,0.0],\"type\":\"scatter3d\",\"scene\":\"scene\"},{\"line\":{\"color\":\"blue\"},\"mode\":\"lines\",\"name\":\"Thumb\",\"x\":[1.906200473020819,1.9762015799142871,2.0036980718511033,2.0211999721273717],\"y\":[1.044678361462468,1.1721792179092123,1.2371732876549983,1.297173308676313],\"z\":[2.1155933378103255,2.144732865283281,2.1155933378103255,2.0702702350169755],\"type\":\"scatter3d\",\"scene\":\"scene\"},{\"line\":{\"color\":\"red\"},\"mode\":\"lines\",\"name\":\"Thumb\",\"x\":[2.3339871798847693,2.243970912823784,2.1621438465970755,2.0884929927814317],\"y\":[1.6323655464719766,1.6678239418368839,1.6978271994533438,1.7223753193213565],\"z\":[0.0,0.0,0.0,0.0],\"type\":\"scatter3d\",\"scene\":\"scene\"},{\"line\":{\"color\":\"blue\"},\"mode\":\"lines\",\"name\":\"Thumb\",\"x\":[1.8587018093396959,1.9187018303610104,1.8961993871486655,1.8712031666798876],\"y\":[1.0496789043985446,1.2046762527821053,1.2246719303148068,1.2196778815903353],\"z\":[2.1382581363128024,2.1738658985446313,2.1317834073423243,2.0637955060464974],\"type\":\"scatter3d\",\"scene\":\"scene\"},{\"line\":{\"color\":\"red\"},\"mode\":\"lines\",\"name\":\"Thumb\",\"x\":[2.3094390600167567,2.2030573797104296,2.1321405889806155,2.063944872913419],\"y\":[1.6541860974657656,1.6923720617048963,1.7141926126986855,1.7223753193213565],\"z\":[0.0,0.0,0.0,0.0],\"type\":\"scatter3d\",\"scene\":\"scene\"},{\"line\":{\"color\":\"blue\"},\"mode\":\"lines\",\"name\":\"Thumb\",\"x\":[1.8087028741905344,1.8662026237438107,1.8537012664036194,1.8212042315307262],\"y\":[1.0696810761428512,1.2121770671862204,1.2446741020591132,1.2371732876549983],\"z\":[2.1738658985446313,2.2030054260175875,2.144732865283281,2.092935033519453],\"type\":\"scatter3d\",\"scene\":\"scene\"},{\"line\":{\"color\":\"red\"},\"mode\":\"lines\",\"name\":\"Thumb\",\"x\":[2.3067114911425333,2.213967655207324,2.1403232956032863,2.077582717284537],\"y\":[1.6705515107111075,1.6950996305791202,1.7114650438244619,1.72510288819558],\"z\":[0.0,0.0,0.0,0.0],\"type\":\"scatter3d\",\"scene\":\"scene\"},{\"line\":{\"color\":\"blue\"},\"mode\":\"lines\",\"name\":\"Thumb\",\"x\":[1.7612042105094117,1.8162036885946498,1.8112031456585727,1.7937012453823045],\"y\":[1.1046783824837827,1.2071765242501435,1.24967464499519,1.257175459399305],\"z\":[2.1900559680766305,2.206239543397024,2.1609164406036747,2.1123592204308883],\"type\":\"scatter3d\",\"scene\":\"scene\"},{\"line\":{\"color\":\"red\"},\"mode\":\"lines\",\"name\":\"Thumb\",\"x\":[2.3094390600167567,2.2276054995784427,2.1757816909681935,2.134868157854839],\"y\":[1.689644492830673,1.6787342173337785,1.6950996305791202,1.6978271994533438],\"z\":[0.0,0.0,0.0,0.0],\"type\":\"scatter3d\",\"scene\":\"scene\"},{\"line\":{\"color\":\"pink\"},\"mode\":\"lines\",\"name\":\"Wrist to 1\",\"x\":[1.6037130848694177,1.7037044609561351],\"y\":[1.107178653951821,1.099677839547706],\"z\":[1.9375350440163643,1.9375350440163643],\"type\":\"scatter3d\",\"scene\":\"scene\"},{\"line\":{\"color\":\"pink\"},\"mode\":\"lines\",\"name\":\"Wrist to 1\",\"x\":[2.5985743491076727,2.541288908537371],\"y\":[1.6569136663399893,1.6760066484595546],\"z\":[0.0,0.0],\"type\":\"scatter3d\",\"scene\":\"scene\"},{\"line\":{\"color\":\"pink\"},\"mode\":\"lines\",\"name\":\"Wrist to 5\",\"x\":[1.6037130848694177,1.906200473020819],\"y\":[1.107178653951821,1.044678361462468],\"z\":[1.9375350440163643,2.1155933378103255],\"type\":\"scatter3d\",\"scene\":\"scene\"},{\"line\":{\"color\":\"pink\"},\"mode\":\"lines\",\"name\":\"Wrist to 5\",\"x\":[2.5985743491076727,2.3339871798847693],\"y\":[1.6569136663399893,1.6323655464719766],\"z\":[0.0,0.0],\"type\":\"scatter3d\",\"scene\":\"scene\"},{\"line\":{\"color\":\"pink\"},\"mode\":\"lines\",\"name\":\"Wrist to 9\",\"x\":[1.6037130848694177,1.8587018093396959],\"y\":[1.107178653951821,1.0496789043985446],\"z\":[1.9375350440163643,2.1382581363128024],\"type\":\"scatter3d\",\"scene\":\"scene\"},{\"line\":{\"color\":\"pink\"},\"mode\":\"lines\",\"name\":\"Wrist to 9\",\"x\":[2.5985743491076727,2.3094390600167567],\"y\":[1.6569136663399893,1.6541860974657656],\"z\":[0.0,0.0],\"type\":\"scatter3d\",\"scene\":\"scene\"},{\"line\":{\"color\":\"pink\"},\"mode\":\"lines\",\"name\":\"Wrist to 13\",\"x\":[1.6037130848694177,1.8087028741905344],\"y\":[1.107178653951821,1.0696810761428512],\"z\":[1.9375350440163643,2.1738658985446313],\"type\":\"scatter3d\",\"scene\":\"scene\"},{\"line\":{\"color\":\"pink\"},\"mode\":\"lines\",\"name\":\"Wrist to 13\",\"x\":[2.5985743491076727,2.3067114911425333],\"y\":[1.6569136663399893,1.6705515107111075],\"z\":[0.0,0.0],\"type\":\"scatter3d\",\"scene\":\"scene\"},{\"line\":{\"color\":\"pink\"},\"mode\":\"lines\",\"name\":\"Wrist to 17\",\"x\":[1.6037130848694177,1.7612042105094117],\"y\":[1.107178653951821,1.1046783824837827],\"z\":[1.9375350440163643,2.1900559680766305],\"type\":\"scatter3d\",\"scene\":\"scene\"},{\"line\":{\"color\":\"pink\"},\"mode\":\"lines\",\"name\":\"Wrist to 17\",\"x\":[2.5985743491076727,2.3094390600167567],\"y\":[1.6569136663399893,1.689644492830673],\"z\":[0.0,0.0],\"type\":\"scatter3d\",\"scene\":\"scene\"},{\"mode\":\"markers\",\"name\":\"Frame 2 Left Hand\",\"x\":[2.633707476260312,2.5569100564850786,2.4536289558568063,2.3821322132761176,2.2947400074850237,2.3847792676867763,2.305334793500885,2.265609272221326,2.2285373737256524,2.3794785904922318,2.297387061895682,2.2523674317948057,2.220589642120449,2.387426322097435,2.3185766339274045,2.276204058237187,2.2735570038265287,2.4271518433769943,2.3477008008178757,2.3079818479115435,2.281498167058504],\"y\":[1.4679723009738765,1.5103448766640943,1.5103448766640943,1.4732664097951933,1.470619355384535,1.4044167216251633,1.4123578848571388,1.417658562051683,1.4335474568888615,1.4123578848571388,1.4203056164623418,1.430900402478203,1.4467892973153813,1.4282467796943172,1.430900402478203,1.4388415657101785,1.4467892973153813,1.4335474568888615,1.4494363517260398,1.4467892973153813,1.4547304605473566],\"z\":[1.7070545180794785,1.8043518306975528,1.7719172037004522,1.7195278588383878,2.053844919368648,1.8841904072770905,1.9266023932066731,1.9864796835480194,2.0463569738893663,1.861733139212472,1.9116330706213365,1.9765023246155375,2.006440969786211,1.8492597984535628,1.8991597298624272,1.9415717157920096,1.9665183973098281,1.8193211532828897,1.861733139212472,1.9016557116888546,1.9116330706213365],\"type\":\"scatter3d\",\"scene\":\"scene2\"},{\"mode\":\"markers\",\"name\":\"Frame 2 Right Hand\",\"x\":[1.7902363966317834,1.8724198824535172,1.9655594148186217,1.9874715079053629,1.9874715079053629,2.023085227544545,2.025824239180387,2.014868192637017,2.0066511577294888,1.9874715079053629,1.9600813915469366,1.9162506370002268,1.8970709871761013,1.924467671907755,1.9025490104477865,1.8724198824535172,1.8587182559010769,1.8614572675369194,1.8532402326293917,1.8285891279068076,1.8176265129902098],\"y\":[1.756593188960834,1.7867288853283303,1.8634343478783788,1.9757469616943821,2.008621669697721,1.953834868607641,2.0825815522387,2.1483309682453777,2.1949007344279297,1.981224984966067,2.0825815522387,2.0606694591519585,2.025055739512777,1.9949200431452805,2.0825815522387,2.0606694591519585,2.025055739512777,1.9976590547811228,2.0825815522387,2.063408470787801,2.033272774420305],\"z\":[1.9590895671895934,2.005527965907597,1.9838523342570433,1.986952606420395,1.9590895671895934,2.0519663646256,2.0179093494413216,1.9405142077023918,1.909550896308238,2.104592170923852,2.024103325394798,1.9343202317489157,1.8909755368210366,2.0643477481593253,2.036484708928523,1.9343202317489157,1.8816878570774356,2.101498467133728,2.036484708928523,1.9559892950262412,1.8816878570774356],\"type\":\"scatter3d\",\"scene\":\"scene2\"},{\"line\":{\"color\":\"blue\"},\"mode\":\"lines\",\"x\":[2.633707476260312,2.5569100564850786],\"y\":[1.4679723009738765,1.5103448766640943],\"z\":[1.7070545180794785,1.8043518306975528],\"type\":\"scatter3d\",\"scene\":\"scene2\"},{\"line\":{\"color\":\"red\"},\"mode\":\"lines\",\"x\":[1.7902363966317834,1.8724198824535172],\"y\":[1.756593188960834,1.7867288853283303],\"z\":[1.9590895671895934,2.005527965907597],\"type\":\"scatter3d\",\"scene\":\"scene2\"},{\"line\":{\"color\":\"blue\"},\"mode\":\"lines\",\"name\":\"Thumb\",\"x\":[1.8724198824535172,1.9655594148186217,1.9874715079053629,1.9874715079053629],\"y\":[1.7867288853283303,1.8634343478783788,1.9757469616943821,2.008621669697721],\"z\":[2.005527965907597,1.9838523342570433,1.986952606420395,1.9590895671895934],\"type\":\"scatter3d\",\"scene\":\"scene2\"},{\"line\":{\"color\":\"red\"},\"mode\":\"lines\",\"name\":\"Thumb\",\"x\":[2.5569100564850786,2.4536289558568063,2.3821322132761176,2.2947400074850237],\"y\":[1.5103448766640943,1.5103448766640943,1.4732664097951933,1.470619355384535],\"z\":[1.8043518306975528,1.7719172037004522,1.7195278588383878,2.053844919368648],\"type\":\"scatter3d\",\"scene\":\"scene2\"},{\"line\":{\"color\":\"blue\"},\"mode\":\"lines\",\"name\":\"Thumb\",\"x\":[2.023085227544545,2.025824239180387,2.014868192637017,2.0066511577294888],\"y\":[1.953834868607641,2.0825815522387,2.1483309682453777,2.1949007344279297],\"z\":[2.0519663646256,2.0179093494413216,1.9405142077023918,1.909550896308238],\"type\":\"scatter3d\",\"scene\":\"scene2\"},{\"line\":{\"color\":\"red\"},\"mode\":\"lines\",\"name\":\"Thumb\",\"x\":[2.3847792676867763,2.305334793500885,2.265609272221326,2.2285373737256524],\"y\":[1.4044167216251633,1.4123578848571388,1.417658562051683,1.4335474568888615],\"z\":[1.8841904072770905,1.9266023932066731,1.9864796835480194,2.0463569738893663],\"type\":\"scatter3d\",\"scene\":\"scene2\"},{\"line\":{\"color\":\"blue\"},\"mode\":\"lines\",\"name\":\"Thumb\",\"x\":[1.9874715079053629,1.9600813915469366,1.9162506370002268,1.8970709871761013],\"y\":[1.981224984966067,2.0825815522387,2.0606694591519585,2.025055739512777],\"z\":[2.104592170923852,2.024103325394798,1.9343202317489157,1.8909755368210366],\"type\":\"scatter3d\",\"scene\":\"scene2\"},{\"line\":{\"color\":\"red\"},\"mode\":\"lines\",\"name\":\"Thumb\",\"x\":[2.3794785904922318,2.297387061895682,2.2523674317948057,2.220589642120449],\"y\":[1.4123578848571388,1.4203056164623418,1.430900402478203,1.4467892973153813],\"z\":[1.861733139212472,1.9116330706213365,1.9765023246155375,2.006440969786211],\"type\":\"scatter3d\",\"scene\":\"scene2\"},{\"line\":{\"color\":\"blue\"},\"mode\":\"lines\",\"name\":\"Thumb\",\"x\":[1.924467671907755,1.9025490104477865,1.8724198824535172,1.8587182559010769],\"y\":[1.9949200431452805,2.0825815522387,2.0606694591519585,2.025055739512777],\"z\":[2.0643477481593253,2.036484708928523,1.9343202317489157,1.8816878570774356],\"type\":\"scatter3d\",\"scene\":\"scene2\"},{\"line\":{\"color\":\"red\"},\"mode\":\"lines\",\"name\":\"Thumb\",\"x\":[2.387426322097435,2.3185766339274045,2.276204058237187,2.2735570038265287],\"y\":[1.4282467796943172,1.430900402478203,1.4388415657101785,1.4467892973153813],\"z\":[1.8492597984535628,1.8991597298624272,1.9415717157920096,1.9665183973098281],\"type\":\"scatter3d\",\"scene\":\"scene2\"},{\"line\":{\"color\":\"blue\"},\"mode\":\"lines\",\"name\":\"Thumb\",\"x\":[1.8614572675369194,1.8532402326293917,1.8285891279068076,1.8176265129902098],\"y\":[1.9976590547811228,2.0825815522387,2.063408470787801,2.033272774420305],\"z\":[2.101498467133728,2.036484708928523,1.9559892950262412,1.8816878570774356],\"type\":\"scatter3d\",\"scene\":\"scene2\"},{\"line\":{\"color\":\"red\"},\"mode\":\"lines\",\"name\":\"Thumb\",\"x\":[2.4271518433769943,2.3477008008178757,2.3079818479115435,2.281498167058504],\"y\":[1.4335474568888615,1.4494363517260398,1.4467892973153813,1.4547304605473566],\"z\":[1.8193211532828897,1.861733139212472,1.9016557116888546,1.9116330706213365],\"type\":\"scatter3d\",\"scene\":\"scene2\"},{\"line\":{\"color\":\"pink\"},\"mode\":\"lines\",\"name\":\"Wrist to 1\",\"x\":[1.7902363966317834,1.8724198824535172],\"y\":[1.756593188960834,1.7867288853283303],\"z\":[1.9590895671895934,2.005527965907597],\"type\":\"scatter3d\",\"scene\":\"scene2\"},{\"line\":{\"color\":\"pink\"},\"mode\":\"lines\",\"name\":\"Wrist to 1\",\"x\":[2.633707476260312,2.5569100564850786],\"y\":[1.4679723009738765,1.5103448766640943],\"z\":[1.7070545180794785,1.8043518306975528],\"type\":\"scatter3d\",\"scene\":\"scene2\"},{\"line\":{\"color\":\"pink\"},\"mode\":\"lines\",\"name\":\"Wrist to 5\",\"x\":[1.7902363966317834,2.023085227544545],\"y\":[1.756593188960834,1.953834868607641],\"z\":[1.9590895671895934,2.0519663646256],\"type\":\"scatter3d\",\"scene\":\"scene2\"},{\"line\":{\"color\":\"pink\"},\"mode\":\"lines\",\"name\":\"Wrist to 5\",\"x\":[2.633707476260312,2.3847792676867763],\"y\":[1.4679723009738765,1.4044167216251633],\"z\":[1.7070545180794785,1.8841904072770905],\"type\":\"scatter3d\",\"scene\":\"scene2\"},{\"line\":{\"color\":\"pink\"},\"mode\":\"lines\",\"name\":\"Wrist to 9\",\"x\":[1.7902363966317834,1.9874715079053629],\"y\":[1.756593188960834,1.981224984966067],\"z\":[1.9590895671895934,2.104592170923852],\"type\":\"scatter3d\",\"scene\":\"scene2\"},{\"line\":{\"color\":\"pink\"},\"mode\":\"lines\",\"name\":\"Wrist to 9\",\"x\":[2.633707476260312,2.3794785904922318],\"y\":[1.4679723009738765,1.4123578848571388],\"z\":[1.7070545180794785,1.861733139212472],\"type\":\"scatter3d\",\"scene\":\"scene2\"},{\"line\":{\"color\":\"pink\"},\"mode\":\"lines\",\"name\":\"Wrist to 13\",\"x\":[1.7902363966317834,1.924467671907755],\"y\":[1.756593188960834,1.9949200431452805],\"z\":[1.9590895671895934,2.0643477481593253],\"type\":\"scatter3d\",\"scene\":\"scene2\"},{\"line\":{\"color\":\"pink\"},\"mode\":\"lines\",\"name\":\"Wrist to 13\",\"x\":[2.633707476260312,2.387426322097435],\"y\":[1.4679723009738765,1.4282467796943172],\"z\":[1.7070545180794785,1.8492597984535628],\"type\":\"scatter3d\",\"scene\":\"scene2\"},{\"line\":{\"color\":\"pink\"},\"mode\":\"lines\",\"name\":\"Wrist to 17\",\"x\":[1.7902363966317834,1.8614572675369194],\"y\":[1.756593188960834,1.9976590547811228],\"z\":[1.9590895671895934,2.101498467133728],\"type\":\"scatter3d\",\"scene\":\"scene2\"},{\"line\":{\"color\":\"pink\"},\"mode\":\"lines\",\"name\":\"Wrist to 17\",\"x\":[2.633707476260312,2.4271518433769943],\"y\":[1.4679723009738765,1.4335474568888615],\"z\":[1.7070545180794785,1.8193211532828897],\"type\":\"scatter3d\",\"scene\":\"scene2\"},{\"mode\":\"markers\",\"name\":\"Frame 3 Left Hand\",\"x\":[2.6083512900719223,2.5475271189242044,2.5044489898423383,2.5601963960404595,2.5703369915066605,2.4867094149929825,2.5297875440748485,2.600745843472271,2.6463591214206876,2.4968435432426874,2.5399281395410496,2.534857841807949,2.600745843472271,2.461364393543976,2.5221885646916937,2.5196534158251436,2.6032809923388216,2.4993786921092376,2.5120479692254927,2.3194542619656273,2.3169191130990767],\"y\":[1.3964272547474572,1.3761525310315512,1.178488526038585,1.1886226542882896,1.1886226542882896,1.1734182283054844,1.1734182283054844,1.1835588237716854,1.1886226542882896,1.1607489511892293,1.1531435045895784,1.1556786534561287,1.1379390786067731,1.178488526038585,1.148079674072974,1.1556786534561287,1.3077293805006789,1.1936929520213901,1.158213802322679,1.350813976799041,1.3584129561821956],\"z\":[1.7841045476182653,1.8149596375221206,1.7700771550377865,1.6943395826495968,1.60177431293803,1.8345941068048928,1.8009322449416423,1.837400878764288,1.8850901332080168,1.8935039818697055,1.86264889196585,1.9131384511524776,1.924359071773561,1.9187519950712675,1.929972615692351,1.946800313015728,1.927165843732956,1.969241554257895,2.0057101880805406,2.002903416121146,1.9496070849751228],\"type\":\"scatter3d\",\"scene\":\"scene3\"},{\"mode\":\"markers\",\"name\":\"Frame 3 Right Hand\",\"x\":[1.7707497455534018,1.8563562903149482,1.9474923051808322,1.97234581817612,1.9502538066247532,1.9971993311714076,2.00548383550317,1.9944378297274867,1.988914826839645,1.9612998124004364,1.9309232965173075,1.897778811973761,1.878448301866315,1.9005403134176817,1.878448301866315,1.8535947888710271,1.8508332874271065,1.842548783095344,1.82874127587574,1.8094107657682938,1.8066492643243732],\"y\":[1.8459764078383838,1.8901604309411173,1.9840579472509223,2.0779554635607274,2.15251600254659,2.050340449121519,2.1746080140979567,2.22984451019287,2.282313037627366,2.0779554635607274,2.180131016985799,2.1608005068783527,2.122139486663461,2.0890014693364107,2.180131016985799,2.155277503990511,2.116616483775619,2.0917629707803314,2.1773695155418777,2.155277503990511,2.1138549823316986],\"z\":[1.8587814965010614,1.8156969002026992,1.861859891553301,1.861859891553301,1.861859891553301,1.83723919835188,1.8587814965010614,1.83723919835188,1.7879978119490387,1.9111012779561423,1.9111012779561423,1.8187688280384424,1.769527441635601,1.9388003662098028,1.9264932532173407,1.8156969002026992,1.7633706515311218,1.991120147664884,1.9326435761053236,1.8557031014488217,1.7726058366878408],\"type\":\"scatter3d\",\"scene\":\"scene3\"},{\"line\":{\"color\":\"blue\"},\"mode\":\"lines\",\"x\":[2.6083512900719223,2.5475271189242044],\"y\":[1.3964272547474572,1.3761525310315512],\"z\":[1.7841045476182653,1.8149596375221206],\"type\":\"scatter3d\",\"scene\":\"scene3\"},{\"line\":{\"color\":\"red\"},\"mode\":\"lines\",\"x\":[1.7707497455534018,1.8563562903149482],\"y\":[1.8459764078383838,1.8901604309411173],\"z\":[1.8587814965010614,1.8156969002026992],\"type\":\"scatter3d\",\"scene\":\"scene3\"},{\"line\":{\"color\":\"blue\"},\"mode\":\"lines\",\"name\":\"Thumb\",\"x\":[1.8563562903149482,1.9474923051808322,1.97234581817612,1.9502538066247532],\"y\":[1.8901604309411173,1.9840579472509223,2.0779554635607274,2.15251600254659],\"z\":[1.8156969002026992,1.861859891553301,1.861859891553301,1.861859891553301],\"type\":\"scatter3d\",\"scene\":\"scene3\"},{\"line\":{\"color\":\"red\"},\"mode\":\"lines\",\"name\":\"Thumb\",\"x\":[2.5475271189242044,2.5044489898423383,2.5601963960404595,2.5703369915066605],\"y\":[1.3761525310315512,1.178488526038585,1.1886226542882896,1.1886226542882896],\"z\":[1.8149596375221206,1.7700771550377865,1.6943395826495968,1.60177431293803],\"type\":\"scatter3d\",\"scene\":\"scene3\"},{\"line\":{\"color\":\"blue\"},\"mode\":\"lines\",\"name\":\"Thumb\",\"x\":[1.9971993311714076,2.00548383550317,1.9944378297274867,1.988914826839645],\"y\":[2.050340449121519,2.1746080140979567,2.22984451019287,2.282313037627366],\"z\":[1.83723919835188,1.8587814965010614,1.83723919835188,1.7879978119490387],\"type\":\"scatter3d\",\"scene\":\"scene3\"},{\"line\":{\"color\":\"red\"},\"mode\":\"lines\",\"name\":\"Thumb\",\"x\":[2.4867094149929825,2.5297875440748485,2.600745843472271,2.6463591214206876],\"y\":[1.1734182283054844,1.1734182283054844,1.1835588237716854,1.1886226542882896],\"z\":[1.8345941068048928,1.8009322449416423,1.837400878764288,1.8850901332080168],\"type\":\"scatter3d\",\"scene\":\"scene3\"},{\"line\":{\"color\":\"blue\"},\"mode\":\"lines\",\"name\":\"Thumb\",\"x\":[1.9612998124004364,1.9309232965173075,1.897778811973761,1.878448301866315],\"y\":[2.0779554635607274,2.180131016985799,2.1608005068783527,2.122139486663461],\"z\":[1.9111012779561423,1.9111012779561423,1.8187688280384424,1.769527441635601],\"type\":\"scatter3d\",\"scene\":\"scene3\"},{\"line\":{\"color\":\"red\"},\"mode\":\"lines\",\"name\":\"Thumb\",\"x\":[2.4968435432426874,2.5399281395410496,2.534857841807949,2.600745843472271],\"y\":[1.1607489511892293,1.1531435045895784,1.1556786534561287,1.1379390786067731],\"z\":[1.8935039818697055,1.86264889196585,1.9131384511524776,1.924359071773561],\"type\":\"scatter3d\",\"scene\":\"scene3\"},{\"line\":{\"color\":\"blue\"},\"mode\":\"lines\",\"name\":\"Thumb\",\"x\":[1.9005403134176817,1.878448301866315,1.8535947888710271,1.8508332874271065],\"y\":[2.0890014693364107,2.180131016985799,2.155277503990511,2.116616483775619],\"z\":[1.9388003662098028,1.9264932532173407,1.8156969002026992,1.7633706515311218],\"type\":\"scatter3d\",\"scene\":\"scene3\"},{\"line\":{\"color\":\"red\"},\"mode\":\"lines\",\"name\":\"Thumb\",\"x\":[2.461364393543976,2.5221885646916937,2.5196534158251436,2.6032809923388216],\"y\":[1.178488526038585,1.148079674072974,1.1556786534561287,1.3077293805006789],\"z\":[1.9187519950712675,1.929972615692351,1.946800313015728,1.927165843732956],\"type\":\"scatter3d\",\"scene\":\"scene3\"},{\"line\":{\"color\":\"blue\"},\"mode\":\"lines\",\"name\":\"Thumb\",\"x\":[1.842548783095344,1.82874127587574,1.8094107657682938,1.8066492643243732],\"y\":[2.0917629707803314,2.1773695155418777,2.155277503990511,2.1138549823316986],\"z\":[1.991120147664884,1.9326435761053236,1.8557031014488217,1.7726058366878408],\"type\":\"scatter3d\",\"scene\":\"scene3\"},{\"line\":{\"color\":\"red\"},\"mode\":\"lines\",\"name\":\"Thumb\",\"x\":[2.4993786921092376,2.5120479692254927,2.3194542619656273,2.3169191130990767],\"y\":[1.1936929520213901,1.158213802322679,1.350813976799041,1.3584129561821956],\"z\":[1.969241554257895,2.0057101880805406,2.002903416121146,1.9496070849751228],\"type\":\"scatter3d\",\"scene\":\"scene3\"},{\"line\":{\"color\":\"pink\"},\"mode\":\"lines\",\"name\":\"Wrist to 1\",\"x\":[1.7707497455534018,1.8563562903149482],\"y\":[1.8459764078383838,1.8901604309411173],\"z\":[1.8587814965010614,1.8156969002026992],\"type\":\"scatter3d\",\"scene\":\"scene3\"},{\"line\":{\"color\":\"pink\"},\"mode\":\"lines\",\"name\":\"Wrist to 1\",\"x\":[2.6083512900719223,2.5475271189242044],\"y\":[1.3964272547474572,1.3761525310315512],\"z\":[1.7841045476182653,1.8149596375221206],\"type\":\"scatter3d\",\"scene\":\"scene3\"},{\"line\":{\"color\":\"pink\"},\"mode\":\"lines\",\"name\":\"Wrist to 5\",\"x\":[1.7707497455534018,1.9971993311714076],\"y\":[1.8459764078383838,2.050340449121519],\"z\":[1.8587814965010614,1.83723919835188],\"type\":\"scatter3d\",\"scene\":\"scene3\"},{\"line\":{\"color\":\"pink\"},\"mode\":\"lines\",\"name\":\"Wrist to 5\",\"x\":[2.6083512900719223,2.4867094149929825],\"y\":[1.3964272547474572,1.1734182283054844],\"z\":[1.7841045476182653,1.8345941068048928],\"type\":\"scatter3d\",\"scene\":\"scene3\"},{\"line\":{\"color\":\"pink\"},\"mode\":\"lines\",\"name\":\"Wrist to 9\",\"x\":[1.7707497455534018,1.9612998124004364],\"y\":[1.8459764078383838,2.0779554635607274],\"z\":[1.8587814965010614,1.9111012779561423],\"type\":\"scatter3d\",\"scene\":\"scene3\"},{\"line\":{\"color\":\"pink\"},\"mode\":\"lines\",\"name\":\"Wrist to 9\",\"x\":[2.6083512900719223,2.4968435432426874],\"y\":[1.3964272547474572,1.1607489511892293],\"z\":[1.7841045476182653,1.8935039818697055],\"type\":\"scatter3d\",\"scene\":\"scene3\"},{\"line\":{\"color\":\"pink\"},\"mode\":\"lines\",\"name\":\"Wrist to 13\",\"x\":[1.7707497455534018,1.9005403134176817],\"y\":[1.8459764078383838,2.0890014693364107],\"z\":[1.8587814965010614,1.9388003662098028],\"type\":\"scatter3d\",\"scene\":\"scene3\"},{\"line\":{\"color\":\"pink\"},\"mode\":\"lines\",\"name\":\"Wrist to 13\",\"x\":[2.6083512900719223,2.461364393543976],\"y\":[1.3964272547474572,1.178488526038585],\"z\":[1.7841045476182653,1.9187519950712675],\"type\":\"scatter3d\",\"scene\":\"scene3\"},{\"line\":{\"color\":\"pink\"},\"mode\":\"lines\",\"name\":\"Wrist to 17\",\"x\":[1.7707497455534018,1.842548783095344],\"y\":[1.8459764078383838,2.0917629707803314],\"z\":[1.8587814965010614,1.991120147664884],\"type\":\"scatter3d\",\"scene\":\"scene3\"},{\"line\":{\"color\":\"pink\"},\"mode\":\"lines\",\"name\":\"Wrist to 17\",\"x\":[2.6083512900719223,2.4993786921092376],\"y\":[1.3964272547474572,1.1936929520213901],\"z\":[1.7841045476182653,1.969241554257895],\"type\":\"scatter3d\",\"scene\":\"scene3\"}],                        {\"template\":{\"data\":{\"histogram2dcontour\":[{\"type\":\"histogram2dcontour\",\"colorbar\":{\"outlinewidth\":0,\"ticks\":\"\"},\"colorscale\":[[0.0,\"#0d0887\"],[0.1111111111111111,\"#46039f\"],[0.2222222222222222,\"#7201a8\"],[0.3333333333333333,\"#9c179e\"],[0.4444444444444444,\"#bd3786\"],[0.5555555555555556,\"#d8576b\"],[0.6666666666666666,\"#ed7953\"],[0.7777777777777778,\"#fb9f3a\"],[0.8888888888888888,\"#fdca26\"],[1.0,\"#f0f921\"]]}],\"choropleth\":[{\"type\":\"choropleth\",\"colorbar\":{\"outlinewidth\":0,\"ticks\":\"\"}}],\"histogram2d\":[{\"type\":\"histogram2d\",\"colorbar\":{\"outlinewidth\":0,\"ticks\":\"\"},\"colorscale\":[[0.0,\"#0d0887\"],[0.1111111111111111,\"#46039f\"],[0.2222222222222222,\"#7201a8\"],[0.3333333333333333,\"#9c179e\"],[0.4444444444444444,\"#bd3786\"],[0.5555555555555556,\"#d8576b\"],[0.6666666666666666,\"#ed7953\"],[0.7777777777777778,\"#fb9f3a\"],[0.8888888888888888,\"#fdca26\"],[1.0,\"#f0f921\"]]}],\"heatmap\":[{\"type\":\"heatmap\",\"colorbar\":{\"outlinewidth\":0,\"ticks\":\"\"},\"colorscale\":[[0.0,\"#0d0887\"],[0.1111111111111111,\"#46039f\"],[0.2222222222222222,\"#7201a8\"],[0.3333333333333333,\"#9c179e\"],[0.4444444444444444,\"#bd3786\"],[0.5555555555555556,\"#d8576b\"],[0.6666666666666666,\"#ed7953\"],[0.7777777777777778,\"#fb9f3a\"],[0.8888888888888888,\"#fdca26\"],[1.0,\"#f0f921\"]]}],\"heatmapgl\":[{\"type\":\"heatmapgl\",\"colorbar\":{\"outlinewidth\":0,\"ticks\":\"\"},\"colorscale\":[[0.0,\"#0d0887\"],[0.1111111111111111,\"#46039f\"],[0.2222222222222222,\"#7201a8\"],[0.3333333333333333,\"#9c179e\"],[0.4444444444444444,\"#bd3786\"],[0.5555555555555556,\"#d8576b\"],[0.6666666666666666,\"#ed7953\"],[0.7777777777777778,\"#fb9f3a\"],[0.8888888888888888,\"#fdca26\"],[1.0,\"#f0f921\"]]}],\"contourcarpet\":[{\"type\":\"contourcarpet\",\"colorbar\":{\"outlinewidth\":0,\"ticks\":\"\"}}],\"contour\":[{\"type\":\"contour\",\"colorbar\":{\"outlinewidth\":0,\"ticks\":\"\"},\"colorscale\":[[0.0,\"#0d0887\"],[0.1111111111111111,\"#46039f\"],[0.2222222222222222,\"#7201a8\"],[0.3333333333333333,\"#9c179e\"],[0.4444444444444444,\"#bd3786\"],[0.5555555555555556,\"#d8576b\"],[0.6666666666666666,\"#ed7953\"],[0.7777777777777778,\"#fb9f3a\"],[0.8888888888888888,\"#fdca26\"],[1.0,\"#f0f921\"]]}],\"surface\":[{\"type\":\"surface\",\"colorbar\":{\"outlinewidth\":0,\"ticks\":\"\"},\"colorscale\":[[0.0,\"#0d0887\"],[0.1111111111111111,\"#46039f\"],[0.2222222222222222,\"#7201a8\"],[0.3333333333333333,\"#9c179e\"],[0.4444444444444444,\"#bd3786\"],[0.5555555555555556,\"#d8576b\"],[0.6666666666666666,\"#ed7953\"],[0.7777777777777778,\"#fb9f3a\"],[0.8888888888888888,\"#fdca26\"],[1.0,\"#f0f921\"]]}],\"mesh3d\":[{\"type\":\"mesh3d\",\"colorbar\":{\"outlinewidth\":0,\"ticks\":\"\"}}],\"scatter\":[{\"fillpattern\":{\"fillmode\":\"overlay\",\"size\":10,\"solidity\":0.2},\"type\":\"scatter\"}],\"parcoords\":[{\"type\":\"parcoords\",\"line\":{\"colorbar\":{\"outlinewidth\":0,\"ticks\":\"\"}}}],\"scatterpolargl\":[{\"type\":\"scatterpolargl\",\"marker\":{\"colorbar\":{\"outlinewidth\":0,\"ticks\":\"\"}}}],\"bar\":[{\"error_x\":{\"color\":\"#2a3f5f\"},\"error_y\":{\"color\":\"#2a3f5f\"},\"marker\":{\"line\":{\"color\":\"#E5ECF6\",\"width\":0.5},\"pattern\":{\"fillmode\":\"overlay\",\"size\":10,\"solidity\":0.2}},\"type\":\"bar\"}],\"scattergeo\":[{\"type\":\"scattergeo\",\"marker\":{\"colorbar\":{\"outlinewidth\":0,\"ticks\":\"\"}}}],\"scatterpolar\":[{\"type\":\"scatterpolar\",\"marker\":{\"colorbar\":{\"outlinewidth\":0,\"ticks\":\"\"}}}],\"histogram\":[{\"marker\":{\"pattern\":{\"fillmode\":\"overlay\",\"size\":10,\"solidity\":0.2}},\"type\":\"histogram\"}],\"scattergl\":[{\"type\":\"scattergl\",\"marker\":{\"colorbar\":{\"outlinewidth\":0,\"ticks\":\"\"}}}],\"scatter3d\":[{\"type\":\"scatter3d\",\"line\":{\"colorbar\":{\"outlinewidth\":0,\"ticks\":\"\"}},\"marker\":{\"colorbar\":{\"outlinewidth\":0,\"ticks\":\"\"}}}],\"scattermapbox\":[{\"type\":\"scattermapbox\",\"marker\":{\"colorbar\":{\"outlinewidth\":0,\"ticks\":\"\"}}}],\"scatterternary\":[{\"type\":\"scatterternary\",\"marker\":{\"colorbar\":{\"outlinewidth\":0,\"ticks\":\"\"}}}],\"scattercarpet\":[{\"type\":\"scattercarpet\",\"marker\":{\"colorbar\":{\"outlinewidth\":0,\"ticks\":\"\"}}}],\"carpet\":[{\"aaxis\":{\"endlinecolor\":\"#2a3f5f\",\"gridcolor\":\"white\",\"linecolor\":\"white\",\"minorgridcolor\":\"white\",\"startlinecolor\":\"#2a3f5f\"},\"baxis\":{\"endlinecolor\":\"#2a3f5f\",\"gridcolor\":\"white\",\"linecolor\":\"white\",\"minorgridcolor\":\"white\",\"startlinecolor\":\"#2a3f5f\"},\"type\":\"carpet\"}],\"table\":[{\"cells\":{\"fill\":{\"color\":\"#EBF0F8\"},\"line\":{\"color\":\"white\"}},\"header\":{\"fill\":{\"color\":\"#C8D4E3\"},\"line\":{\"color\":\"white\"}},\"type\":\"table\"}],\"barpolar\":[{\"marker\":{\"line\":{\"color\":\"#E5ECF6\",\"width\":0.5},\"pattern\":{\"fillmode\":\"overlay\",\"size\":10,\"solidity\":0.2}},\"type\":\"barpolar\"}],\"pie\":[{\"automargin\":true,\"type\":\"pie\"}]},\"layout\":{\"autotypenumbers\":\"strict\",\"colorway\":[\"#636efa\",\"#EF553B\",\"#00cc96\",\"#ab63fa\",\"#FFA15A\",\"#19d3f3\",\"#FF6692\",\"#B6E880\",\"#FF97FF\",\"#FECB52\"],\"font\":{\"color\":\"#2a3f5f\"},\"hovermode\":\"closest\",\"hoverlabel\":{\"align\":\"left\"},\"paper_bgcolor\":\"white\",\"plot_bgcolor\":\"#E5ECF6\",\"polar\":{\"bgcolor\":\"#E5ECF6\",\"angularaxis\":{\"gridcolor\":\"white\",\"linecolor\":\"white\",\"ticks\":\"\"},\"radialaxis\":{\"gridcolor\":\"white\",\"linecolor\":\"white\",\"ticks\":\"\"}},\"ternary\":{\"bgcolor\":\"#E5ECF6\",\"aaxis\":{\"gridcolor\":\"white\",\"linecolor\":\"white\",\"ticks\":\"\"},\"baxis\":{\"gridcolor\":\"white\",\"linecolor\":\"white\",\"ticks\":\"\"},\"caxis\":{\"gridcolor\":\"white\",\"linecolor\":\"white\",\"ticks\":\"\"}},\"coloraxis\":{\"colorbar\":{\"outlinewidth\":0,\"ticks\":\"\"}},\"colorscale\":{\"sequential\":[[0.0,\"#0d0887\"],[0.1111111111111111,\"#46039f\"],[0.2222222222222222,\"#7201a8\"],[0.3333333333333333,\"#9c179e\"],[0.4444444444444444,\"#bd3786\"],[0.5555555555555556,\"#d8576b\"],[0.6666666666666666,\"#ed7953\"],[0.7777777777777778,\"#fb9f3a\"],[0.8888888888888888,\"#fdca26\"],[1.0,\"#f0f921\"]],\"sequentialminus\":[[0.0,\"#0d0887\"],[0.1111111111111111,\"#46039f\"],[0.2222222222222222,\"#7201a8\"],[0.3333333333333333,\"#9c179e\"],[0.4444444444444444,\"#bd3786\"],[0.5555555555555556,\"#d8576b\"],[0.6666666666666666,\"#ed7953\"],[0.7777777777777778,\"#fb9f3a\"],[0.8888888888888888,\"#fdca26\"],[1.0,\"#f0f921\"]],\"diverging\":[[0,\"#8e0152\"],[0.1,\"#c51b7d\"],[0.2,\"#de77ae\"],[0.3,\"#f1b6da\"],[0.4,\"#fde0ef\"],[0.5,\"#f7f7f7\"],[0.6,\"#e6f5d0\"],[0.7,\"#b8e186\"],[0.8,\"#7fbc41\"],[0.9,\"#4d9221\"],[1,\"#276419\"]]},\"xaxis\":{\"gridcolor\":\"white\",\"linecolor\":\"white\",\"ticks\":\"\",\"title\":{\"standoff\":15},\"zerolinecolor\":\"white\",\"automargin\":true,\"zerolinewidth\":2},\"yaxis\":{\"gridcolor\":\"white\",\"linecolor\":\"white\",\"ticks\":\"\",\"title\":{\"standoff\":15},\"zerolinecolor\":\"white\",\"automargin\":true,\"zerolinewidth\":2},\"scene\":{\"xaxis\":{\"backgroundcolor\":\"#E5ECF6\",\"gridcolor\":\"white\",\"linecolor\":\"white\",\"showbackground\":true,\"ticks\":\"\",\"zerolinecolor\":\"white\",\"gridwidth\":2},\"yaxis\":{\"backgroundcolor\":\"#E5ECF6\",\"gridcolor\":\"white\",\"linecolor\":\"white\",\"showbackground\":true,\"ticks\":\"\",\"zerolinecolor\":\"white\",\"gridwidth\":2},\"zaxis\":{\"backgroundcolor\":\"#E5ECF6\",\"gridcolor\":\"white\",\"linecolor\":\"white\",\"showbackground\":true,\"ticks\":\"\",\"zerolinecolor\":\"white\",\"gridwidth\":2}},\"shapedefaults\":{\"line\":{\"color\":\"#2a3f5f\"}},\"annotationdefaults\":{\"arrowcolor\":\"#2a3f5f\",\"arrowhead\":0,\"arrowwidth\":1},\"geo\":{\"bgcolor\":\"white\",\"landcolor\":\"#E5ECF6\",\"subunitcolor\":\"white\",\"showland\":true,\"showlakes\":true,\"lakecolor\":\"white\"},\"title\":{\"x\":0.05},\"mapbox\":{\"style\":\"light\"}}},\"scene\":{\"domain\":{\"x\":[0.0,0.2888888888888889],\"y\":[0.0,1.0]},\"xaxis\":{\"title\":{\"text\":\"X Axis\"}},\"yaxis\":{\"title\":{\"text\":\"Y Axis\"}},\"zaxis\":{\"title\":{\"text\":\"Z Axis\"}}},\"scene2\":{\"domain\":{\"x\":[0.35555555555555557,0.6444444444444445],\"y\":[0.0,1.0]},\"xaxis\":{\"title\":{\"text\":\"X Axis\"}},\"yaxis\":{\"title\":{\"text\":\"Y Axis\"}},\"zaxis\":{\"title\":{\"text\":\"Z Axis\"}}},\"scene3\":{\"domain\":{\"x\":[0.7111111111111111,1.0],\"y\":[0.0,1.0]},\"xaxis\":{\"title\":{\"text\":\"X Axis\"}},\"yaxis\":{\"title\":{\"text\":\"Y Axis\"}},\"zaxis\":{\"title\":{\"text\":\"Z Axis\"}}},\"title\":{\"text\":\"3D Plots of Left and Right Hand Skeletons Across Frames\"},\"height\":600,\"width\":1800},                        {\"responsive\": true}                    ).then(function(){\n",
       "                            \n",
       "var gd = document.getElementById('b01daf08-410a-4aa3-beea-ce4f82b11da8');\n",
       "var x = new MutationObserver(function (mutations, observer) {{\n",
       "        var display = window.getComputedStyle(gd).display;\n",
       "        if (!display || display === 'none') {{\n",
       "            console.log([gd, 'removed!']);\n",
       "            Plotly.purge(gd);\n",
       "            observer.disconnect();\n",
       "        }}\n",
       "}});\n",
       "\n",
       "// Listen for the removal of the full notebook cells\n",
       "var notebookContainer = gd.closest('#notebook-container');\n",
       "if (notebookContainer) {{\n",
       "    x.observe(notebookContainer, {childList: true});\n",
       "}}\n",
       "\n",
       "// Listen for the clearing of the current output cell\n",
       "var outputEl = gd.closest('.output');\n",
       "if (outputEl) {{\n",
       "    x.observe(outputEl, {childList: true});\n",
       "}}\n",
       "\n",
       "                        })                };                });            </script>        </div>"
      ]
     },
     "metadata": {},
     "output_type": "display_data"
    }
   ],
   "source": [
    "import json\n",
    "import plotly.graph_objects as go\n",
    "from plotly.subplots import make_subplots\n",
    "\n",
    "# Load your data\n",
    "file_path = '/Users/ck/Documents/Year 4/PR400/asl-skeleton3d/normalized/3d/deep-115614.json'\n",
    "with open(file_path, 'r') as file:\n",
    "    data_new = json.load(file)\n",
    "\n",
    "# Number of frames to plot\n",
    "num_frames = len(data_new['frames'])\n",
    "\n",
    "# Create subplots\n",
    "fig = make_subplots(rows=1, cols=num_frames, \n",
    "                    specs=[[{'type': 'scatter3d'} for _ in range(num_frames)]])\n",
    "\n",
    "# Loop through each frame and create a plot for both hands\n",
    "for i in range(num_frames):\n",
    "    # Extract points for left hand\n",
    "    x_left = data_new['frames'][i]['skeleton']['hand_left']['x']\n",
    "    y_left = data_new['frames'][i]['skeleton']['hand_left']['y']\n",
    "    z_left = data_new['frames'][i]['skeleton']['hand_left']['z']\n",
    "\n",
    "    # Extract points for right hand\n",
    "    x_right = data_new['frames'][i]['skeleton']['hand_right']['x']\n",
    "    y_right = data_new['frames'][i]['skeleton']['hand_right']['y']\n",
    "    z_right = data_new['frames'][i]['skeleton']['hand_right']['z']\n",
    "\n",
    "    # Add scatter plot for left hand points\n",
    "    fig.add_trace(go.Scatter3d(x=x_left, y=y_left, z=z_left, mode='markers', name=f'Frame {i+1} Left Hand'), row=1, col=i+1)\n",
    "\n",
    "    # Add scatter plot for right hand points\n",
    "    fig.add_trace(go.Scatter3d(x=x_right, y=y_right, z=z_right, mode='markers', name=f'Frame {i+1} Right Hand'), row=1, col=i+1)\n",
    "\n",
    "    fig.add_trace(go.Scatter3d(x=[x_left[0], x_left[1]], y=[y_left[0], y_left[1]], z=[z_left[0], z_left[1]], mode='lines', line=dict(color='blue')), row=1, col=i+1)\n",
    "    fig.add_trace(go.Scatter3d(x=[x_right[0], x_right[1]], y=[y_right[0], y_right[1]], z=[z_right[0], z_right[1]], mode='lines', line=dict(color='red')), row=1, col=i+1)\n",
    "    \n",
    "    fig.add_trace(go.Scatter3d(x=[x_right[1], x_right[2], x_right[3], x_right[4]], y=[y_right[1], y_right[2], y_right[3], y_right[4]], z=[z_right[1], z_right[2], z_right[3], z_right[4]], mode='lines', name='Thumb', line=dict(color='blue')), row=1, col=i+1)\n",
    "    fig.add_trace(go.Scatter3d(x=[x_left[1], x_left[2], x_left[3], x_left[4]], y=[y_left[1], y_left[2], y_left[3], y_left[4]], z=[z_left[1], z_left[2], z_left[3], z_left[4]], mode='lines', name='Thumb', line=dict(color='red')), row=1, col=i+1)\n",
    "    \n",
    "    fig.add_trace(go.Scatter3d(x=[x_right[5], x_right[6], x_right[7], x_right[8]], y=[y_right[5], y_right[6], y_right[7], y_right[8]], z=[z_right[5], z_right[6], z_right[7], z_right[8]], mode='lines', name='Thumb', line=dict(color='blue')), row=1, col=i+1)\n",
    "    fig.add_trace(go.Scatter3d(x=[x_left[5], x_left[6], x_left[7], x_left[8]], y=[y_left[5], y_left[6], y_left[7], y_left[8]], z=[z_left[5], z_left[6], z_left[7], z_left[8]], mode='lines', name='Thumb', line=dict(color='red')), row=1, col=i+1)\n",
    "    \n",
    "    fig.add_trace(go.Scatter3d(x=[x_right[9], x_right[10], x_right[11], x_right[12]], y=[y_right[9], y_right[10], y_right[11], y_right[12]], z=[z_right[9], z_right[10], z_right[11], z_right[12]], mode='lines', name='Thumb', line=dict(color='blue')), row=1, col=i+1)\n",
    "    fig.add_trace(go.Scatter3d(x=[x_left[9], x_left[10], x_left[11], x_left[12]], y=[y_left[9], y_left[10], y_left[11], y_left[12]], z=[z_left[9], z_left[10], z_left[11], z_left[12]], mode='lines', name='Thumb', line=dict(color='red')), row=1, col=i+1)\n",
    "    \n",
    "    fig.add_trace(go.Scatter3d(x=[x_right[13], x_right[14], x_right[15], x_right[16]], y=[y_right[13], y_right[14], y_right[15], y_right[16]], z=[z_right[13], z_right[14], z_right[15], z_right[16]], mode='lines', name='Thumb', line=dict(color='blue')), row=1, col=i+1)\n",
    "    fig.add_trace(go.Scatter3d(x=[x_left[13], x_left[14], x_left[15], x_left[16]], y=[y_left[13], y_left[14], y_left[15], y_left[16]], z=[z_left[13], z_left[14], z_left[15], z_left[16]], mode='lines', name='Thumb', line=dict(color='red')), row=1, col=i+1)\n",
    "    \n",
    "    fig.add_trace(go.Scatter3d(x=[x_right[17], x_right[18], x_right[19], x_right[20]], y=[y_right[17], y_right[18], y_right[19], y_right[20]], z=[z_right[17], z_right[18], z_right[19], z_right[20]], mode='lines', name='Thumb', line=dict(color='blue')), row=1, col=i+1)\n",
    "    fig.add_trace(go.Scatter3d(x=[x_left[17], x_left[18], x_left[19], x_left[20]], y=[y_left[17], y_left[18], y_left[19], y_left[20]], z=[z_left[17], z_left[18], z_left[19], z_left[20]], mode='lines', name='Thumb', line=dict(color='red')), row=1, col=i+1)\n",
    "    \n",
    "    colors = ['pink', 'pink', 'pink', 'pink', 'pink']\n",
    "    for l, color in zip([1, 5, 9, 13, 17], colors):\n",
    "        fig.add_trace(go.Scatter3d(x=[x_right[0], x_right[l]], y=[y_right[0], y_right[l]], z=[z_right[0], z_right[l]], mode='lines', name=f'Wrist to {l}', line=dict(color=color)), row=1, col=i+1)\n",
    "        fig.add_trace(go.Scatter3d(x=[x_left[0], x_left[l]], y=[y_left[0], y_left[l]], z=[z_left[0], z_left[l]], mode='lines', name=f'Wrist to {l}', line=dict(color=color)), row=1, col=i+1)\n",
    "\n",
    "\n",
    "# Customize layout for each subplot\n",
    "for i in range(num_frames):\n",
    "    fig.update_layout(**{\n",
    "        f'scene{i+1}_xaxis_title': 'X Axis',\n",
    "        f'scene{i+1}_yaxis_title': 'Y Axis',\n",
    "        f'scene{i+1}_zaxis_title': 'Z Axis'\n",
    "    })\n",
    "\n",
    "# Update overall layout\n",
    "fig.update_layout(\n",
    "    title=\"3D Plots of Left and Right Hand Skeletons Across Frames\",\n",
    "    height=600,\n",
    "    width=600 * num_frames\n",
    ")\n",
    "\n",
    "# Show plot\n",
    "fig.show()\n"
   ]
  },
  {
   "cell_type": "code",
   "execution_count": 20,
   "id": "fd6e381d",
   "metadata": {},
   "outputs": [
    {
     "data": {
      "text/plain": [
       "80"
      ]
     },
     "execution_count": 20,
     "metadata": {},
     "output_type": "execute_result"
    }
   ],
   "source": [
    "import json\n",
    "import numpy as np\n",
    "import pandas as df\n",
    "import plotly.graph_objects as go\n",
    "\n",
    "# Load your data\n",
    "file_path = '/Users/ck/Documents/Year 4/PR400/recorded_data.json'\n",
    "with open(file_path, 'r') as file:\n",
    "    data_new = json.load(file)\n",
    "\n",
    "# set the lists to be nothing\n",
    "x_left_frames = []\n",
    "y_left_frames = []\n",
    "z_left_frames = []\n",
    "x_right_frames = []\n",
    "y_right_frames = []\n",
    "z_right_frames = []\n",
    "\n",
    "fingers = ['thumb', 'index', 'middle', 'ring', 'pinky']\n",
    "bones = ['distal', 'intermediate', 'metacarpal', 'proximal']\n",
    "\n",
    "for frame in range(len(data_new['Left'])):\n",
    "    for i, finger in enumerate(fingers):\n",
    "        for j, bone in enumerate(bones):\n",
    "            x_left_frames.append(data_new['Left'][frame][finger][bone][0])\n",
    "            y_left_frames.append(data_new['Left'][frame][finger][bone][1])\n",
    "            z_left_frames.append(data_new['Left'][frame][finger][bone][2])\n",
    "            x_right_frames.append(data_new['Right'][frame][finger][bone][0])\n",
    "            x_right_frames.append(data_new['Right'][frame][finger][bone][1])\n",
    "            x_right_frames.append(data_new['Right'][frame][finger][bone][2])\n",
    "\n",
    "\n",
    "\n",
    "\n",
    "\n",
    "\n",
    "\n",
    "\n",
    "\n",
    "\n"
   ]
  },
  {
   "cell_type": "code",
   "execution_count": null,
   "id": "fccbf2f6",
   "metadata": {},
   "outputs": [],
   "source": []
  },
  {
   "cell_type": "code",
   "execution_count": null,
   "id": "1db28023",
   "metadata": {},
   "outputs": [],
   "source": []
  }
 ],
 "metadata": {
  "kernelspec": {
   "display_name": "Python 3 (ipykernel)",
   "language": "python",
   "name": "python3"
  },
  "language_info": {
   "codemirror_mode": {
    "name": "ipython",
    "version": 3
   },
   "file_extension": ".py",
   "mimetype": "text/x-python",
   "name": "python",
   "nbconvert_exporter": "python",
   "pygments_lexer": "ipython3",
   "version": "3.11.5"
  }
 },
 "nbformat": 4,
 "nbformat_minor": 5
}
